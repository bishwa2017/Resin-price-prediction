{
 "cells": [
  {
   "cell_type": "code",
   "execution_count": 8,
   "metadata": {},
   "outputs": [
    {
     "name": "stdout",
     "output_type": "stream",
     "text": [
      "Requirement already satisfied: bs4 in c:\\users\\bisue\\anaconda2\\lib\\site-packages (0.0.1)\n",
      "Requirement already satisfied: beautifulsoup4 in c:\\users\\bisue\\anaconda2\\lib\\site-packages (from bs4) (4.9.3)\n",
      "Requirement already satisfied: soupsieve>1.2; python_version >= \"3.0\" in c:\\users\\bisue\\anaconda2\\lib\\site-packages (from beautifulsoup4->bs4) (2.0.1)\n",
      "Requirement already satisfied: requests in c:\\users\\bisue\\anaconda2\\lib\\site-packages (2.24.0)\n",
      "Requirement already satisfied: idna<3,>=2.5 in c:\\users\\bisue\\anaconda2\\lib\\site-packages (from requests) (2.10)\n",
      "Requirement already satisfied: certifi>=2017.4.17 in c:\\users\\bisue\\anaconda2\\lib\\site-packages (from requests) (2020.6.20)\n",
      "Requirement already satisfied: chardet<4,>=3.0.2 in c:\\users\\bisue\\anaconda2\\lib\\site-packages (from requests) (3.0.4)\n",
      "Requirement already satisfied: urllib3!=1.25.0,!=1.25.1,<1.26,>=1.21.1 in c:\\users\\bisue\\anaconda2\\lib\\site-packages (from requests) (1.25.11)\n",
      "Requirement already satisfied: lxml in c:\\users\\bisue\\anaconda2\\lib\\site-packages (4.6.1)\n",
      "Requirement already satisfied: html5lib in c:\\users\\bisue\\anaconda2\\lib\\site-packages (1.1)\n",
      "Requirement already satisfied: six>=1.9 in c:\\users\\bisue\\anaconda2\\lib\\site-packages (from html5lib) (1.15.0)\n",
      "Requirement already satisfied: webencodings in c:\\users\\bisue\\anaconda2\\lib\\site-packages (from html5lib) (0.5.1)\n"
     ]
    }
   ],
   "source": [
    "!pip install bs4\n",
    "!pip install requests\n",
    "!pip install lxml\n",
    "!pip install html5lib"
   ]
  },
  {
   "cell_type": "code",
   "execution_count": 9,
   "metadata": {},
   "outputs": [],
   "source": [
    "from bs4 import BeautifulSoup\n",
    "import requests"
   ]
  },
  {
   "cell_type": "code",
   "execution_count": 10,
   "metadata": {},
   "outputs": [
    {
     "data": {
      "text/plain": [
       "<Response [200]>"
      ]
     },
     "execution_count": 10,
     "metadata": {},
     "output_type": "execute_result"
    }
   ],
   "source": [
    "page=requests.get(\"https://www.theplasticsexchange.com/default.aspx\")\n",
    "page"
   ]
  },
  {
   "cell_type": "code",
   "execution_count": 11,
   "metadata": {},
   "outputs": [
    {
     "data": {
      "text/plain": [
       "b'\\r\\n<!DOCTYPE html PUBLIC \"-//W3C//DTD XHTML 1.0 Transitional//EN\" \"http://www.w3.org/TR/xhtml1/DTD/xhtml1-transitional.dtd\">\\r\\n<html xmlns=\"http://www.w3.org/1999/xhtml\">\\r\\n<head id=\"ctl00_Head1\">\\r\\n    <!-- Mimic Internet Explorer 7 -->\\r\\n    <meta http-equiv=\"X-UA-Compatible\" content=\"IE=EmulateIE7\" /><title>\\r\\n\\tThe Plastics Exchange: Commodity Plastic Resin, Buy Resin, Sell Resin, Plastic\\r\\n</title><meta name=\"description\" content=\"The spot market for buying and selling commodity grade plastic resins and a trusted source of market intelligence.\" /><meta name=\"keywords\" content=\"Polyethylene, Monomer, Polyethylene, Widespec, Offgrade, Feedstock, Polystyrene, Plastic, Resin, Polypropylene, chemicals, plastics, detergents, transaction, fulfillment, exchange, commodity, supplier, buy, sell, trade, marketplace, petrochemical, negotiation\" /><meta name=\"resource-type\" content=\"document\" /><meta name=\"GOOGLEBOT\" content=\"NOARCHIVE\" /><meta name=\"robots\" content=\"noarchive\" /><meta name=\"classification\" content=\"Plastics Trading\" /><meta name=\"robots\" content=\"ALL\" /><meta name=\"distribution\" content=\"Global\" /><meta name=\"rating\" content=\"General\" /><link href=\"/styles/TPENewStyles.css\" type=\"text/css\" rel=\"stylesheet\" /><link href=\"/styles/TPEMenu.css\" type=\"text/css\" rel=\"stylesheet\" /><link href=\"/styles/Template.css\" type=\"text/css\" rel=\"stylesheet\" /><link href=\"/styles/ContextMenu.css\" type=\"text/css\" rel=\"stylesheet\" /><link rel=\"shortcut icon\" href=\"/favicon.ico\" type=\"image/x-icon\" />\\r\\n\\r\\n <script language=\"javascript\" type=\"text/javascript\">\\r\\n    function clientActiveTabChanged(sender, args) \\r\\n    {         \\r\\n        var spot = document.getElementById(\"ctl00_cphMain_lblSpotChartID\").innerHTML;     \\r\\n        var contract = document.getElementById(\"ctl00_cphMain_lblContractChartID\").innerHTML;         \\r\\n         \\r\\n        if(sender.get_activeTabIndex() == 0)\\r\\n        {   \\r\\n            document.getElementsByName(\"ChartImg\")[0].src = \"/Research/Charts/home/Spot_\" + spot + \".png\";            \\r\\n        }\\r\\n        if(sender.get_activeTabIndex() == 1)\\r\\n        {\\r\\n            document.getElementsByName(\"ChartImg\")[0].src = \"/Research/Charts/home/Contract_\" + contract + \".png\";                    \\r\\n        }            \\r\\n    }\\r\\n</script>\\r\\n\\r\\n\\r\\n    <style type=\"text/css\">\\r\\n    .WhiteLink a:link {color:#FFFFFF; font-size: 13px;}\\r\\n    .WhiteLink a:visited {color:#FFFFFF; font-size: 13px;}\\r\\n    .WhiteLink a:hover {color:#FFFFFF; font-size: 13px;}\\r\\n    .OrangeLink a:link {color:#FD9D00; font-size: 12px;}\\r\\n    .OrangeLink a:visited {color:#FD9D00; font-size: 12px;}\\r\\n    .OrangeLink a:hover {color:#FD9D00; font-size: 12px;}\\r\\n    .RedLink a:link {color:red; font-size: 15px;}\\r\\n    .RedLink a:visited {color:red; font-size: 15px;}\\r\\n    .RedLink a:hover {color:red; font-size: 15px;}\\r\\n    .LinkNormal { text-align: left;}\\r\\n    .Content \\t{\\r\\n\\t\\t\\tfont-family: Verdana, Arial, Helvetica, sans-serif;\\r\\n\\t\\t\\tfont-size: 10px;\\r\\n\\t\\t\\tfont-style: normal;\\r\\n\\t\\t\\tline-height: normal;\\r\\n\\t\\t\\tfont-variant: normal;\\r\\n\\t\\t\\tpadding-left: 2px;\\r\\n\\t\\t\\t}\\r\\n\\t\\t\\t\\r\\n\\t.ChartContent \\t{\\r\\n\\t\\t\\tfont-family: Verdana, Arial, Helvetica, sans-serif;\\r\\n\\t\\t\\tfont-size: 13px;\\r\\n\\t\\t\\tfont-style: normal;\\r\\n\\t\\t\\tline-height: normal;\\r\\n\\t\\t\\tfont-variant: normal;\\r\\n\\t\\t\\tpadding-left: 2px;\\r\\n\\t\\t\\t}\\t\\t\\r\\n\\t\\t\\t\\r\\n    .yui .ajax__tab_header \\r\\n{\\r\\n    font-family:arial,helvetica,clean,sans-serif;\\r\\n    font-size:small;\\r\\n    border-bottom:solid 5px #FF8B00;\\r\\n}\\r\\n.yui .ajax__tab_header .ajax__tab_outer \\r\\n{\\r\\n    background: #d8d8d8 repeat-x;\\r\\n    margin:0px 0.16em 0px 0px;\\r\\n    padding:.5px 0px .5px 0px;\\r\\n    vertical-align:bottom;\\r\\n    border:solid 1px #a3a3a3;\\r\\n    border-bottom-width:0px;\\r\\n}\\r\\n.yui .ajax__tab_header .ajax__tab_tab\\r\\n{    \\r\\n    color:#000;    \\r\\n    padding:0.35em 0.35em;    \\r\\n    margin-right:0.01em;\\r\\n}\\r\\n.yui .ajax__tab_hover .ajax__tab_outer \\r\\n{\\r\\n    background: #bfdaff repeat-x left -1300px;\\r\\n}\\r\\n.yui .ajax__tab_active .ajax__tab_tab \\r\\n{\\r\\n    color:#000;    \\r\\n    font-weight: bold;\\r\\n}\\r\\n.yui .ajax__tab_active .ajax__tab_outer\\r\\n{\\r\\n    background: #FF8B00 repeat-x left -1400px;\\r\\n}\\r\\n.yui .ajax__tab_body \\r\\n{\\r\\n    font-family:verdana,tahoma,helvetica;\\r\\n    font-size:10pt;\\r\\n    padding:0.25em 0.5em;\\r\\n    background-color:#000000;    \\r\\n    border:solid 1px #808080;\\r\\n    border-top-width:0px;\\r\\n}\\r\\n\\r\\n\\r\\n\\r\\n.news .ajax__tab_header \\r\\n{\\r\\n    font-family:arial,helvetica,clean,sans-serif;\\r\\n    font-size:small;\\r\\n    border-bottom:solid 5px #FF8B00;\\r\\n}\\r\\n.news .ajax__tab_header .ajax__tab_outer \\r\\n{\\r\\n    background: #d8d8d8 repeat-x;\\r\\n    margin:0px 0.16em 0px 0px;\\r\\n    padding:.5px 0px .5px 0px;\\r\\n    vertical-align:bottom;\\r\\n    border:solid 1px #a3a3a3;\\r\\n    border-bottom-width:0px;\\r\\n}\\r\\n.news .ajax__tab_header .ajax__tab_tab\\r\\n{    \\r\\n    color:#000;    \\r\\n    padding:0.35em 0.35em;    \\r\\n    margin-right:0.01em;\\r\\n}\\r\\n.news .ajax__tab_hover .ajax__tab_outer \\r\\n{\\r\\n    background: #bfdaff repeat-x left -1300px;\\r\\n}\\r\\n.news .ajax__tab_active .ajax__tab_tab \\r\\n{\\r\\n    color:#000;    \\r\\n    font-weight: bold;\\r\\n}\\r\\n.news .ajax__tab_active .ajax__tab_outer\\r\\n{\\r\\n    background: #FF8B00 repeat-x left -1400px;\\r\\n}\\r\\n.news .ajax__tab_body \\r\\n{\\r\\n    font-family:verdana,tahoma,helvetica;\\r\\n    font-size:10pt;\\r\\n    padding:0.25em 0.5em;\\r\\n    background-color:#DBDCD7;    \\r\\n    border:solid 1px #808080;\\r\\n    border-top-width:0px;\\r\\n}\\t\\t\\t\\t\\t\\t\\r\\n    </style>\\r\\n    \\r\\n    \\r\\n    \\r\\n    \\r\\n    \\r\\n<link href=\"/WebResource.axd?d=7hl2qxFLDZyxzNxDHGK58O2sE5RfFod6c_xlsqS4aIfLRa1NDCNNOhTPEv-_xXP0T42oD9rziujlluG_O848GoKzDda9MhOmfyG9lf0saD-BfB2laqo1657KHFQGDZr3qhYWjw2&amp;t=633083862300000000\" type=\"text/css\" rel=\"stylesheet\" /><link href=\"/WebResource.axd?d=7hl2qxFLDZyxzNxDHGK58O2sE5RfFod6c_xlsqS4aIfLRa1NDCNNOhTPEv-_xXP0T42oD9rziujlluG_O848GoKzDda9MhOmfyG9lf0saD-BfB2laqo1657KHFQGDZr3qhYWjw2&amp;t=633083862300000000\" type=\"text/css\" rel=\"stylesheet\" /><link href=\"/WebResource.axd?d=7hl2qxFLDZyxzNxDHGK58O2sE5RfFod6c_xlsqS4aIfLRa1NDCNNOhTPEv-_xXP0T42oD9rziujlluG_O848GoKzDda9MhOmfyG9lf0saD-BfB2laqo1657KHFQGDZr3qhYWjw2&amp;t=633083862300000000\" type=\"text/css\" rel=\"stylesheet\" /></head>\\r\\n<body id=\"ctl00_MasterPageBody\">\\r\\n    <form name=\"aspnetForm\" method=\"post\" action=\"default.aspx\" id=\"aspnetForm\">\\r\\n<input type=\"hidden\" name=\"ctl00_cphMain_tcMarkets_ClientState\" id=\"ctl00_cphMain_tcMarkets_ClientState\" value=\"{&quot;ActiveTabIndex&quot;:0,&quot;TabState&quot;:[true,true]}\" />\\r\\n<input type=\"hidden\" name=\"__VIEWSTATE\" id=\"__VIEWSTATE\" value=\"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\" />\\r\\n\\r\\n\\r\\n<script src=\"/WebResource.axd?d=NE6TTsQqLhgVXopdTy6LeW-HVTCobglB850nJp8fYANoOo1sJYLpidGb1U8QqDURyi5CCtJcFZC6yQ0_Kai3_IP_NYg1&amp;t=636271491500000000\" type=\"text/javascript\"></script>\\r\\n<script src=\"/ScriptResource.axd?d=6x1qftnDPi8TfTHxMxKUjEbhR37JBoXwm-j4jqpsVAndaVvhZczrwwaxOklbi2W2uEQnjFlGhjHwXCdJabzvwdLUq5Z4qQMKWTUlh_8sbCgqfGE7kyT5FiDvehCqfyOAtSjn1pwsFMg_PblD3U9MJTJ4epQ1&amp;t=3f4a792d\" type=\"text/javascript\"></script>\\r\\n<script src=\"/ScriptResource.axd?d=3zPLZ4UNxan3bMw4qPlJQBMs65wfp58TtiGTvoTQLFEQ9Vv6h2HvU0fYOoAwTLoWjyL8J8c-7QtnbkaFEZoI4IubWooPQFze1GY_cAYVncTTTiYagcbNSy5w01tuzzHediX5aBB3GBPq8aXrFPfPZu_C-381&amp;t=351f73d\" type=\"text/javascript\"></script>\\r\\n<script src=\"/ScriptResource.axd?d=VDmX4OZClWj-VaS_QORuMLlpn37risZchdsOLdxr1t4UemfSpz2NGJq2UOTckTZ0DJJXqAgSPerYJp76A8NwlyVcF_PejeimpFonjFg4xHaWofWNpaQxYKRRwrl97WeIDkDQNrqo4ua_TMbWufOqLxXqv1c1&amp;t=351f73d\" type=\"text/javascript\"></script>\\r\\n<script src=\"/ScriptResource.axd?d=zLTvT9SwyHP6vtp94buhCsyyN0lfUciCl9NlFL6GLXnDMKONAbdmOeH-nhRol8dhIVyXMtq7tCMuGxZdR92DSCqJn--B5ELZJ4iPZoeXcfN7V_lT9ufW-OG8XxzqJodYwZNyX8rZU536cnhN4XcIZMW93ew1&amp;t=351f73d\" type=\"text/javascript\"></script>\\r\\n<script src=\"/ScriptResource.axd?d=uFjod1_-1eOSt57mwYCEKIvcDhNVjnadMT5vrVoyiuMiEafWIhc-dxt0ZCJvBWGBoQT2MVVwUKnuj5535uDpkRmHjNbbhU9T0rmFhtiT-uwzySDdjJRwBQ9rOBlaH7_7TiMGew2&amp;t=351f73d\" type=\"text/javascript\"></script>\\r\\n<script src=\"/ScriptResource.axd?d=UqHx69xSGpV_4oyA8Nar37NKOVz6izOXDVhTBQ9aO7ugFgJ_skyDg82IFowHrIdk--Ei5M45IHD-5amXMj14zN7x7wbddtxbpb7rAsBAoNQGxDc4nHUn1vT3xk5NJHOOLQ1ZazCnjycSOlFAjCcp2gcBp3AIbfMcAER_EhL4rxgTNTCh0&amp;t=351f73d\" type=\"text/javascript\"></script>\\r\\n<input type=\"hidden\" name=\"__VIEWSTATEGENERATOR\" id=\"__VIEWSTATEGENERATOR\" value=\"CA0B0334\" />\\r\\n        <!--Begin Context Menu -->\\r\\n        \\r\\n        <!--end Context Menu -->\\r\\n        <div id=\"ctl00_divBorder\" class=\"border BackgroundColor\" style=\"width:780px;margin-left:auto;margin-right:auto;\">\\r\\n            <table id=\"table1\" cellspacing=\"0\" cellpadding=\"0\" border=\"0\" width=\"100%\">\\r\\n                <tr>\\r\\n                    <td valign=\"top\" width=\"100%\">\\r\\n                        <table cellspacing=\"0\" cellpadding=\"0\" border=\"0\" width=\"100%\">\\r\\n                            <!--begin Login panel-->\\r\\n                            <div id=\"ctl00_pnLogin\">\\r\\n\\t                               \\r\\n\\t\\t\\t\\t                <tr>\\r\\n                                    <td width=\"648\" height=\"21\">\\r\\n                                        <a href=\"/default.aspx\">\\r\\n                                            <img height=\"51\" src=\"/pics/logo_up_r1_c1.jpg\" width=\"648\" border=\"0\"></a></td>\\r\\n                                    <td>\\r\\n                                        <table id=\"Table2\" cellspacing=\"0\" cellpadding=\"0\" border=\"0\">\\r\\n                                            <tr>\\r\\n                                                <td align=\"center\" width=\"133\" background=\"/pics/register_r1_c1.jpg\" height=\"21\">\\r\\n                                                    <span class=\"LinkNormal\"><a href=\"/Public/Registration.aspx\"\\r\\n                                                        class=\"Color2 Bold\">Register</a></span></td>\\r\\n                                            </tr>\\r\\n                                            <tr>\\r\\n                                                <td height=\"6\">\\r\\n                                                    <img height=\"13\" src=\"/pics/register_r2_c1.jpg\" width=\"133\"></td>\\r\\n                                            </tr>\\r\\n                                            <tr>\\r\\n                                                <td align=\"right\" background=\"/pics/register_r3_c1.jpg\" height=\"17\">\\r\\n                                                    <span class=\"ForgotPassword\"><a class=\"Color7\" href=\"/Public/Forgot_Password.aspx\">Forgot\\r\\n                                                        your password?</a></span></td>\\r\\n                                            </tr>\\r\\n                                        </table>\\r\\n                                    </td>\\r\\n                                    <td background=\"/images2/loggedmenu/logo_top_r1_c23.gif\">\\r\\n                                    </td>\\r\\n                                </tr>\\r\\n                                <tr>\\r\\n                                    <td width=\"648\">\\r\\n                                        <table cellspacing=\"0\" cellpadding=\"0\" border=\"0\">\\r\\n                                            <tr>\\r\\n                                                <td>\\r\\n                                                    <a href=\"/default.aspx\">\\r\\n                                                        <img height=\"53\" src=\"/pics/logo_up_r4_c2.jpg\" border=\"0\"></a></td>\\r\\n                                                <td>\\r\\n                                                    <input type=\"image\" name=\"ctl00$btnLogin\" id=\"ctl00_btnLogin\" src=\"/pics/login_image.jpg\" border=\"0\" /></td>\\r\\n                                                <td>\\r\\n                                                    <img id=\"ctl00_imgEmailPassword\" src=\"/pics/email_password_lables.jpg\" src=\"\" height=\"53\" width=\"68\" border=\"0\" /></td>\\r\\n                                            </tr>\\r\\n                                        </table>\\r\\n                                    </td>\\r\\n                                    <td background=\"/pics/fields.jpg\">\\r\\n                                        <table id=\"Table3\" cellspacing=\"0\" cellpadding=\"1\" width=\"100%\" border=\"0\">\\r\\n                                            <tr>\\r\\n                                                <td>\\r\\n                                                    <input name=\"ctl00$UserName\" type=\"text\" maxlength=\"100\" id=\"ctl00_UserName\" class=\"formzindex\" /></td>\\r\\n                                            </tr>\\r\\n                                            <tr>\\r\\n                                                <td>\\r\\n                                                    <input name=\"ctl00$Password\" type=\"password\" maxlength=\"100\" id=\"ctl00_Password\" class=\"formzindex\" /></td>\\r\\n                                            </tr>\\r\\n                                        </table>\\r\\n                                    </td>\\r\\n                                    <td background=\"/images2/loggedmenu/logo_top_r2_c23.gif\" width=\"100%\">\\r\\n                                    </td>\\r\\n                                </tr>\\r\\n                            \\r\\n</div>\\r\\n                            <!--end Login panel-->\\r\\n                            <!--begin Logout panel-->\\r\\n                            \\r\\n                            <!--end Logout panel-->\\r\\n                        </table>\\r\\n                    </td>\\r\\n                </tr>\\r\\n                <tr>\\r\\n                    <td width=\"100%\" background=\"/pics/menu/background.jpg\" align=\"left\">\\r\\n                        <table cellspacing=\"0\" cellpadding=\"0\" border=\"0\">\\r\\n                            <tr>\\r\\n                                <td width=\"100%\" background=\"/pics/menu/background.jpg\" align=\"left\">\\r\\n                                    <a href=\"#ctl00_mnuMain_SkipLink\"><img alt=\"Skip Navigation Links\" src=\"/WebResource.axd?d=djdAdkrkoaz-QtimfTzKwUrrFHECBviW001F1i-V2VkwjchibuRpLMNa88qDv24lwDX3MPfDGcMoCWeixmnbSq1evVE1&amp;t=636271491500000000\" width=\"0\" height=\"0\" border=\"0\" /></a><table id=\"ctl00_mnuMain\" cellpadding=\"0\" cellspacing=\"0\" border=\"0\">\\r\\n\\t<tr>\\r\\n\\t\\t<td onmouseover=\"Menu_HoverStatic(this)\" onmouseout=\"Menu_Unhover(this)\" onkeyup=\"Menu_Key(event)\" id=\"ctl00_mnuMainn0\"><table class=\"StaticMenuItem\" cellpadding=\"0\" cellspacing=\"0\" border=\"0\" width=\"100%\">\\r\\n\\t\\t\\t<tr>\\r\\n\\t\\t\\t\\t<td nowrap=\"nowrap\"><a class=\"StaticMenuItem\" href=\"Public/About_Us.aspx\">ABOUT US</a></td>\\r\\n\\t\\t\\t</tr>\\r\\n\\t\\t</table></td><td width=\"3\"></td><td onmouseover=\"Menu_HoverStatic(this)\" onmouseout=\"Menu_Unhover(this)\" onkeyup=\"Menu_Key(event)\" id=\"ctl00_mnuMainn1\"><table class=\"StaticMenuItem\" cellpadding=\"0\" cellspacing=\"0\" border=\"0\" width=\"100%\">\\r\\n\\t\\t\\t<tr>\\r\\n\\t\\t\\t\\t<td nowrap=\"nowrap\"><a class=\"StaticMenuItem\" href=\"Spot/Resin_Entry.aspx\">REQUEST RESIN</a></td>\\r\\n\\t\\t\\t</tr>\\r\\n\\t\\t</table></td><td width=\"3\"></td><td onmouseover=\"Menu_HoverStatic(this)\" onmouseout=\"Menu_Unhover(this)\" onkeyup=\"Menu_Key(event)\" id=\"ctl00_mnuMainn2\"><table class=\"StaticMenuItem\" cellpadding=\"0\" cellspacing=\"0\" border=\"0\" width=\"100%\">\\r\\n\\t\\t\\t<tr>\\r\\n\\t\\t\\t\\t<td nowrap=\"nowrap\"><a class=\"StaticMenuItem\" href=\"Research/WeeklyReview.aspx\">RESEARCH</a></td>\\r\\n\\t\\t\\t</tr>\\r\\n\\t\\t</table></td><td width=\"3\"></td><td onmouseover=\"Menu_HoverStatic(this)\" onmouseout=\"Menu_Unhover(this)\" onkeyup=\"Menu_Key(event)\" id=\"ctl00_mnuMainn3\"><table class=\"StaticMenuItem\" cellpadding=\"0\" cellspacing=\"0\" border=\"0\" width=\"100%\">\\r\\n\\t\\t\\t<tr>\\r\\n\\t\\t\\t\\t<td nowrap=\"nowrap\"><a class=\"StaticMenuItem\" href=\"#\">SUPPORT CENTER</a></td>\\r\\n\\t\\t\\t</tr>\\r\\n\\t\\t</table></td><td width=\"3\"></td><td onmouseover=\"Menu_HoverStatic(this)\" onmouseout=\"Menu_Unhover(this)\" onkeyup=\"Menu_Key(event)\" id=\"ctl00_mnuMainn4\"><table class=\"StaticMenuItem\" cellpadding=\"0\" cellspacing=\"0\" border=\"0\" width=\"100%\">\\r\\n\\t\\t\\t<tr>\\r\\n\\t\\t\\t\\t<td nowrap=\"nowrap\"><a class=\"StaticMenuItem\" href=\"Public/Contact_Us.aspx\">CONTACT US</a></td>\\r\\n\\t\\t\\t</tr>\\r\\n\\t\\t</table></td>\\r\\n\\t</tr>\\r\\n</table><div id=\"ctl00_mnuMainn3Items\" style=\"display:none;\">\\r\\n\\t<table border=\"0\" cellpadding=\"0\" cellspacing=\"0\">\\r\\n\\t\\t<tr onmouseover=\"Menu_HoverDynamic(this)\" onmouseout=\"Menu_Unhover(this)\" onkeyup=\"Menu_Key(event)\" id=\"ctl00_mnuMainn5\">\\r\\n\\t\\t\\t<td><table class=\"DynamicMenuItem\" cellpadding=\"0\" cellspacing=\"0\" border=\"0\" width=\"100%\">\\r\\n\\t\\t\\t\\t<tr>\\r\\n\\t\\t\\t\\t\\t<td nowrap=\"nowrap\" width=\"100%\"><a class=\"DynamicMenuItem\" href=\"Public/FAQs.aspx\">FAQ\\'s</a></td>\\r\\n\\t\\t\\t\\t</tr>\\r\\n\\t\\t\\t</table></td>\\r\\n\\t\\t</tr><tr>\\r\\n\\t\\t\\t<td><img src=\"images/menu/MenuSeparator.gif\" alt=\"\" /></td>\\r\\n\\t\\t</tr><tr onmouseover=\"Menu_HoverDynamic(this)\" onmouseout=\"Menu_Unhover(this)\" onkeyup=\"Menu_Key(event)\" id=\"ctl00_mnuMainn6\">\\r\\n\\t\\t\\t<td><table class=\"DynamicMenuItem\" cellpadding=\"0\" cellspacing=\"0\" border=\"0\" width=\"100%\">\\r\\n\\t\\t\\t\\t<tr>\\r\\n\\t\\t\\t\\t\\t<td nowrap=\"nowrap\" width=\"100%\"><a class=\"DynamicMenuItem\" href=\"Public/Glossary.aspx\">Glossary</a></td>\\r\\n\\t\\t\\t\\t</tr>\\r\\n\\t\\t\\t</table></td>\\r\\n\\t\\t</tr><tr>\\r\\n\\t\\t\\t<td><img src=\"images/menu/MenuSeparator.gif\" alt=\"\" /></td>\\r\\n\\t\\t</tr><tr onmouseover=\"Menu_HoverDynamic(this)\" onmouseout=\"Menu_Unhover(this)\" onkeyup=\"Menu_Key(event)\" id=\"ctl00_mnuMainn7\">\\r\\n\\t\\t\\t<td><table class=\"DynamicMenuItem\" cellpadding=\"0\" cellspacing=\"0\" border=\"0\" width=\"100%\">\\r\\n\\t\\t\\t\\t<tr>\\r\\n\\t\\t\\t\\t\\t<td nowrap=\"nowrap\" width=\"100%\"><a class=\"DynamicMenuItem\" href=\"Public/Careers.aspx\">Careers</a></td>\\r\\n\\t\\t\\t\\t</tr>\\r\\n\\t\\t\\t</table></td>\\r\\n\\t\\t</tr><tr>\\r\\n\\t\\t\\t<td><img src=\"images/menu/MenuSeparator.gif\" alt=\"\" /></td>\\r\\n\\t\\t</tr><tr onmouseover=\"Menu_HoverDynamic(this)\" onmouseout=\"Menu_Unhover(this)\" onkeyup=\"Menu_Key(event)\" id=\"ctl00_mnuMainn8\">\\r\\n\\t\\t\\t<td><table class=\"DynamicMenuItem\" cellpadding=\"0\" cellspacing=\"0\" border=\"0\" width=\"100%\">\\r\\n\\t\\t\\t\\t<tr>\\r\\n\\t\\t\\t\\t\\t<td nowrap=\"nowrap\" width=\"100%\"><a class=\"DynamicMenuItem\" href=\"Public/Links/LinksMain.aspx\">Plastics Links</a></td>\\r\\n\\t\\t\\t\\t</tr>\\r\\n\\t\\t\\t</table></td>\\r\\n\\t\\t</tr><tr>\\r\\n\\t\\t\\t<td><img src=\"images/menu/MenuSeparator.gif\" alt=\"\" /></td>\\r\\n\\t\\t</tr>\\r\\n\\t</table><div class=\"DynamicMenuItem\" id=\"ctl00_mnuMainn3ItemsUp\" onmouseover=\"PopOut_Up(this)\" onmouseout=\"PopOut_Stop(this)\" align=\"center\" style=\"display:none;\">\\r\\n\\t\\t<img src=\"/WebResource.axd?d=W0jzDCYKq3kLA5BPLpcmONKXFnFEl1dKhGO1zbxfEW0zkG063HS12AohPPIvTFq3YsjlBlgBJR1NGV0DaZc4ACDJsks1&amp;t=636271491500000000\" alt=\"Scroll up\" />\\r\\n\\t</div><div class=\"DynamicMenuItem\" id=\"ctl00_mnuMainn3ItemsDn\" onmouseover=\"PopOut_Down(this)\" onmouseout=\"PopOut_Stop(this)\" align=\"center\" style=\"display:none;\">\\r\\n\\t\\t<img src=\"/WebResource.axd?d=tPK7qLdYuDfuqykL-rbXnjoOWO9YfNaRu068dHmqL1T7se7OrIjoOnr_NBrnk1qomrA0IZ7nf8zkFxdlY5kZNGv6qWw1&amp;t=636271491500000000\" alt=\"Scroll down\" />\\r\\n\\t</div>\\r\\n</div><a id=\"ctl00_mnuMain_SkipLink\"></a>\\r\\n                                </td>\\r\\n                                \\r\\n                                <td>\\r\\n                                    <img src=\"/Pics/menu/menu_orange_phone-1.jpg\"></td>\\r\\n                            </tr>\\r\\n                        </table>\\r\\n                    </td>\\r\\n                </tr>\\r\\n                <tr>\\r\\n                    <td width=\"100%\" class=\"BackgroundColor\" height=\"100%\" valign=\"top\">\\r\\n                        \\r\\n    \\r\\n    \\r\\n    \\r\\n    <div align=\"left\">\\r\\n    \\r\\n\\r\\n        <table cellspacing=\"0\" cellpadding=\"0\" width=\"100%\" border=\"0\">\\r\\n            <tr>\\r\\n                <td>\\r\\n                    <div id=\"switcher-wrap\">\\r\\n\\t\\t\\t            <a id=\"one\" class=\"image-link\" href=\"#\" onClick=\"return false\"><span>Image One</span></a>\\r\\n\\t\\t\\t            <a id=\"two\" class=\"image-link\" href=\"#\" onClick=\"return false\"><span>Image Two</span></a>\\r\\n\\t\\t\\t            <a id=\"three\" class=\"image-link\" href=\"#\" onClick=\"return false\"><span>Image Three</span></a>\\r\\n\\t\\t\\t            <a id=\"four\" class=\"image-link\" href=\"#\" onClick=\"return false\"><span>Image Four</span></a>\\r\\n\\t\\t\\t            <a id=\"five\" class=\"image-link\" href=\"https://www.theplasticsexchange.com/Public/Registration.aspx\"><span>Image Five</span></a>\\r\\n\\t\\t            </div>\\t\\r\\n                    \\r\\n    </td> </tr> </table>\\r\\n    \\r\\n     </div>\\r\\n   \\r\\n\\r\\n<TABLE cellSpacing=0 cellPadding=0 width=780 align=center bgColor=#333333 border=0>\\r\\n    <TBODY>\\r\\n        <!--<TR>\\r\\n            <TD width=\"100%\" colSpan=3 height=18>\\r\\n                <APPLET height=18 width=780 code=\"menuscroll2.class\" viewastext>\\r\\n                    <PARAM NAME=\"yposition\" VALUE=\"14\">\\r\\n                    <PARAM NAME=\"arrow_color\" VALUE=\"FFFFFF\">\\r\\n                    <PARAM NAME=\"highlight_rect_color\" VALUE=\"CC6600\">\\r\\n                    <PARAM NAME=\"regcode\" VALUE=\"8mnxzaqre58g\">\\r\\n                    <PARAM NAME=\"highlight_arrow_color\" VALUE=\"CC6600\">\\r\\n                    <PARAM NAME=\"font_size\" VALUE=\"10\">\\r\\n                    <PARAM NAME=\"info\" VALUE=\"Applet by Gokhan Dagli,www.appletcollection.com\">\\r\\n                    <PARAM NAME=\"applet_height\" VALUE=\"14\">\\r\\n                    <PARAM NAME=\"text_color\" VALUE=\"000000\">\\r\\n                    <PARAM NAME=\"font_type\" VALUE=\"Arial,Verdana\">\\r\\n                    <PARAM NAME=\"space\" VALUE=\"10\">\\r\\n                    <PARAM NAME=\"bgcolor\" VALUE=\"000000\">\\r\\n                    <PARAM NAME=\"arrow_bgcolor\" VALUE=\"000000\">\\r\\n                    <PARAM NAME=\"scroll_delay\" VALUE=\"10\">\\r\\n                    <PARAM NAME=\"highlight_text_color\" VALUE=\"FFFFFF\">\\r\\n                    <PARAM NAME=\"mouse_over\" VALUE=\"stop\">\\r\\n                    <PARAM NAME=\"rect_color\" VALUE=\"CCCCCC\">\\r\\n                    <PARAM NAME=\"border_color\" VALUE=\"000000\">\\r\\n                    <PARAM NAME=\"applet_width\" VALUE=\"100%\">\\r\\n                    <PARAM NAME=\"xspace\" VALUE=\"1\">\\r\\n                    <PARAM NAME=\"font_style\" VALUE=\"0\">\\r\\n                    <PARAM NAME=\"scroll_jump\" VALUE=\"1\">\\r\\n                    <param name=text0 value=\\'3 TL Bags PP Homopolymer - Inj Prime Raffia Melt: 3.5 $0.9600\\'><param name=link0 value=http://www.theplasticsexchange.com/Spot/Inquire.aspx?Id=72415><param name=target_frame82 value=_self><param name=text1 value=\\'4 TL Bags PP Homopolymer - Inj Prime Melt: 12 $0.9600\\'><param name=link1 value=http://www.theplasticsexchange.com/Spot/Inquire.aspx?Id=72416><param name=target_frame83 value=_self><param name=text2 value=\\'1 TL Bags PP Homopolymer - Inj Supersacks Melt: 3.8 $0.9050\\'><param name=link2 value=http://www.theplasticsexchange.com/Spot/Inquire.aspx?Id=72417><param name=target_frame84 value=_self><param name=text3 value=\\'1 TL Bags PP Copolymer - Inj Prime Melt: 28 $1.0600\\'><param name=link3 value=http://www.theplasticsexchange.com/Spot/Inquire.aspx?Id=72419><param name=target_frame85 value=_self><param name=text4 value=\\'1 TL Bags PP Copolymer - Inj Prime Melt: 12 $1.0600\\'><param name=link4 value=http://www.theplasticsexchange.com/Spot/Inquire.aspx?Id=72420><param name=target_frame86 value=_self><param name=text5 value=\\'4 TL Bags PP Copolymer - Inj Supersacks Melt: 2-2.5 $0.9800\\'><param name=link5 value=http://www.theplasticsexchange.com/Spot/Inquire.aspx?Id=72421><param name=target_frame87 value=_self><param name=text6 value=\\'2 TL Bags PP Copolymer - Inj Supersacks Melt: .7-.9 $0.9800\\'><param name=link6 value=http://www.theplasticsexchange.com/Spot/Inquire.aspx?Id=72422><param name=target_frame88 value=_self><param name=text7 value=\\'1 TL Boxes PP Copolymer - Inj  Melt: 50-55 $0.9800\\'><param name=link7 value=http://www.theplasticsexchange.com/Spot/Inquire.aspx?Id=72423><param name=target_frame89 value=_self><param name=text8 value=\\'3 TL Bags PP Copolymer - Inj Prime in Supersacks Melt: 20 $1.0100\\'><param name=link8 value=http://www.theplasticsexchange.com/Spot/Inquire.aspx?Id=72424><param name=target_frame90 value=_self><param name=text9 value=\\'2 TL Bags PP Copolymer - Inj Supersacks Melt: 2 $0.9800\\'><param name=link9 value=http://www.theplasticsexchange.com/Spot/Inquire.aspx?Id=72425><param name=target_frame91 value=_self><param name=text10 value=\\'2 TL Boxes PP Copolymer - Inj  Melt: 45-50 $0.9800\\'><param name=link10 value=http://www.theplasticsexchange.com/Spot/Inquire.aspx?Id=72426><param name=target_frame92 value=_self><param name=text11 value=\\'1 HC PP Homopolymer - Inj  Melt: 1.3 $0.8500\\'><param name=link11 value=http://www.theplasticsexchange.com/Spot/Inquire.aspx?Id=72462><param name=target_frame93 value=_self><param name=text12 value=\\'4 TL Bags HMWPE - Film  Melt: 8 HLMI Density: 0.949 $0.6750\\'><param name=link12 value=http://www.theplasticsexchange.com/Spot/Inquire.aspx?Id=72463><param name=target_frame94 value=_self><param name=text13 value=\\'2 TL Bags PP Copolymer - Inj  Melt: 20 $1.0500\\'><param name=link13 value=http://www.theplasticsexchange.com/Spot/Inquire.aspx?Id=72464><param name=target_frame95 value=_self><param name=text14 value=\\'6 TL Bags HDPE - Inj Prime Melt: 4 Density: 0.952 $0.6700\\'><param name=link14 value=http://www.theplasticsexchange.com/Spot/Inquire.aspx?Id=72470><param name=target_frame96 value=_self><param name=text15 value=\\'5 TL Boxes HMWPE - Film Generic Prime Bimodal Melt: 8.33 HLMI Density: 0.952 $0.7300\\'><param name=link15 value=http://www.theplasticsexchange.com/Spot/Inquire.aspx?Id=72477><param name=target_frame97 value=_self><param name=text16 value=\\'5 TL Boxes PP Copolymer - Inj ready late July Melt: 12 $0.9800\\'><param name=link16 value=http://www.theplasticsexchange.com/Spot/Inquire.aspx?Id=72479><param name=target_frame98 value=_self><param name=text17 value=\\'2 TL Bags PP Homopolymer - Inj Supersacks Melt: 70-80 $0.8800\\'><param name=link17 value=http://www.theplasticsexchange.com/Spot/Inquire.aspx?Id=72482><param name=target_frame99 value=_self><param name=text18 value=\\'5 TL Bags LLDPE - Inj ready end of July Melt: 18 Density: 0.931 $0.6800\\'><param name=link18 value=http://www.theplasticsexchange.com/Spot/Inquire.aspx?Id=72484><param name=target_frame100 value=_self><param name=text19 value=\\'5 TL Bags HDPE - Inj Generic Prime Melt: 4.5 Density: 0.953 $0.7200\\'><param name=link19 value=http://www.theplasticsexchange.com/Spot/Inquire.aspx?Id=72485><param name=target_frame101 value=_self><param name=text20 value=\\'1 BT PP Homopolymer - Inj boxes +.04/lb Melt: 14 $0.8700\\'><param name=link20 value=http://www.theplasticsexchange.com/Spot/Inquire.aspx?Id=72491><param name=target_frame102 value=_self><param name=text21 value=\\'1 TL Bags HDPE - Inj  Melt: 4.5 Density: 0.952 $0.6500\\'><param name=link21 value=http://www.theplasticsexchange.com/Spot/Inquire.aspx?Id=72492><param name=target_frame103 value=_self><param name=text22 value=\\'4 TL Bags HDPE - Inj good color Melt: 18 Density: 0.953 $0.6600\\'><param name=link22 value=http://www.theplasticsexchange.com/Spot/Inquire.aspx?Id=72493><param name=target_frame104 value=_self><param name=text23 value=\\'1 TL Bags PP Copolymer - Inj  Melt: 20 $0.9100\\'><param name=link23 value=http://www.theplasticsexchange.com/Spot/Inquire.aspx?Id=72494><param name=target_frame105 value=_self><param name=text24 value=\\'1 HC PP Copolymer - Inj yellow pellets Melt: 5 $0.7100\\'><param name=link24 value=http://www.theplasticsexchange.com/Spot/Inquire.aspx?Id=72495><param name=target_frame106 value=_self><param name=text25 value=\\'1 HC PP Copolymer - Inj  Melt: 14 $0.7600\\'><param name=link25 value=http://www.theplasticsexchange.com/Spot/Inquire.aspx?Id=72496><param name=target_frame107 value=_self><param name=text26 value=\\'1 HC PP Copolymer - Inj  Melt: 5 $0.6800\\'><param name=link26 value=http://www.theplasticsexchange.com/Spot/Inquire.aspx?Id=72497><param name=target_frame108 value=_self><param name=text27 value=\\'3 HC HDPE - Blow Mold Phillips Process Melt: 5 HLMI Density: 0.948 $0.6500\\'><param name=link27 value=http://www.theplasticsexchange.com/Spot/Inquire.aspx?Id=72498><param name=target_frame109 value=_self><param name=text28 value=\\'1 HC LLDPE - Film Hexene Melt: .73 Density: 0.918 $0.6800\\'><param name=link28 value=http://www.theplasticsexchange.com/Spot/Inquire.aspx?Id=72499><param name=target_frame110 value=_self><param name=text29 value=\\'1 HC LLDPE - Film Octene Melt: 1 Density: 0.920 $0.7600\\'><param name=link29 value=http://www.theplasticsexchange.com/Spot/Inquire.aspx?Id=72500><param name=target_frame111 value=_self><param name=text30 value=\\'1 HC LLDPE - Film Octene Melt: 1 Density: 0.920 $0.7600\\'><param name=link30 value=http://www.theplasticsexchange.com/Spot/Inquire.aspx?Id=72501><param name=target_frame112 value=_self><param name=text31 value=\\'1 HC LLDPE - Film Octene Melt: 2 Density: 0.920 $0.7600\\'><param name=link31 value=http://www.theplasticsexchange.com/Spot/Inquire.aspx?Id=72502><param name=target_frame113 value=_self><param name=text32 value=\\'1 HC LLDPE - Film Octene Melt: 2 Density: 0.920 $0.7600\\'><param name=link32 value=http://www.theplasticsexchange.com/Spot/Inquire.aspx?Id=72503><param name=target_frame114 value=_self><param name=text33 value=\\'2 TL Bags LLDPE - Inj ready end of July Melt: 48 Density: 0.924 $0.7000\\'><param name=link33 value=http://www.theplasticsexchange.com/Spot/Inquire.aspx?Id=72504><param name=target_frame115 value=_self><param name=text34 value=\\'3 TL Bags HMWPE - Film Prime Bimodal e-924 type Melt: 9 HLMI Density: 0.949 $0.7350\\'><param name=link34 value=http://www.theplasticsexchange.com/Spot/Inquire.aspx?Id=72505><param name=target_frame116 value=_self><param name=text35 value=\\'1 TL Bags HDPE - Inj Prime Melt: 40 Density: 0.952 $0.8500\\'><param name=link35 value=http://www.theplasticsexchange.com/Spot/Inquire.aspx?Id=72506><param name=target_frame117 value=_self><param name=text36 value=\\'4 TL Bags LDPE - Film Prime  Melt: .3 Density: 0.937 $0.8100\\'><param name=link36 value=http://www.theplasticsexchange.com/Spot/Inquire.aspx?Id=72507><param name=target_frame118 value=_self><param name=text37 value=\\'1 HC LLDPE - Film Butene Melt: 2 Density: 0.918 $0.7300\\'><param name=link37 value=http://www.theplasticsexchange.com/Spot/Inquire.aspx?Id=72509><param name=target_frame119 value=_self><param name=text38 value=\\'1 HC LLDPE - Film Prime Butene Melt: 1 Density: 0.920 $0.7400\\'><param name=link38 value=http://www.theplasticsexchange.com/Spot/Inquire.aspx?Id=72511><param name=target_frame120 value=_self><param name=text39 value=\\'1 HC LLDPE - Film Metallocene Melt: 1 Density: 0.916 $0.7650\\'><param name=link39 value=http://www.theplasticsexchange.com/Spot/Inquire.aspx?Id=72512><param name=target_frame121 value=_self><param name=text40 value=\\'1 HC HDPE - Blow Mold Prime 5502 Type Melt: .35 Density: 0.955 $0.7300\\'><param name=link40 value=http://www.theplasticsexchange.com/Spot/Inquire.aspx?Id=72513><param name=target_frame122 value=_self><param name=text0 value=\\'4 TL Bags HMWPE - Film Prime Melt: 8.5 HLMI Density: 0.949 $0.7300\\'><param name=link0 value=http://www.theplasticsexchange.com/Spot/Inquire.aspx?Id=72265><param name=target_frame0 value=_self><param name=text1 value=\\'1 TL Bags LDPE - Inj Supersacks Melt: 30-35 Density: 0.922 $0.7800\\'><param name=link1 value=http://www.theplasticsexchange.com/Spot/Inquire.aspx?Id=72268><param name=target_frame1 value=_self><param name=text2 value=\\'2 TL Bags LDPE - Inj  Melt: 8 Density: 0.920 $0.8200\\'><param name=link2 value=http://www.theplasticsexchange.com/Spot/Inquire.aspx?Id=72269><param name=target_frame2 value=_self><param name=text3 value=\\'1 TL Boxes LLDPE - Film Prime Metallocene Melt: 1 Density: 0.918 $0.7800\\'><param name=link3 value=http://www.theplasticsexchange.com/Spot/Inquire.aspx?Id=72286><param name=target_frame3 value=_self><param name=text4 value=\\'2 TL Bags LLDPE - Film Prime Hexene Melt: 1 Density: 0.918 $0.7600\\'><param name=link4 value=http://www.theplasticsexchange.com/Spot/Inquire.aspx?Id=72287><param name=target_frame4 value=_self><param name=text5 value=\\'3 TL Bags LLDPE - Film Prime Butene Melt: 1 Density: 0.920 $0.7750\\'><param name=link5 value=http://www.theplasticsexchange.com/Spot/Inquire.aspx?Id=72288><param name=target_frame5 value=_self><param name=text6 value=\\'1 TL Bags LLDPE - Film Prime Melt: .9 Density: 0.923 $0.7350\\'><param name=link6 value=http://www.theplasticsexchange.com/Spot/Inquire.aspx?Id=72289><param name=target_frame6 value=_self><param name=text7 value=\\'4 TL Bags LLDPE - Film Butene Melt: 2 Density: 0.919 $0.6700\\'><param name=link7 value=http://www.theplasticsexchange.com/Spot/Inquire.aspx?Id=72290><param name=target_frame7 value=_self><param name=text8 value=\\'2 TL Bags LLDPE - Film Metallocene Melt: 1 Density: 0.918 $0.7600\\'><param name=link8 value=http://www.theplasticsexchange.com/Spot/Inquire.aspx?Id=72291><param name=target_frame8 value=_self><param name=text9 value=\\'2 TL Bags LLDPE - Film Metallocene Melt: 1 Density: 0.918 $0.7200\\'><param name=link9 value=http://www.theplasticsexchange.com/Spot/Inquire.aspx?Id=72293><param name=target_frame9 value=_self><param name=text10 value=\\'4 TL Bags LLDPE - Film Prime Butene Melt: 2 Density: 0.920 $0.7400\\'><param name=link10 value=http://www.theplasticsexchange.com/Spot/Inquire.aspx?Id=72294><param name=target_frame10 value=_self><param name=text11 value=\\'4 TL Bags LLDPE - Film Prime Butene Melt: 1 Density: 0.918 $0.7500\\'><param name=link11 value=http://www.theplasticsexchange.com/Spot/Inquire.aspx?Id=72295><param name=target_frame11 value=_self><param name=text12 value=\\'4 TL Bags LLDPE - Film Prime Butene Melt: 1 Density: 0.918 $0.7400\\'><param name=link12 value=http://www.theplasticsexchange.com/Spot/Inquire.aspx?Id=72297><param name=target_frame12 value=_self><param name=text13 value=\\'4 TL Bags LLDPE - Film Prime Butene Melt: 2 Density: 0.920 $0.7500\\'><param name=link13 value=http://www.theplasticsexchange.com/Spot/Inquire.aspx?Id=72298><param name=target_frame13 value=_self><param name=text14 value=\\'4 TL Bags HMWPE - Film Prime Melt: 8.5 HLMI Density: 0.949 $0.7200\\'><param name=link14 value=http://www.theplasticsexchange.com/Spot/Inquire.aspx?Id=72299><param name=target_frame14 value=_self><param name=text15 value=\\'2 TL Bags HDPE - Inj  Melt: 9.39 Density: 0.951 $0.7250\\'><param name=link15 value=http://www.theplasticsexchange.com/Spot/Inquire.aspx?Id=72307><param name=target_frame15 value=_self><param name=text16 value=\\'1 TL Bags HDPE - Inj Supersacks Melt: 10.5 Density: 0.953 $0.7250\\'><param name=link16 value=http://www.theplasticsexchange.com/Spot/Inquire.aspx?Id=72308><param name=target_frame16 value=_self><param name=text17 value=\\'2 TL Bags HDPE - Inj Prime Melt: 20 Density: 0.952 $0.7950\\'><param name=link17 value=http://www.theplasticsexchange.com/Spot/Inquire.aspx?Id=72309><param name=target_frame17 value=_self><param name=text18 value=\\'1 TL Bags HDPE - Inj Supersacks Melt: 8-10 Density: 0.953 $0.7050\\'><param name=link18 value=http://www.theplasticsexchange.com/Spot/Inquire.aspx?Id=72311><param name=target_frame18 value=_self><param name=text19 value=\\'4 TL Bags HDPE - Inj Prime Crate Grade Melt: 8 Density: 0.960 $0.7850\\'><param name=link19 value=http://www.theplasticsexchange.com/Spot/Inquire.aspx?Id=72312><param name=target_frame19 value=_self><param name=text20 value=\\'4 TL Bags HDPE - Inj Prime Crate Grade Melt: 8 Density: 0.960 $0.7950\\'><param name=link20 value=http://www.theplasticsexchange.com/Spot/Inquire.aspx?Id=72313><param name=target_frame20 value=_self><param name=text21 value=\\'1 TL Bags HDPE - Inj  Melt: 33 Density: 0.952 $0.7250\\'><param name=link21 value=http://www.theplasticsexchange.com/Spot/Inquire.aspx?Id=72314><param name=target_frame21 value=_self><param name=text22 value=\\'1 TL Bags HDPE - Inj Prime Pail Grade Melt: 6.6 Density: 0.953 $0.7900\\'><param name=link22 value=http://www.theplasticsexchange.com/Spot/Inquire.aspx?Id=72316><param name=target_frame22 value=_self><param name=text23 value=\\'3 TL Bags HDPE - Inj Prime Melt: 20 Density: 0.952 $0.8100\\'><param name=link23 value=http://www.theplasticsexchange.com/Spot/Inquire.aspx?Id=72317><param name=target_frame23 value=_self><param name=text24 value=\\'4 TL Bags HDPE - Inj Prime Crate Grade Melt: 8 Density: 0.960 $0.7600\\'><param name=link24 value=http://www.theplasticsexchange.com/Spot/Inquire.aspx?Id=72320><param name=target_frame24 value=_self><param name=text25 value=\\'4 TL Bags HDPE - Inj Prime Pail Grade Melt: 7 Density: 0.953 $0.7700\\'><param name=link25 value=http://www.theplasticsexchange.com/Spot/Inquire.aspx?Id=72321><param name=target_frame25 value=_self><param name=text26 value=\\'4 TL Bags HDPE - Inj Prime Melt: 20 Density: 0.952 $0.7800\\'><param name=link26 value=http://www.theplasticsexchange.com/Spot/Inquire.aspx?Id=72322><param name=target_frame26 value=_self><param name=text27 value=\\'4 TL Bags HDPE - Inj Prime Melt: 20 Density: 0.952 $0.7500\\'><param name=link27 value=http://www.theplasticsexchange.com/Spot/Inquire.aspx?Id=72323><param name=target_frame27 value=_self><param name=text28 value=\\'4 TL Bags HDPE - Inj Prime Crate Grade Melt: 8 Density: 0.960 $0.7500\\'><param name=link28 value=http://www.theplasticsexchange.com/Spot/Inquire.aspx?Id=72324><param name=target_frame28 value=_self><param name=text29 value=\\'4 TL Bags HDPE - Inj Prime Pail Grade Melt: 7 Density: 0.953 $0.7600\\'><param name=link29 value=http://www.theplasticsexchange.com/Spot/Inquire.aspx?Id=72325><param name=target_frame29 value=_self><param name=text30 value=\\'4 TL Bags HDPE - Inj Prime Pail Grade Melt: 7 Density: 0.953 $0.7900\\'><param name=link30 value=http://www.theplasticsexchange.com/Spot/Inquire.aspx?Id=72326><param name=target_frame30 value=_self><param name=text31 value=\\'2 TL Bags HDPE - Blow Mold Prime 5502 Melt: .35 Density: 0.955 $0.7650\\'><param name=link31 value=http://www.theplasticsexchange.com/Spot/Inquire.aspx?Id=72344><param name=target_frame31 value=_self><param name=text32 value=\\'4 TL Bags HDPE - Blow Mold Prime 5502 Melt: .35 Density: 0.955 $0.7700\\'><param name=link32 value=http://www.theplasticsexchange.com/Spot/Inquire.aspx?Id=72357><param name=target_frame32 value=_self><param name=text33 value=\\'4 TL Bags HDPE - Blow Mold Prime 50100 Type Melt: 10 HLMI Density: 0.950 $0.7700\\'><param name=link33 value=http://www.theplasticsexchange.com/Spot/Inquire.aspx?Id=72358><param name=target_frame33 value=_self><param name=text34 value=\\'2 TL Bags HDPE - Blow Mold Prime 50100 Type Melt: 10 HLMI Density: 0.950 $0.7600\\'><param name=link34 value=http://www.theplasticsexchange.com/Spot/Inquire.aspx?Id=72359><param name=target_frame34 value=_self><param name=text35 value=\\'2 TL Bags HDPE - Blow Mold Prime 5502 Melt: .35 Density: 0.955 $0.7500\\'><param name=link35 value=http://www.theplasticsexchange.com/Spot/Inquire.aspx?Id=72360><param name=target_frame35 value=_self><param name=text36 value=\\'4 TL Boxes HDPE - Blow Mold Prime 6007 Type Melt: .7 Density: 0.960 $0.8300\\'><param name=link36 value=http://www.theplasticsexchange.com/Spot/Inquire.aspx?Id=72361><param name=target_frame36 value=_self><param name=text37 value=\\'2 TL Bags HDPE - Blow Mold Prime 5502 type Melt: .35 Density: 0.955 $0.7800\\'><param name=link37 value=http://www.theplasticsexchange.com/Spot/Inquire.aspx?Id=72362><param name=target_frame37 value=_self><param name=text38 value=\\'2 TL Bags HDPE - Blow Mold Prime 5502 Melt: .35 Density: 0.955 $0.7600\\'><param name=link38 value=http://www.theplasticsexchange.com/Spot/Inquire.aspx?Id=72363><param name=target_frame38 value=_self><param name=text39 value=\\'2 TL Bags HDPE - Blow Mold Prime 5502 Melt: .35 Density: 0.955 $0.7500\\'><param name=link39 value=http://www.theplasticsexchange.com/Spot/Inquire.aspx?Id=72364><param name=target_frame39 value=_self><param name=text40 value=\\'1 TL Bags HDPE - Blow Mold Prime 6007 Melt: .7 Density: 0.960 $0.8350\\'><param name=link40 value=http://www.theplasticsexchange.com/Spot/Inquire.aspx?Id=72365><param name=target_frame40 value=_self>\\r\\n                </APPLET>                 \\r\\n            </TD>\\r\\n        </TR>-->\\r\\n                \\r\\n        <TR><TD class=\"LinkNormal OrangeLink\" vAlign=middle align=left width=184 background=\"/pics/home_bar_titles_r1_c1.jpg\" height=10>\\r\\n            <STRONG class=\"Header Color1\">Resin Markets</STRONG> </TD>\\r\\n            <TD background=\"/pics/home_bar_titles_r1_c1.jpg\"></TD>\\r\\n            <TD style=\"HEIGHT: 14px\" align=left width=\"50%\" background=\"/pics/home_bar_titles_r1_c1.jpg\">\\r\\n            <DIV id=\"lblChartName\" class=\"Header Bold Color3\"></DIV></TD>\\r\\n        </TR>\\r\\n    </TBODY>\\r\\n</TABLE>\\r\\n \\r\\n\\r\\n          \\r\\n            <TABLE cellSpacing=0 cellPadding=0 width=780 align=center bgColor=#000000 border=0><TBODY><TR><TD width=390>\\r\\n                \\r\\n                          <div id=\"ctl00_cphMain_tcMarkets\" class=\"yui\">\\r\\n\\t<div id=\"ctl00_cphMain_tcMarkets_header\">\\r\\n\\t\\t<span id=\"__tab_ctl00_cphMain_tcMarkets_tbSpot\">Spot</span><span id=\"__tab_ctl00_cphMain_tcMarkets_TabPanel2\">Contract</span>\\r\\n\\t</div><div id=\"ctl00_cphMain_tcMarkets_body\">\\r\\n\\t\\t<div id=\"ctl00_cphMain_tcMarkets_tbSpot\" style=\"display:none;\">\\r\\n\\t\\t\\t\\r\\n                                    <table cellSpacing=\"0\" cellPadding=\"0\" width=\"100%\" border=\"0\">\\r\\n                                  \\r\\n\\t\\t\\t\\t\\t                    <tr>\\r\\n\\t\\t\\t\\t\\t                        <td>\\t\\t\\t\\t\\t                \\r\\n                                                <table class=\"LinkNormal WhiteLink\" cellspacing=\"0\" cellpadding=\"2\" align=\"Center\" rules=\"rows\" bordercolor=\"Black\" border=\"0\" id=\"ctl00_cphMain_tcMarkets_tbSpot_dgSpot\" bgcolor=\"Black\" width=\"100%\">\\r\\n\\t\\t\\t\\t<tr>\\r\\n\\t\\t\\t\\t\\t<td class=\"ChartContent Bold Color4\"><font color=\"White\" size=\"3\"><b>Resin</b></font></td><td class=\"ChartContent Bold Color4\"><font color=\"White\" size=\"3\"><b>Total lbs</b></font></td><td class=\"ChartContent Bold Color4\"><font color=\"White\" size=\"3\"><b>Low</b></font></td><td class=\"ChartContent Bold Color4\"><font color=\"White\" size=\"3\"><b>High</b></font></td>\\r\\n\\t\\t\\t\\t</tr><tr class=\"hspotcontent\" onclick=\"window.location =\\'/spot/Spot_Floor.aspx?Filter=9\\';\" onmouseover=\"ChartImg.src = \\'/Research/Charts/home/Spot_9.png\\';this.style.backgroundColor=\\'#FF8B00\\';this.style.cursor=\\'hand\\';\" onmouseout=\"this.style.backgroundColor=\\'black\\';this.style.cursor=\\'pointer\\';\">\\r\\n\\t\\t\\t\\t\\t<td><font color=\"White\" size=\"3\"><a href=\"/spot/Spot_Floor.aspx?Filter=9\">PP Copolymer - Inj</a></font></td><td class=\"ChartContent Bold Color4\" nowrap=\"nowrap\"><font color=\"White\" size=\"3\">1,611,472</font></td><td class=\"ChartContent Bold Color4\" nowrap=\"nowrap\"><font color=\"White\" size=\"3\">0.680</font></td><td class=\"ChartContent Bold Color4\" nowrap=\"nowrap\"><font color=\"White\" size=\"3\">1.060</font></td>\\r\\n\\t\\t\\t\\t</tr><tr class=\"hspotcontent\" onclick=\"window.location =\\'/spot/Spot_Floor.aspx?Filter=8\\';\" onmouseover=\"ChartImg.src = \\'/Research/Charts/home/Spot_8.png\\';this.style.backgroundColor=\\'#FF8B00\\';this.style.cursor=\\'hand\\';\" onmouseout=\"this.style.backgroundColor=\\'black\\';this.style.cursor=\\'pointer\\';\" bgcolor=\"Black\">\\r\\n\\t\\t\\t\\t\\t<td><font color=\"White\" size=\"3\"><a href=\"/spot/Spot_Floor.aspx?Filter=8\">PP Homopolymer - Inj</a></font></td><td class=\"ChartContent Bold Color4\" nowrap=\"nowrap\"><font color=\"White\" size=\"3\">1,729,944</font></td><td class=\"ChartContent Bold Color4\" nowrap=\"nowrap\"><font color=\"White\" size=\"3\">0.850</font></td><td class=\"ChartContent Bold Color4\" nowrap=\"nowrap\"><font color=\"White\" size=\"3\">0.970</font></td>\\r\\n\\t\\t\\t\\t</tr><tr class=\"hspotcontent\" onclick=\"window.location =\\'/spot/Spot_Floor.aspx?Filter=2\\';\" onmouseover=\"ChartImg.src = \\'/Research/Charts/home/Spot_2.png\\';this.style.backgroundColor=\\'#FF8B00\\';this.style.cursor=\\'hand\\';\" onmouseout=\"this.style.backgroundColor=\\'black\\';this.style.cursor=\\'pointer\\';\">\\r\\n\\t\\t\\t\\t\\t<td><font color=\"White\" size=\"3\"><a href=\"/spot/Spot_Floor.aspx?Filter=2\">HDPE - Inj</a></font></td><td class=\"ChartContent Bold Color4\" nowrap=\"nowrap\"><font color=\"White\" size=\"3\">2,821,888</font></td><td class=\"ChartContent Bold Color4\" nowrap=\"nowrap\"><font color=\"White\" size=\"3\">0.650</font></td><td class=\"ChartContent Bold Color4\" nowrap=\"nowrap\"><font color=\"White\" size=\"3\">0.850</font></td>\\r\\n\\t\\t\\t\\t</tr><tr class=\"hspotcontent\" onclick=\"window.location =\\'/spot/Spot_Floor.aspx?Filter=7\\';\" onmouseover=\"ChartImg.src = \\'/Research/Charts/home/Spot_7.png\\';this.style.backgroundColor=\\'#FF8B00\\';this.style.cursor=\\'hand\\';\" onmouseout=\"this.style.backgroundColor=\\'black\\';this.style.cursor=\\'pointer\\';\" bgcolor=\"Black\">\\r\\n\\t\\t\\t\\t\\t<td><font color=\"White\" size=\"3\"><a href=\"/spot/Spot_Floor.aspx?Filter=7\">LLDPE - Inj</a></font></td><td class=\"ChartContent Bold Color4\" nowrap=\"nowrap\"><font color=\"White\" size=\"3\">881,840</font></td><td class=\"ChartContent Bold Color4\" nowrap=\"nowrap\"><font color=\"White\" size=\"3\">0.680</font></td><td class=\"ChartContent Bold Color4\" nowrap=\"nowrap\"><font color=\"White\" size=\"3\">0.840</font></td>\\r\\n\\t\\t\\t\\t</tr><tr class=\"hspotcontent\" onclick=\"window.location =\\'/spot/Spot_Floor.aspx?Filter=3\\';\" onmouseover=\"ChartImg.src = \\'/Research/Charts/home/Spot_3.png\\';this.style.backgroundColor=\\'#FF8B00\\';this.style.cursor=\\'hand\\';\" onmouseout=\"this.style.backgroundColor=\\'black\\';this.style.cursor=\\'pointer\\';\">\\r\\n\\t\\t\\t\\t\\t<td><font color=\"White\" size=\"3\"><a href=\"/spot/Spot_Floor.aspx?Filter=3\">HDPE - Blow Mold</a></font></td><td class=\"ChartContent Bold Color4\" nowrap=\"nowrap\"><font color=\"White\" size=\"3\">2,506,944</font></td><td class=\"ChartContent Bold Color4\" nowrap=\"nowrap\"><font color=\"White\" size=\"3\">0.650</font></td><td class=\"ChartContent Bold Color4\" nowrap=\"nowrap\"><font color=\"White\" size=\"3\">0.835</font></td>\\r\\n\\t\\t\\t\\t</tr><tr class=\"hspotcontent\" onclick=\"window.location =\\'/spot/Spot_Floor.aspx?Filter=5\\';\" onmouseover=\"ChartImg.src = \\'/Research/Charts/home/Spot_5.png\\';this.style.backgroundColor=\\'#FF8B00\\';this.style.cursor=\\'hand\\';\" onmouseout=\"this.style.backgroundColor=\\'black\\';this.style.cursor=\\'pointer\\';\" bgcolor=\"Black\">\\r\\n\\t\\t\\t\\t\\t<td><font color=\"White\" size=\"3\"><a href=\"/spot/Spot_Floor.aspx?Filter=5\">LDPE - Inj</a></font></td><td class=\"ChartContent Bold Color4\" nowrap=\"nowrap\"><font color=\"White\" size=\"3\">132,276</font></td><td class=\"ChartContent Bold Color4\" nowrap=\"nowrap\"><font color=\"White\" size=\"3\">0.780</font></td><td class=\"ChartContent Bold Color4\" nowrap=\"nowrap\"><font color=\"White\" size=\"3\">0.820</font></td>\\r\\n\\t\\t\\t\\t</tr><tr class=\"hspotcontent\" onclick=\"window.location =\\'/spot/Spot_Floor.aspx?Filter=4\\';\" onmouseover=\"ChartImg.src = \\'/Research/Charts/home/Spot_4.png\\';this.style.backgroundColor=\\'#FF8B00\\';this.style.cursor=\\'hand\\';\" onmouseout=\"this.style.backgroundColor=\\'black\\';this.style.cursor=\\'pointer\\';\">\\r\\n\\t\\t\\t\\t\\t<td><font color=\"White\" size=\"3\"><a href=\"/spot/Spot_Floor.aspx?Filter=4\">LDPE - Film</a></font></td><td class=\"ChartContent Bold Color4\" nowrap=\"nowrap\"><font color=\"White\" size=\"3\">1,543,220</font></td><td class=\"ChartContent Bold Color4\" nowrap=\"nowrap\"><font color=\"White\" size=\"3\">0.755</font></td><td class=\"ChartContent Bold Color4\" nowrap=\"nowrap\"><font color=\"White\" size=\"3\">0.810</font></td>\\r\\n\\t\\t\\t\\t</tr><tr class=\"hspotcontent\" onclick=\"window.location =\\'/spot/Spot_Floor.aspx?Filter=6\\';\" onmouseover=\"ChartImg.src = \\'/Research/Charts/home/Spot_6.png\\';this.style.backgroundColor=\\'#FF8B00\\';this.style.cursor=\\'hand\\';\" onmouseout=\"this.style.backgroundColor=\\'black\\';this.style.cursor=\\'pointer\\';\" bgcolor=\"Black\">\\r\\n\\t\\t\\t\\t\\t<td><font color=\"White\" size=\"3\"><a href=\"/spot/Spot_Floor.aspx?Filter=6\">LLDPE - Film</a></font></td><td class=\"ChartContent Bold Color4\" nowrap=\"nowrap\"><font color=\"White\" size=\"3\">2,884,760</font></td><td class=\"ChartContent Bold Color4\" nowrap=\"nowrap\"><font color=\"White\" size=\"3\">0.670</font></td><td class=\"ChartContent Bold Color4\" nowrap=\"nowrap\"><font color=\"White\" size=\"3\">0.780</font></td>\\r\\n\\t\\t\\t\\t</tr><tr class=\"hspotcontent\" onclick=\"window.location =\\'/spot/Spot_Floor.aspx?Filter=1\\';\" onmouseover=\"ChartImg.src = \\'/Research/Charts/home/Spot_1.png\\';this.style.backgroundColor=\\'#FF8B00\\';this.style.cursor=\\'hand\\';\" onmouseout=\"this.style.backgroundColor=\\'black\\';this.style.cursor=\\'pointer\\';\">\\r\\n\\t\\t\\t\\t\\t<td><font color=\"White\" size=\"3\"><a href=\"/spot/Spot_Floor.aspx?Filter=1\">HMWPE - Film</a></font></td><td class=\"ChartContent Bold Color4\" nowrap=\"nowrap\"><font color=\"White\" size=\"3\">871,380</font></td><td class=\"ChartContent Bold Color4\" nowrap=\"nowrap\"><font color=\"White\" size=\"3\">0.675</font></td><td class=\"ChartContent Bold Color4\" nowrap=\"nowrap\"><font color=\"White\" size=\"3\">0.735</font></td>\\r\\n\\t\\t\\t\\t</tr>\\r\\n\\t\\t\\t</table>                \\r\\n                                            </td>\\r\\n\\t\\t\\t\\t\\t                    </tr>\\r\\n\\t\\t\\t\\t\\t                    <tr>\\r\\n                                            <td>\\r\\n                                                <span style=\"HEIGHT: 12px\" class=\"LinkNormal RedLink\">\\r\\n                                                    <a id=\"ctl00_cphMain_tcMarkets_tbSpot_hplTotalLbs\" href=\"/spot/Spot_Floor.aspx?Filter=-1\">Total Spot: 14,983,724 lbs</a>\\r\\n                                                </span>\\r\\n                                            </td>\\r\\n                                        </tr>\\r\\n\\t\\t\\t\\t\\t                </table>\\r\\n                                \\r\\n\\t\\t</div><div id=\"ctl00_cphMain_tcMarkets_TabPanel2\" style=\"display:none;\">\\r\\n\\t\\t\\t\\r\\n                                    <table cellSpacing=\"0\" cellPadding=\"3\" width=\"100%\" border=\"0\">\\r\\n\\t\\t\\t\\t\\t                    <tr>\\r\\n\\t\\t\\t\\t\\t                        <td>\\r\\n\\t\\t\\t\\t\\t                            <table class=\"LinkNormal WhiteLink\" cellspacing=\"0\" cellpadding=\"3\" align=\"Center\" rules=\"rows\" bordercolor=\"Black\" border=\"0\" id=\"ctl00_cphMain_tcMarkets_TabPanel2_dgContract\" bgcolor=\"Black\" width=\"100%\">\\r\\n\\t\\t\\t\\t<tr>\\r\\n\\t\\t\\t\\t\\t<td class=\"ChartContent Bold Color4\"><font color=\"White\" size=\"3\"><b>Resin</b></font></td><td class=\"ChartContent Bold Color4\"><font color=\"White\" size=\"3\"><b>Bid</b></font></td><td class=\"ChartContent Bold Color4\"><font color=\"White\" size=\"3\"><b>Offer</b></font></td>\\r\\n\\t\\t\\t\\t</tr><tr class=\"hspotcontent\" onclick=\"window.location =\\'/spot/Spot_Floor.aspx?Filter=22\\';\" onmouseover=\"ChartImg.src = \\'/Research/Charts/home/Contract_22.png\\';this.style.backgroundColor=\\'#FE0002\\';this.style.cursor=\\'hand\\';\" onmouseout=\"this.style.backgroundColor=\\'black\\';this.style.cursor=\\'pointer\\';\">\\r\\n\\t\\t\\t\\t\\t<td><font color=\"White\" size=\"3\"><a href=\"/spot/Spot_Floor.aspx?Filter=22\">PP Copolymer - Inj</a></font></td><td class=\"ChartContent Bold Color4\" nowrap=\"nowrap\"><font color=\"White\" size=\"3\">0.900</font></td><td class=\"ChartContent Bold Color4\" nowrap=\"nowrap\"><font color=\"White\" size=\"3\">1.000</font></td>\\r\\n\\t\\t\\t\\t</tr><tr class=\"hspotcontent\" onclick=\"window.location =\\'/spot/Spot_Floor.aspx?Filter=9\\';\" onmouseover=\"ChartImg.src = \\'/Research/Charts/home/Contract_9.png\\';this.style.backgroundColor=\\'#FE0002\\';this.style.cursor=\\'hand\\';\" onmouseout=\"this.style.backgroundColor=\\'black\\';this.style.cursor=\\'pointer\\';\" bgcolor=\"Black\">\\r\\n\\t\\t\\t\\t\\t<td><font color=\"White\" size=\"3\"><a href=\"/spot/Spot_Floor.aspx?Filter=9\">PP Homopolymer - Inj</a></font></td><td class=\"ChartContent Bold Color4\" nowrap=\"nowrap\"><font color=\"White\" size=\"3\">0.800</font></td><td class=\"ChartContent Bold Color4\" nowrap=\"nowrap\"><font color=\"White\" size=\"3\">0.900</font></td>\\r\\n\\t\\t\\t\\t</tr><tr class=\"hspotcontent\" onclick=\"window.location =\\'/spot/Spot_Floor.aspx?Filter=10\\';\" onmouseover=\"ChartImg.src = \\'/Research/Charts/home/Contract_10.png\\';this.style.backgroundColor=\\'#FE0002\\';this.style.cursor=\\'hand\\';\" onmouseout=\"this.style.backgroundColor=\\'black\\';this.style.cursor=\\'pointer\\';\">\\r\\n\\t\\t\\t\\t\\t<td><font color=\"White\" size=\"3\"><a href=\"/spot/Spot_Floor.aspx?Filter=10\">LDPE - Inj</a></font></td><td class=\"ChartContent Bold Color4\" nowrap=\"nowrap\"><font color=\"White\" size=\"3\">0.790</font></td><td class=\"ChartContent Bold Color4\" nowrap=\"nowrap\"><font color=\"White\" size=\"3\">0.840</font></td>\\r\\n\\t\\t\\t\\t</tr><tr class=\"hspotcontent\" onclick=\"window.location =\\'/spot/Spot_Floor.aspx?Filter=6\\';\" onmouseover=\"ChartImg.src = \\'/Research/Charts/home/Contract_6.png\\';this.style.backgroundColor=\\'#FE0002\\';this.style.cursor=\\'hand\\';\" onmouseout=\"this.style.backgroundColor=\\'black\\';this.style.cursor=\\'pointer\\';\" bgcolor=\"Black\">\\r\\n\\t\\t\\t\\t\\t<td><font color=\"White\" size=\"3\"><a href=\"/spot/Spot_Floor.aspx?Filter=6\">LDPE - Film</a></font></td><td class=\"ChartContent Bold Color4\" nowrap=\"nowrap\"><font color=\"White\" size=\"3\">0.760</font></td><td class=\"ChartContent Bold Color4\" nowrap=\"nowrap\"><font color=\"White\" size=\"3\">0.810</font></td>\\r\\n\\t\\t\\t\\t</tr><tr class=\"hspotcontent\" onclick=\"window.location =\\'/spot/Spot_Floor.aspx?Filter=17\\';\" onmouseover=\"ChartImg.src = \\'/Research/Charts/home/Contract_17.png\\';this.style.backgroundColor=\\'#FE0002\\';this.style.cursor=\\'hand\\';\" onmouseout=\"this.style.backgroundColor=\\'black\\';this.style.cursor=\\'pointer\\';\">\\r\\n\\t\\t\\t\\t\\t<td><font color=\"White\" size=\"3\"><a href=\"/spot/Spot_Floor.aspx?Filter=17\">LLDPE - Inj</a></font></td><td class=\"ChartContent Bold Color4\" nowrap=\"nowrap\"><font color=\"White\" size=\"3\">0.750</font></td><td class=\"ChartContent Bold Color4\" nowrap=\"nowrap\"><font color=\"White\" size=\"3\">0.800</font></td>\\r\\n\\t\\t\\t\\t</tr><tr class=\"hspotcontent\" onclick=\"window.location =\\'/spot/Spot_Floor.aspx?Filter=11\\';\" onmouseover=\"ChartImg.src = \\'/Research/Charts/home/Contract_11.png\\';this.style.backgroundColor=\\'#FE0002\\';this.style.cursor=\\'hand\\';\" onmouseout=\"this.style.backgroundColor=\\'black\\';this.style.cursor=\\'pointer\\';\" bgcolor=\"Black\">\\r\\n\\t\\t\\t\\t\\t<td><font color=\"White\" size=\"3\"><a href=\"/spot/Spot_Floor.aspx?Filter=11\">LLDPE - Film</a></font></td><td class=\"ChartContent Bold Color4\" nowrap=\"nowrap\"><font color=\"White\" size=\"3\">0.730</font></td><td class=\"ChartContent Bold Color4\" nowrap=\"nowrap\"><font color=\"White\" size=\"3\">0.780</font></td>\\r\\n\\t\\t\\t\\t</tr><tr class=\"hspotcontent\" onclick=\"window.location =\\'/spot/Spot_Floor.aspx?Filter=3\\';\" onmouseover=\"ChartImg.src = \\'/Research/Charts/home/Contract_3.png\\';this.style.backgroundColor=\\'#FE0002\\';this.style.cursor=\\'hand\\';\" onmouseout=\"this.style.backgroundColor=\\'black\\';this.style.cursor=\\'pointer\\';\">\\r\\n\\t\\t\\t\\t\\t<td><font color=\"White\" size=\"3\"><a href=\"/spot/Spot_Floor.aspx?Filter=3\">HDPE - Blow Mold</a></font></td><td class=\"ChartContent Bold Color4\" nowrap=\"nowrap\"><font color=\"White\" size=\"3\">0.700</font></td><td class=\"ChartContent Bold Color4\" nowrap=\"nowrap\"><font color=\"White\" size=\"3\">0.750</font></td>\\r\\n\\t\\t\\t\\t</tr><tr class=\"hspotcontent\" onclick=\"window.location =\\'/spot/Spot_Floor.aspx?Filter=5\\';\" onmouseover=\"ChartImg.src = \\'/Research/Charts/home/Contract_5.png\\';this.style.backgroundColor=\\'#FE0002\\';this.style.cursor=\\'hand\\';\" onmouseout=\"this.style.backgroundColor=\\'black\\';this.style.cursor=\\'pointer\\';\" bgcolor=\"Black\">\\r\\n\\t\\t\\t\\t\\t<td><font color=\"White\" size=\"3\"><a href=\"/spot/Spot_Floor.aspx?Filter=5\">HDPE - Inj</a></font></td><td class=\"ChartContent Bold Color4\" nowrap=\"nowrap\"><font color=\"White\" size=\"3\">0.700</font></td><td class=\"ChartContent Bold Color4\" nowrap=\"nowrap\"><font color=\"White\" size=\"3\">0.750</font></td>\\r\\n\\t\\t\\t\\t</tr><tr class=\"hspotcontent\" onclick=\"window.location =\\'/spot/Spot_Floor.aspx?Filter=1\\';\" onmouseover=\"ChartImg.src = \\'/Research/Charts/home/Contract_1.png\\';this.style.backgroundColor=\\'#FE0002\\';this.style.cursor=\\'hand\\';\" onmouseout=\"this.style.backgroundColor=\\'black\\';this.style.cursor=\\'pointer\\';\">\\r\\n\\t\\t\\t\\t\\t<td><font color=\"White\" size=\"3\"><a href=\"/spot/Spot_Floor.aspx?Filter=1\">HMWPE - Film</a></font></td><td class=\"ChartContent Bold Color4\" nowrap=\"nowrap\"><font color=\"White\" size=\"3\">0.650</font></td><td class=\"ChartContent Bold Color4\" nowrap=\"nowrap\"><font color=\"White\" size=\"3\">0.700</font></td>\\r\\n\\t\\t\\t\\t</tr>\\r\\n\\t\\t\\t</table>  \\r\\n\\t\\t\\t\\t\\t                        \\r\\n\\t\\t\\t\\t\\t                        \\t\\t\\t\\t\\t                                                                \\r\\n                                            </td>\\r\\n\\t\\t\\t\\t\\t                    </tr>\\r\\n\\t\\t\\t\\t\\t                </table>\\r\\n                                    \\r\\n                                \\r\\n\\t\\t</div>\\r\\n\\t</div>\\r\\n</div>                        \\r\\n                </TD>\\r\\n                \\r\\n                <TD><IMG border=\\'0\\' name=\\'ChartImg\\' src=\\'/Research/Charts/home/Spot_6.png\\'> </TD></TR></TBODY></TABLE>\\r\\n    \\r\\n    <table cellspacing=\"0\" cellpadding=\"0\" width=\"780\" align=\"center\" bgcolor=\"#666666\" border=\"0\">       \\r\\n        <tr>\\r\\n            <td width=\"385\">\\r\\n                <table cellspacing=\"0\" cellpadding=\"0\" width=\"390\" border=\"0\">\\r\\n                    <tr>\\r\\n                        <td width=\"6\" background=\"/pics/home_bar_titles_r1_c1.jpg\">\\r\\n                            <img height=\"17px\" src=\"/pics/home_bar_titles_r1_c1.jpg\" width=\"6\" /></td>\\r\\n                        <td class=\"LinkNormal OrangeLink\" valign=\"middle\" width=\"384\" background=\"/pics/home_bar_titles_r1_c1.jpg\" height=10px>\\r\\n                            <a href=\"/Public/Public_News.aspx\">Industry News</a></td>\\r\\n                    </tr>\\r\\n                    <tr>\\r\\n                        <td colspan=\"3\" height=1px>\\r\\n                            <img height=\"1\" src=\"/pics/home_bar_titles_r2_c1.jpg\" width=\"390\" /></td>\\r\\n                    </tr>\\r\\n                    \\r\\n               \\r\\n                </table>\\r\\n            </td>\\r\\n            <td valign=\"top\" width=\"395\" bgcolor=\"#666666\">\\r\\n                <table cellspacing=\"0\" cellpadding=\"0\" width=\"390\" border=\"0\">\\r\\n                    <tr>\\r\\n                        <td align=\"left\" width=\"384\" background=\"/pics/home_bar_titles_r1_c1.jpg\" colspan=\"4\" style=\"height: 10px\">                            \\r\\n                            <table cellspacing=\"0\" cellpadding=\"0\" width=\"390\" border=\"0\">\\r\\n                                <tr>\\r\\n                                    <td align=\"left\" class=\"LinkNormal OrangeLink\">\\r\\n                                        <a href=\"/Research/WeeklyReview.aspx\" >Market Updates</a>\\r\\n                                    </td>    \\r\\n                                    <td align=\"right\">\\r\\n                                        <input name=\"ctl00$cphMain$txtEmailSubs\" type=\"text\" value=\"Type Your Email to Join Our List\" id=\"ctl00_cphMain_txtEmailSubs\" onfocus=\"this.value=\\'\\'\" />\\r\\n                                        <input type=\"submit\" name=\"ctl00$cphMain$btnJoin\" value=\"Join!\" id=\"ctl00_cphMain_btnJoin\" />\\r\\n                                    </td>\\r\\n                                </tr>\\r\\n                            </table>\\r\\n                            \\r\\n                            \\r\\n                            \\r\\n                        </td>\\r\\n                    </tr>\\r\\n                    <tr>\\r\\n                        <td colspan=\"3\" style=\"height: 1px\">\\r\\n                            <img height=\"1\" src=\"/pics/home_bar_titles_r2_c1.jpg\" width=\"390\"></td>\\r\\n                    </tr>   \\r\\n                </table>\\r\\n            </td>\\r\\n        </tr>\\r\\n        <tr>\\r\\n            <td valign=\"top\" bgcolor=\"#dbdcd7\">\\r\\n                <table border=0><tr><td valign=\"top\"><td valign=\"top\" class=\\'LinkNormal\\'><a href=\"/Public/News_Template.aspx?Buffer=&Id=9755\"><span class=\\'Content Color2\\'>TotalEnergies Lifts Force Majeure on Polypropylene from Texas Facility</span></a><span class=\\'Content Color2\\'> (07/12/2022)</span></td></tr><tr><td valign=\"top\"><td valign=\"top\" class=\\'LinkNormal\\'><a href=\"/Public/News_Template.aspx?Buffer=&Id=9754\"><span class=\\'Content Color2\\'>Heartland Polymers Fills its First Polypropylene Railcar from New Canada Facility</span></a><span class=\\'Content Color2\\'> (07/05/2022)</span></td></tr><tr><td valign=\"top\"><td valign=\"top\" class=\\'LinkNormal\\'><a href=\"/Public/News_Template.aspx?Buffer=&Id=9753\"><span class=\\'Content Color2\\'>June PGP Settles...</span></a><span class=\\'Content Color2\\'> (06/28/2022)</span></td></tr><tr><td valign=\"top\"><td valign=\"top\" class=\\'LinkNormal\\'><a href=\"/Public/News_Template.aspx?Buffer=&Id=9752\"><span class=\\'Content Color2\\'>AmSty Seeks Another Polystyrene Increase for July Amid Recent Supply Drop, Higher Feedstock Costs</span></a><span class=\\'Content Color2\\'> (06/27/2022)</span></td></tr><tr><td valign=\"top\"><td valign=\"top\" class=\\'LinkNormal\\'><a href=\"/Public/News_Template.aspx?Buffer=&Id=9751\"><span class=\\'Content Color2\\'>A Second Polyethylene Producer Reduces Its June Increase, Proposes a July Increase</span></a><span class=\\'Content Color2\\'> (06/17/2022)</span></td></tr><tr><td valign=\"top\"><td valign=\"top\" class=\\'LinkNormal\\'><a href=\"/Public/News_Template.aspx?Buffer=&Id=9750\"><span class=\\'Content Color2\\'>LyondellBasell Reduces June Polyethylene Price Increase</span></a><span class=\\'Content Color2\\'> (06/13/2022)</span></td></tr><tr><td valign=\"top\"><td valign=\"top\" class=\\'LinkNormal\\'><a href=\"/Public/News_Template.aspx?Buffer=&Id=9749\"><span class=\\'Content Color2\\'>May PGP Settles...</span></a><span class=\\'Content Color2\\'> (05/26/2022)</span></td></tr><tr><td valign=\"top\"><td valign=\"top\" class=\\'LinkNormal\\'><a href=\"/Public/News_Template.aspx?Buffer=&Id=9748\"><span class=\\'Content Color2\\'>Above Average Hurricane Season Expected, Putting US Resin Production at Risk</span></a><span class=\\'Content Color2\\'> (05/25/2022)</span></td></tr><tr><td valign=\"top\"><td valign=\"top\" class=\\'LinkNormal\\'><a href=\"/Public/News_Template.aspx?Buffer=&Id=9747\"><span class=\\'Content Color2\\'>Phillips 66 to Stay on Polypropylene FM Amid Ongoing Maintenance and Repairs</span></a><span class=\\'Content Color2\\'> (05/20/2022)</span></td></tr><tr><td valign=\"top\"><td valign=\"top\" class=\\'LinkNormal\\'><a href=\"/Public/News_Template.aspx?Buffer=&Id=9746\"><span class=\\'Content Color2\\'>Houston Sees Record High Import/Exports for Containers in April</span></a><span class=\\'Content Color2\\'> (05/19/2022)</span></td></tr><tr><td valign=\"top\"><td valign=\"top\" class=\\'LinkNormal\\'><a href=\"/Public/News_Template.aspx?Buffer=&Id=9745\"><span class=\\'Content Color2\\'>LyondellBasell issues new June Polypropylene Price Increase</span></a><span class=\\'Content Color2\\'> (05/13/2022)</span></td></tr><tr><td valign=\"top\"><td valign=\"top\" class=\\'LinkNormal\\'><a href=\"/Public/News_Template.aspx?Buffer=&Id=9744\"><span class=\\'Content Color2\\'>LyondellBasell Lifts Force Majeure and Defers Price Hikes on Resin by One Month</span></a><span class=\\'Content Color2\\'> (05/10/2022)</span></td></tr></table>\\r\\n            </td>\\r\\n            <td valign=\"top\" width=\"390\" bgcolor=\"#dbdcd7\">\\r\\n                <table cellspacing=\"0\" cellpadding=\"0\" width=\"390\" border=\"0\">\\r\\n                    <tr>\\r\\n                        <td width=\"1\" background=\"/pics/home_research_r1_c2.jpg\">\\r\\n                            <img height=\"94\" src=\"/pics/home_research_r1_c2.jpg\" width=\"1\"></td>\\r\\n                        <td valign=\"middle\" align=\"center\" style=\"width: 25px\">\\r\\n                            <img height=\"94\" src=\"/images2/research_setas_r1_c1.jpg\" width=\"24\"></td>\\r\\n                        <td width=\"1\" bgcolor=\"#333333\">\\r\\n                            <img height=\"94\" src=\"/pics/home_research_r1_c2.jpg\" width=\"1\"></td>\\r\\n                        <td valign=\"middle\" align=\"left\" width=\"337\">\\r\\n                            <table height=\"90\" cellspacing=\"1\" cellpadding=\"5\" width=\"360\" border=\"0\">\\r\\n                                <tr>\\r\\n                                    <td valign=\"top\">\\r\\n                                        <span class=\"LinkNormal Content\">\\r\\n                                        <a id=\"ctl00_cphMain_hlPe\" href=\"http://www.theplasticsexchange.com/Research/Market_Update/pdf/7_15_2022.pdf\">Polyethylene</a>\\r\\n                                        </span> \\r\\n                                            <div id=\"ctl00_cphMain_lblPE\" class=\"Content Color2\">Polyethylene trading was more active and our spot pricing was steady to another cent lower. Transactions were well spread across LDPE and LLDPE, both film and injection grades, while HDPE transactions were a challenge to complete. Offgrade railcar offers streamed in and suppliers remained willing to discount heavily to move material. We have seen several rounds of aggressive sales into the export market and there was another this past week as pro... <span class=\\'LinkNormal Content\\'><a target=\\'_blank\\' href=\\'http://www.theplasticsexchange.com/Research/Market_Update/pdf/7_15_2022.pdf\\'><span class=\\'blackbold\\'>[More]</span></a></span></div>\\r\\n                                    </td>\\r\\n                                </tr>\\r\\n                            </table>\\r\\n                        </td>\\r\\n                    </tr>\\r\\n                    <tr>\\r\\n                        <td background=\"/pics/home_research_r1_c2.jpg\">\\r\\n                            <img height=\"1\" src=\"/pics/home_research_r2_c2.jpg\" width=\"1\"></td>\\r\\n                        <td valign=\"middle\" align=\"center\" bgcolor=\"#333333\" style=\"width: 25px\">\\r\\n                            <img height=\"1\" src=\"/pics/home_research_r2_c1.jpg\" width=\"24\"></td>\\r\\n                        <td bgcolor=\"#333333\">\\r\\n                            <img height=\"1\" src=\"/pics/home_research_r2_c2.jpg\" width=\"1\"></td>\\r\\n                        <td valign=\"top\" bgcolor=\"#333333\">\\r\\n                            <img height=\"1\" src=\"/pics/home_research_r2_c1.jpg\" width=\"24\"></td>\\r\\n                    </tr>\\r\\n                    <tr>\\r\\n                        <td background=\"/pics/home_research_r1_c2.jpg\">\\r\\n                            <img height=\"94\" src=\"/pics/home_research_r1_c2.jpg\" width=\"1\"></td>\\r\\n                        <td valign=\"middle\" align=\"center\" style=\"width: 25px\">\\r\\n                            <img height=\"94\" src=\"/images2/research_setas_r1_c1.jpg\" width=\"24\"></td>\\r\\n                        <td bgcolor=\"#333333\">\\r\\n                            <img height=\"94\" src=\"/pics/home_research_r1_c2.jpg\" width=\"1\"></td>\\r\\n                        <td valign=\"middle\" align=\"left\">\\r\\n                            <table height=\"90\" cellspacing=\"1\" cellpadding=\"5\" width=\"360\" border=\"0\">\\r\\n                                <tr>\\r\\n                                    <td valign=\"top\" align=\"left\">\\r\\n                                        <span class=\"LinkNormal Content\">\\r\\n                                        <a id=\"ctl00_cphMain_hlPp\" href=\"http://www.theplasticsexchange.com/Research/Market_Update/pdf/7_15_2022.pdf\">Polypropylene</a>\\r\\n                                        </span>\\r\\n                                            <div id=\"ctl00_cphMain_lblPP\" class=\"Content Color2\">Spot Polypropylene activity was slower and prices continued to slide. Processor demand was below average and most orders were for Prime truckloads, and HoPP was sought more than CoPP. Some buyers that had been picking away at deeply discounted railcars stepped to the sidelines to just observe. Despite plenty of railcars ready to ship, truckload supply remained challenged, as much of the reseller community has been shedding their inventories to li... <span class=\\'LinkNormal Content\\'><a target=\\'_blank\\' href=\\'http://www.theplasticsexchange.com/Research/Market_Update/pdf/7_15_2022.pdf\\'><span class=\\'blackbold\\'>[More]</span></a></span></div>\\r\\n                                    </td>\\r\\n                                </tr>\\r\\n                            </table>\\r\\n                        </td>\\r\\n                    </tr>\\r\\n                    <tr>\\r\\n                        <td background=\"/pics/home_research_r1_c2.jpg\" style=\"height: 1px\">\\r\\n                            <img height=\"1\" src=\"/pics/home_research_r2_c2.jpg\" width=\"1\" /></td>\\r\\n                        <td valign=\"middle\" align=\"center\" bgcolor=\"#333333\" style=\"height: 1px; width: 25px;\">\\r\\n                            <img height=\"1\" src=\"/pics/home_research_r2_c1.jpg\" width=\"24\" /></td>\\r\\n                        <td bgcolor=\"#333333\" style=\"height: 1px\">\\r\\n                            <img height=\"1\" src=\"/pics/home_research_r2_c2.jpg\" width=\"1\" /></td>\\r\\n                        <td valign=\"top\" bgcolor=\"#333333\" style=\"height: 1px\">\\r\\n                            <img height=\"1\" src=\"/pics/home_research_r2_c1.jpg\" width=\"24\" /></td>\\r\\n                    </tr>\\r\\n                    \\r\\n                    <td background=\"/pics/home_research_r2_c1.jpg\" style=\"height: 1px\" colspan=\"4\">\\r\\n                            <img height=\"1\" src=\"/pics/home_research_r2_c2.jpg\" width=\"1\" /></td>\\r\\n                </table>\\r\\n            </td>\\r\\n        </tr>\\r\\n    </table>\\r\\n\\r\\n\\r\\n    \\r\\n\\r\\n    <div id=\"flag\" style=\"visibility: hidden; display: none\">\\r\\n    <span id=\"ctl00_cphMain_lblContractChartID\">11</span>\\r\\n    <span id=\"ctl00_cphMain_lblSpotChartID\">6</span>\\r\\n    \\r\\n       </div>\\r\\n    <div id=\"flag2\" style=\"visibility: hidden; display: none\">\\r\\n        1</div>\\r\\n        \\r\\n\\r\\n\\r\\n\\r\\n                    </td>\\r\\n                </tr>\\r\\n                <tr>\\r\\n                    <td align=\"center\" class=\"FooterColor\" colspan=\"5\" style=\"height: 15px\">\\r\\n                        <font face=\"Verdana,Arial\" color=\"white\" size=\"1\"><a href=\"/Public/Privacy_Policy.aspx\"\\r\\n                            class=\"defaultlink\" style=\"color: White\">Privacy Statement</a> | Copyright &#169 2022 The Plastics\\r\\n                            Exchange. LLC. | Patent Protected | All Rights Reserved.</font>\\r\\n                    </td>\\r\\n                </tr>\\r\\n            <!-- begin close container table -->\\r\\n            </table>\\r\\n            <!-- end close container table -->\\r\\n            \\r\\n        </div>\\r\\n    \\r\\n\\r\\n<script type=\"text/javascript\">\\r\\n//<![CDATA[\\r\\nvar ctl00_mnuMain_Data = new Object();\\r\\nctl00_mnuMain_Data.disappearAfter = 500;\\r\\nctl00_mnuMain_Data.horizontalOffset = 0;\\r\\nctl00_mnuMain_Data.verticalOffset = 0;\\r\\nctl00_mnuMain_Data.hoverClass = \\'DynamicMenuItemHover\\';\\r\\nctl00_mnuMain_Data.iframeUrl = \\'/WebResource.axd?d=lL2WfngbGiZr2SbTaPn7Zxa1X5-fpk3L9VPILQmi2kQ5b9GUa1QdtdigiTB_wXApqbrO-3fDd0qeqI3FIInooQJwVrw1&t=636271491500000000\\';\\r\\nSys.Application.initialize();\\r\\nSys.Application.add_init(function() {\\r\\n    $create(AjaxControlToolkit.TabPanel, {\"headerTab\":$get(\"__tab_ctl00_cphMain_tcMarkets_tbSpot\")}, null, {\"owner\":\"ctl00_cphMain_tcMarkets\"}, $get(\"ctl00_cphMain_tcMarkets_tbSpot\"));\\r\\n});\\r\\nSys.Application.add_init(function() {\\r\\n    $create(AjaxControlToolkit.TabPanel, {\"headerTab\":$get(\"__tab_ctl00_cphMain_tcMarkets_TabPanel2\")}, null, {\"owner\":\"ctl00_cphMain_tcMarkets\"}, $get(\"ctl00_cphMain_tcMarkets_TabPanel2\"));\\r\\n});\\r\\nSys.Application.add_init(function() {\\r\\n    $create(AjaxControlToolkit.TabContainer, {\"activeTabIndex\":0,\"clientStateField\":$get(\"ctl00_cphMain_tcMarkets_ClientState\")}, {\"activeTabChanged\":clientActiveTabChanged}, null, $get(\"ctl00_cphMain_tcMarkets\"));\\r\\n});\\r\\n//]]>\\r\\n</script>\\r\\n</form>\\r\\n    \\r\\n    <div id=\"ctl00_divGoogleTrack\">\\r\\n        <script type=\"text/javascript\">\\r\\n\\r\\n  var _gaq = _gaq || [];\\r\\n  _gaq.push([\\'_setAccount\\', \\'UA-19185192-9\\']);\\r\\n  _gaq.push([\\'_trackPageview\\']);\\r\\n\\r\\n  (function() {\\r\\n    var ga = document.createElement(\\'script\\'); ga.type = \\'text/javascript\\'; ga.async = true;\\r\\n    ga.src = (\\'https:\\' == document.location.protocol ? \\'https://ssl\\' : \\'http://www\\') + \\'.google-analytics.com/ga.js\\';\\r\\n    var s = document.getElementsByTagName(\\'script\\')[0]; s.parentNode.insertBefore(ga, s);\\r\\n  })();\\r\\n\\r\\n</script>\\r\\n    </div>\\r\\n    \\r\\n<!-- Start of LiveChat (www.livechatinc.com) code -->\\r\\n<script type=\"text/javascript\">\\r\\n  window.__lc = window.__lc || {};\\r\\n  window.__lc.license = 12720315;\\r\\n  ;(function(n,t,c){function i(n){return e._h?e._h.apply(null,n):e._q.push(n)};\\r\\n  var e={_q:[],_h:null,_v:\"2.0\",on:function(){i([\"on\",c.call(arguments)])},once:function(){\\r\\n  i([\"once\",c.call(arguments)])},off:function(){i([\"off\",c.call(arguments)])},\\r\\n  get:function(){if(!e._h)throw new Error(\"[LiveChatWidget] You can\\'t use getters before load.\");\\r\\n  return i([\"get\",c.call(arguments)])},call:function(){i([\"call\",c.call(arguments)])},init:function(){\\r\\n  var n=t.createElement(\"script\");\\r\\n  n.async=!0,n.type=\"text/javascript\",\\r\\n  n.src=\"https://cdn.livechatinc.com/tracking.js\",t.head.appendChild(n)}};\\r\\n  !n.__lc.asyncInit&&e.init(),n.LiveChatWidget=n.LiveChatWidget||e}(window,document,[].slice))\\r\\n</script>\\r\\n<noscript>\\r\\n<a href=\"https://www.livechatinc.com/chat-with/12720315/\" rel=\"nofollow\">Chat with us</a>,\\r\\npowered by <a href=\"https://www.livechatinc.com/?welcome\" rel=\"noopener nofollow\" target=\"_blank\">LiveChat</a>\\r\\n</noscript>\\r\\n<!-- End of LiveChat code -->\\r\\n\\r\\n</body>\\r\\n</html>\\r\\n'"
      ]
     },
     "execution_count": 11,
     "metadata": {},
     "output_type": "execute_result"
    }
   ],
   "source": [
    "page.content"
   ]
  },
  {
   "cell_type": "code",
   "execution_count": 12,
   "metadata": {},
   "outputs": [
    {
     "data": {
      "text/plain": [
       "<!DOCTYPE html PUBLIC \"-//W3C//DTD XHTML 1.0 Transitional//EN\" \"http://www.w3.org/TR/xhtml1/DTD/xhtml1-transitional.dtd\">\n",
       "<html xmlns=\"http://www.w3.org/1999/xhtml\">\n",
       "<head id=\"ctl00_Head1\">\n",
       "<!-- Mimic Internet Explorer 7 -->\n",
       "<meta content=\"IE=EmulateIE7\" http-equiv=\"X-UA-Compatible\"/><title>\n",
       "\tThe Plastics Exchange: Commodity Plastic Resin, Buy Resin, Sell Resin, Plastic\n",
       "</title><meta content=\"The spot market for buying and selling commodity grade plastic resins and a trusted source of market intelligence.\" name=\"description\"/><meta content=\"Polyethylene, Monomer, Polyethylene, Widespec, Offgrade, Feedstock, Polystyrene, Plastic, Resin, Polypropylene, chemicals, plastics, detergents, transaction, fulfillment, exchange, commodity, supplier, buy, sell, trade, marketplace, petrochemical, negotiation\" name=\"keywords\"/><meta content=\"document\" name=\"resource-type\"/><meta content=\"NOARCHIVE\" name=\"GOOGLEBOT\"/><meta content=\"noarchive\" name=\"robots\"/><meta content=\"Plastics Trading\" name=\"classification\"/><meta content=\"ALL\" name=\"robots\"/><meta content=\"Global\" name=\"distribution\"/><meta content=\"General\" name=\"rating\"/><link href=\"/styles/TPENewStyles.css\" rel=\"stylesheet\" type=\"text/css\"/><link href=\"/styles/TPEMenu.css\" rel=\"stylesheet\" type=\"text/css\"/><link href=\"/styles/Template.css\" rel=\"stylesheet\" type=\"text/css\"/><link href=\"/styles/ContextMenu.css\" rel=\"stylesheet\" type=\"text/css\"/><link href=\"/favicon.ico\" rel=\"shortcut icon\" type=\"image/x-icon\"/>\n",
       "<script language=\"javascript\" type=\"text/javascript\">\n",
       "    function clientActiveTabChanged(sender, args) \n",
       "    {         \n",
       "        var spot = document.getElementById(\"ctl00_cphMain_lblSpotChartID\").innerHTML;     \n",
       "        var contract = document.getElementById(\"ctl00_cphMain_lblContractChartID\").innerHTML;         \n",
       "         \n",
       "        if(sender.get_activeTabIndex() == 0)\n",
       "        {   \n",
       "            document.getElementsByName(\"ChartImg\")[0].src = \"/Research/Charts/home/Spot_\" + spot + \".png\";            \n",
       "        }\n",
       "        if(sender.get_activeTabIndex() == 1)\n",
       "        {\n",
       "            document.getElementsByName(\"ChartImg\")[0].src = \"/Research/Charts/home/Contract_\" + contract + \".png\";                    \n",
       "        }            \n",
       "    }\n",
       "</script>\n",
       "<style type=\"text/css\">\n",
       "    .WhiteLink a:link {color:#FFFFFF; font-size: 13px;}\n",
       "    .WhiteLink a:visited {color:#FFFFFF; font-size: 13px;}\n",
       "    .WhiteLink a:hover {color:#FFFFFF; font-size: 13px;}\n",
       "    .OrangeLink a:link {color:#FD9D00; font-size: 12px;}\n",
       "    .OrangeLink a:visited {color:#FD9D00; font-size: 12px;}\n",
       "    .OrangeLink a:hover {color:#FD9D00; font-size: 12px;}\n",
       "    .RedLink a:link {color:red; font-size: 15px;}\n",
       "    .RedLink a:visited {color:red; font-size: 15px;}\n",
       "    .RedLink a:hover {color:red; font-size: 15px;}\n",
       "    .LinkNormal { text-align: left;}\n",
       "    .Content \t{\n",
       "\t\t\tfont-family: Verdana, Arial, Helvetica, sans-serif;\n",
       "\t\t\tfont-size: 10px;\n",
       "\t\t\tfont-style: normal;\n",
       "\t\t\tline-height: normal;\n",
       "\t\t\tfont-variant: normal;\n",
       "\t\t\tpadding-left: 2px;\n",
       "\t\t\t}\n",
       "\t\t\t\n",
       "\t.ChartContent \t{\n",
       "\t\t\tfont-family: Verdana, Arial, Helvetica, sans-serif;\n",
       "\t\t\tfont-size: 13px;\n",
       "\t\t\tfont-style: normal;\n",
       "\t\t\tline-height: normal;\n",
       "\t\t\tfont-variant: normal;\n",
       "\t\t\tpadding-left: 2px;\n",
       "\t\t\t}\t\t\n",
       "\t\t\t\n",
       "    .yui .ajax__tab_header \n",
       "{\n",
       "    font-family:arial,helvetica,clean,sans-serif;\n",
       "    font-size:small;\n",
       "    border-bottom:solid 5px #FF8B00;\n",
       "}\n",
       ".yui .ajax__tab_header .ajax__tab_outer \n",
       "{\n",
       "    background: #d8d8d8 repeat-x;\n",
       "    margin:0px 0.16em 0px 0px;\n",
       "    padding:.5px 0px .5px 0px;\n",
       "    vertical-align:bottom;\n",
       "    border:solid 1px #a3a3a3;\n",
       "    border-bottom-width:0px;\n",
       "}\n",
       ".yui .ajax__tab_header .ajax__tab_tab\n",
       "{    \n",
       "    color:#000;    \n",
       "    padding:0.35em 0.35em;    \n",
       "    margin-right:0.01em;\n",
       "}\n",
       ".yui .ajax__tab_hover .ajax__tab_outer \n",
       "{\n",
       "    background: #bfdaff repeat-x left -1300px;\n",
       "}\n",
       ".yui .ajax__tab_active .ajax__tab_tab \n",
       "{\n",
       "    color:#000;    \n",
       "    font-weight: bold;\n",
       "}\n",
       ".yui .ajax__tab_active .ajax__tab_outer\n",
       "{\n",
       "    background: #FF8B00 repeat-x left -1400px;\n",
       "}\n",
       ".yui .ajax__tab_body \n",
       "{\n",
       "    font-family:verdana,tahoma,helvetica;\n",
       "    font-size:10pt;\n",
       "    padding:0.25em 0.5em;\n",
       "    background-color:#000000;    \n",
       "    border:solid 1px #808080;\n",
       "    border-top-width:0px;\n",
       "}\n",
       "\n",
       "\n",
       "\n",
       ".news .ajax__tab_header \n",
       "{\n",
       "    font-family:arial,helvetica,clean,sans-serif;\n",
       "    font-size:small;\n",
       "    border-bottom:solid 5px #FF8B00;\n",
       "}\n",
       ".news .ajax__tab_header .ajax__tab_outer \n",
       "{\n",
       "    background: #d8d8d8 repeat-x;\n",
       "    margin:0px 0.16em 0px 0px;\n",
       "    padding:.5px 0px .5px 0px;\n",
       "    vertical-align:bottom;\n",
       "    border:solid 1px #a3a3a3;\n",
       "    border-bottom-width:0px;\n",
       "}\n",
       ".news .ajax__tab_header .ajax__tab_tab\n",
       "{    \n",
       "    color:#000;    \n",
       "    padding:0.35em 0.35em;    \n",
       "    margin-right:0.01em;\n",
       "}\n",
       ".news .ajax__tab_hover .ajax__tab_outer \n",
       "{\n",
       "    background: #bfdaff repeat-x left -1300px;\n",
       "}\n",
       ".news .ajax__tab_active .ajax__tab_tab \n",
       "{\n",
       "    color:#000;    \n",
       "    font-weight: bold;\n",
       "}\n",
       ".news .ajax__tab_active .ajax__tab_outer\n",
       "{\n",
       "    background: #FF8B00 repeat-x left -1400px;\n",
       "}\n",
       ".news .ajax__tab_body \n",
       "{\n",
       "    font-family:verdana,tahoma,helvetica;\n",
       "    font-size:10pt;\n",
       "    padding:0.25em 0.5em;\n",
       "    background-color:#DBDCD7;    \n",
       "    border:solid 1px #808080;\n",
       "    border-top-width:0px;\n",
       "}\t\t\t\t\t\t\n",
       "    </style>\n",
       "<link href=\"/WebResource.axd?d=7hl2qxFLDZyxzNxDHGK58O2sE5RfFod6c_xlsqS4aIfLRa1NDCNNOhTPEv-_xXP0T42oD9rziujlluG_O848GoKzDda9MhOmfyG9lf0saD-BfB2laqo1657KHFQGDZr3qhYWjw2&amp;t=633083862300000000\" rel=\"stylesheet\" type=\"text/css\"/><link href=\"/WebResource.axd?d=7hl2qxFLDZyxzNxDHGK58O2sE5RfFod6c_xlsqS4aIfLRa1NDCNNOhTPEv-_xXP0T42oD9rziujlluG_O848GoKzDda9MhOmfyG9lf0saD-BfB2laqo1657KHFQGDZr3qhYWjw2&amp;t=633083862300000000\" rel=\"stylesheet\" type=\"text/css\"/><link href=\"/WebResource.axd?d=7hl2qxFLDZyxzNxDHGK58O2sE5RfFod6c_xlsqS4aIfLRa1NDCNNOhTPEv-_xXP0T42oD9rziujlluG_O848GoKzDda9MhOmfyG9lf0saD-BfB2laqo1657KHFQGDZr3qhYWjw2&amp;t=633083862300000000\" rel=\"stylesheet\" type=\"text/css\"/></head>\n",
       "<body id=\"ctl00_MasterPageBody\">\n",
       "<form action=\"default.aspx\" id=\"aspnetForm\" method=\"post\" name=\"aspnetForm\">\n",
       "<input id=\"ctl00_cphMain_tcMarkets_ClientState\" name=\"ctl00_cphMain_tcMarkets_ClientState\" type=\"hidden\" value='{\"ActiveTabIndex\":0,\"TabState\":[true,true]}'/>\n",
       "<input id=\"__VIEWSTATE\" name=\"__VIEWSTATE\" type=\"hidden\" value=\"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\"/>\n",
       "<script src=\"/WebResource.axd?d=NE6TTsQqLhgVXopdTy6LeW-HVTCobglB850nJp8fYANoOo1sJYLpidGb1U8QqDURyi5CCtJcFZC6yQ0_Kai3_IP_NYg1&amp;t=636271491500000000\" type=\"text/javascript\"></script>\n",
       "<script src=\"/ScriptResource.axd?d=6x1qftnDPi8TfTHxMxKUjEbhR37JBoXwm-j4jqpsVAndaVvhZczrwwaxOklbi2W2uEQnjFlGhjHwXCdJabzvwdLUq5Z4qQMKWTUlh_8sbCgqfGE7kyT5FiDvehCqfyOAtSjn1pwsFMg_PblD3U9MJTJ4epQ1&amp;t=3f4a792d\" type=\"text/javascript\"></script>\n",
       "<script src=\"/ScriptResource.axd?d=3zPLZ4UNxan3bMw4qPlJQBMs65wfp58TtiGTvoTQLFEQ9Vv6h2HvU0fYOoAwTLoWjyL8J8c-7QtnbkaFEZoI4IubWooPQFze1GY_cAYVncTTTiYagcbNSy5w01tuzzHediX5aBB3GBPq8aXrFPfPZu_C-381&amp;t=351f73d\" type=\"text/javascript\"></script>\n",
       "<script src=\"/ScriptResource.axd?d=VDmX4OZClWj-VaS_QORuMLlpn37risZchdsOLdxr1t4UemfSpz2NGJq2UOTckTZ0DJJXqAgSPerYJp76A8NwlyVcF_PejeimpFonjFg4xHaWofWNpaQxYKRRwrl97WeIDkDQNrqo4ua_TMbWufOqLxXqv1c1&amp;t=351f73d\" type=\"text/javascript\"></script>\n",
       "<script src=\"/ScriptResource.axd?d=zLTvT9SwyHP6vtp94buhCsyyN0lfUciCl9NlFL6GLXnDMKONAbdmOeH-nhRol8dhIVyXMtq7tCMuGxZdR92DSCqJn--B5ELZJ4iPZoeXcfN7V_lT9ufW-OG8XxzqJodYwZNyX8rZU536cnhN4XcIZMW93ew1&amp;t=351f73d\" type=\"text/javascript\"></script>\n",
       "<script src=\"/ScriptResource.axd?d=uFjod1_-1eOSt57mwYCEKIvcDhNVjnadMT5vrVoyiuMiEafWIhc-dxt0ZCJvBWGBoQT2MVVwUKnuj5535uDpkRmHjNbbhU9T0rmFhtiT-uwzySDdjJRwBQ9rOBlaH7_7TiMGew2&amp;t=351f73d\" type=\"text/javascript\"></script>\n",
       "<script src=\"/ScriptResource.axd?d=UqHx69xSGpV_4oyA8Nar37NKOVz6izOXDVhTBQ9aO7ugFgJ_skyDg82IFowHrIdk--Ei5M45IHD-5amXMj14zN7x7wbddtxbpb7rAsBAoNQGxDc4nHUn1vT3xk5NJHOOLQ1ZazCnjycSOlFAjCcp2gcBp3AIbfMcAER_EhL4rxgTNTCh0&amp;t=351f73d\" type=\"text/javascript\"></script>\n",
       "<input id=\"__VIEWSTATEGENERATOR\" name=\"__VIEWSTATEGENERATOR\" type=\"hidden\" value=\"CA0B0334\"/>\n",
       "<!--Begin Context Menu -->\n",
       "<!--end Context Menu -->\n",
       "<div class=\"border BackgroundColor\" id=\"ctl00_divBorder\" style=\"width:780px;margin-left:auto;margin-right:auto;\">\n",
       "<table border=\"0\" cellpadding=\"0\" cellspacing=\"0\" id=\"table1\" width=\"100%\">\n",
       "<tr>\n",
       "<td valign=\"top\" width=\"100%\">\n",
       "<table border=\"0\" cellpadding=\"0\" cellspacing=\"0\" width=\"100%\">\n",
       "<!--begin Login panel-->\n",
       "<div id=\"ctl00_pnLogin\">\n",
       "<tr>\n",
       "<td height=\"21\" width=\"648\">\n",
       "<a href=\"/default.aspx\">\n",
       "<img border=\"0\" height=\"51\" src=\"/pics/logo_up_r1_c1.jpg\" width=\"648\"/></a></td>\n",
       "<td>\n",
       "<table border=\"0\" cellpadding=\"0\" cellspacing=\"0\" id=\"Table2\">\n",
       "<tr>\n",
       "<td align=\"center\" background=\"/pics/register_r1_c1.jpg\" height=\"21\" width=\"133\">\n",
       "<span class=\"LinkNormal\"><a class=\"Color2 Bold\" href=\"/Public/Registration.aspx\">Register</a></span></td>\n",
       "</tr>\n",
       "<tr>\n",
       "<td height=\"6\">\n",
       "<img height=\"13\" src=\"/pics/register_r2_c1.jpg\" width=\"133\"/></td>\n",
       "</tr>\n",
       "<tr>\n",
       "<td align=\"right\" background=\"/pics/register_r3_c1.jpg\" height=\"17\">\n",
       "<span class=\"ForgotPassword\"><a class=\"Color7\" href=\"/Public/Forgot_Password.aspx\">Forgot\n",
       "                                                        your password?</a></span></td>\n",
       "</tr>\n",
       "</table>\n",
       "</td>\n",
       "<td background=\"/images2/loggedmenu/logo_top_r1_c23.gif\">\n",
       "</td>\n",
       "</tr>\n",
       "<tr>\n",
       "<td width=\"648\">\n",
       "<table border=\"0\" cellpadding=\"0\" cellspacing=\"0\">\n",
       "<tr>\n",
       "<td>\n",
       "<a href=\"/default.aspx\">\n",
       "<img border=\"0\" height=\"53\" src=\"/pics/logo_up_r4_c2.jpg\"/></a></td>\n",
       "<td>\n",
       "<input border=\"0\" id=\"ctl00_btnLogin\" name=\"ctl00$btnLogin\" src=\"/pics/login_image.jpg\" type=\"image\"/></td>\n",
       "<td>\n",
       "<img border=\"0\" height=\"53\" id=\"ctl00_imgEmailPassword\" src=\"/pics/email_password_lables.jpg\" width=\"68\"/></td>\n",
       "</tr>\n",
       "</table>\n",
       "</td>\n",
       "<td background=\"/pics/fields.jpg\">\n",
       "<table border=\"0\" cellpadding=\"1\" cellspacing=\"0\" id=\"Table3\" width=\"100%\">\n",
       "<tr>\n",
       "<td>\n",
       "<input class=\"formzindex\" id=\"ctl00_UserName\" maxlength=\"100\" name=\"ctl00$UserName\" type=\"text\"/></td>\n",
       "</tr>\n",
       "<tr>\n",
       "<td>\n",
       "<input class=\"formzindex\" id=\"ctl00_Password\" maxlength=\"100\" name=\"ctl00$Password\" type=\"password\"/></td>\n",
       "</tr>\n",
       "</table>\n",
       "</td>\n",
       "<td background=\"/images2/loggedmenu/logo_top_r2_c23.gif\" width=\"100%\">\n",
       "</td>\n",
       "</tr>\n",
       "</div>\n",
       "<!--end Login panel-->\n",
       "<!--begin Logout panel-->\n",
       "<!--end Logout panel-->\n",
       "</table>\n",
       "</td>\n",
       "</tr>\n",
       "<tr>\n",
       "<td align=\"left\" background=\"/pics/menu/background.jpg\" width=\"100%\">\n",
       "<table border=\"0\" cellpadding=\"0\" cellspacing=\"0\">\n",
       "<tr>\n",
       "<td align=\"left\" background=\"/pics/menu/background.jpg\" width=\"100%\">\n",
       "<a href=\"#ctl00_mnuMain_SkipLink\"><img alt=\"Skip Navigation Links\" border=\"0\" height=\"0\" src=\"/WebResource.axd?d=djdAdkrkoaz-QtimfTzKwUrrFHECBviW001F1i-V2VkwjchibuRpLMNa88qDv24lwDX3MPfDGcMoCWeixmnbSq1evVE1&amp;t=636271491500000000\" width=\"0\"/></a><table border=\"0\" cellpadding=\"0\" cellspacing=\"0\" id=\"ctl00_mnuMain\">\n",
       "<tr>\n",
       "<td id=\"ctl00_mnuMainn0\" onkeyup=\"Menu_Key(event)\" onmouseout=\"Menu_Unhover(this)\" onmouseover=\"Menu_HoverStatic(this)\"><table border=\"0\" cellpadding=\"0\" cellspacing=\"0\" class=\"StaticMenuItem\" width=\"100%\">\n",
       "<tr>\n",
       "<td nowrap=\"nowrap\"><a class=\"StaticMenuItem\" href=\"Public/About_Us.aspx\">ABOUT US</a></td>\n",
       "</tr>\n",
       "</table></td><td width=\"3\"></td><td id=\"ctl00_mnuMainn1\" onkeyup=\"Menu_Key(event)\" onmouseout=\"Menu_Unhover(this)\" onmouseover=\"Menu_HoverStatic(this)\"><table border=\"0\" cellpadding=\"0\" cellspacing=\"0\" class=\"StaticMenuItem\" width=\"100%\">\n",
       "<tr>\n",
       "<td nowrap=\"nowrap\"><a class=\"StaticMenuItem\" href=\"Spot/Resin_Entry.aspx\">REQUEST RESIN</a></td>\n",
       "</tr>\n",
       "</table></td><td width=\"3\"></td><td id=\"ctl00_mnuMainn2\" onkeyup=\"Menu_Key(event)\" onmouseout=\"Menu_Unhover(this)\" onmouseover=\"Menu_HoverStatic(this)\"><table border=\"0\" cellpadding=\"0\" cellspacing=\"0\" class=\"StaticMenuItem\" width=\"100%\">\n",
       "<tr>\n",
       "<td nowrap=\"nowrap\"><a class=\"StaticMenuItem\" href=\"Research/WeeklyReview.aspx\">RESEARCH</a></td>\n",
       "</tr>\n",
       "</table></td><td width=\"3\"></td><td id=\"ctl00_mnuMainn3\" onkeyup=\"Menu_Key(event)\" onmouseout=\"Menu_Unhover(this)\" onmouseover=\"Menu_HoverStatic(this)\"><table border=\"0\" cellpadding=\"0\" cellspacing=\"0\" class=\"StaticMenuItem\" width=\"100%\">\n",
       "<tr>\n",
       "<td nowrap=\"nowrap\"><a class=\"StaticMenuItem\" href=\"#\">SUPPORT CENTER</a></td>\n",
       "</tr>\n",
       "</table></td><td width=\"3\"></td><td id=\"ctl00_mnuMainn4\" onkeyup=\"Menu_Key(event)\" onmouseout=\"Menu_Unhover(this)\" onmouseover=\"Menu_HoverStatic(this)\"><table border=\"0\" cellpadding=\"0\" cellspacing=\"0\" class=\"StaticMenuItem\" width=\"100%\">\n",
       "<tr>\n",
       "<td nowrap=\"nowrap\"><a class=\"StaticMenuItem\" href=\"Public/Contact_Us.aspx\">CONTACT US</a></td>\n",
       "</tr>\n",
       "</table></td>\n",
       "</tr>\n",
       "</table><div id=\"ctl00_mnuMainn3Items\" style=\"display:none;\">\n",
       "<table border=\"0\" cellpadding=\"0\" cellspacing=\"0\">\n",
       "<tr id=\"ctl00_mnuMainn5\" onkeyup=\"Menu_Key(event)\" onmouseout=\"Menu_Unhover(this)\" onmouseover=\"Menu_HoverDynamic(this)\">\n",
       "<td><table border=\"0\" cellpadding=\"0\" cellspacing=\"0\" class=\"DynamicMenuItem\" width=\"100%\">\n",
       "<tr>\n",
       "<td nowrap=\"nowrap\" width=\"100%\"><a class=\"DynamicMenuItem\" href=\"Public/FAQs.aspx\">FAQ's</a></td>\n",
       "</tr>\n",
       "</table></td>\n",
       "</tr><tr>\n",
       "<td><img alt=\"\" src=\"images/menu/MenuSeparator.gif\"/></td>\n",
       "</tr><tr id=\"ctl00_mnuMainn6\" onkeyup=\"Menu_Key(event)\" onmouseout=\"Menu_Unhover(this)\" onmouseover=\"Menu_HoverDynamic(this)\">\n",
       "<td><table border=\"0\" cellpadding=\"0\" cellspacing=\"0\" class=\"DynamicMenuItem\" width=\"100%\">\n",
       "<tr>\n",
       "<td nowrap=\"nowrap\" width=\"100%\"><a class=\"DynamicMenuItem\" href=\"Public/Glossary.aspx\">Glossary</a></td>\n",
       "</tr>\n",
       "</table></td>\n",
       "</tr><tr>\n",
       "<td><img alt=\"\" src=\"images/menu/MenuSeparator.gif\"/></td>\n",
       "</tr><tr id=\"ctl00_mnuMainn7\" onkeyup=\"Menu_Key(event)\" onmouseout=\"Menu_Unhover(this)\" onmouseover=\"Menu_HoverDynamic(this)\">\n",
       "<td><table border=\"0\" cellpadding=\"0\" cellspacing=\"0\" class=\"DynamicMenuItem\" width=\"100%\">\n",
       "<tr>\n",
       "<td nowrap=\"nowrap\" width=\"100%\"><a class=\"DynamicMenuItem\" href=\"Public/Careers.aspx\">Careers</a></td>\n",
       "</tr>\n",
       "</table></td>\n",
       "</tr><tr>\n",
       "<td><img alt=\"\" src=\"images/menu/MenuSeparator.gif\"/></td>\n",
       "</tr><tr id=\"ctl00_mnuMainn8\" onkeyup=\"Menu_Key(event)\" onmouseout=\"Menu_Unhover(this)\" onmouseover=\"Menu_HoverDynamic(this)\">\n",
       "<td><table border=\"0\" cellpadding=\"0\" cellspacing=\"0\" class=\"DynamicMenuItem\" width=\"100%\">\n",
       "<tr>\n",
       "<td nowrap=\"nowrap\" width=\"100%\"><a class=\"DynamicMenuItem\" href=\"Public/Links/LinksMain.aspx\">Plastics Links</a></td>\n",
       "</tr>\n",
       "</table></td>\n",
       "</tr><tr>\n",
       "<td><img alt=\"\" src=\"images/menu/MenuSeparator.gif\"/></td>\n",
       "</tr>\n",
       "</table><div align=\"center\" class=\"DynamicMenuItem\" id=\"ctl00_mnuMainn3ItemsUp\" onmouseout=\"PopOut_Stop(this)\" onmouseover=\"PopOut_Up(this)\" style=\"display:none;\">\n",
       "<img alt=\"Scroll up\" src=\"/WebResource.axd?d=W0jzDCYKq3kLA5BPLpcmONKXFnFEl1dKhGO1zbxfEW0zkG063HS12AohPPIvTFq3YsjlBlgBJR1NGV0DaZc4ACDJsks1&amp;t=636271491500000000\"/>\n",
       "</div><div align=\"center\" class=\"DynamicMenuItem\" id=\"ctl00_mnuMainn3ItemsDn\" onmouseout=\"PopOut_Stop(this)\" onmouseover=\"PopOut_Down(this)\" style=\"display:none;\">\n",
       "<img alt=\"Scroll down\" src=\"/WebResource.axd?d=tPK7qLdYuDfuqykL-rbXnjoOWO9YfNaRu068dHmqL1T7se7OrIjoOnr_NBrnk1qomrA0IZ7nf8zkFxdlY5kZNGv6qWw1&amp;t=636271491500000000\"/>\n",
       "</div>\n",
       "</div><a id=\"ctl00_mnuMain_SkipLink\"></a>\n",
       "</td>\n",
       "<td>\n",
       "<img src=\"/Pics/menu/menu_orange_phone-1.jpg\"/></td>\n",
       "</tr>\n",
       "</table>\n",
       "</td>\n",
       "</tr>\n",
       "<tr>\n",
       "<td class=\"BackgroundColor\" height=\"100%\" valign=\"top\" width=\"100%\">\n",
       "<div align=\"left\">\n",
       "<table border=\"0\" cellpadding=\"0\" cellspacing=\"0\" width=\"100%\">\n",
       "<tr>\n",
       "<td>\n",
       "<div id=\"switcher-wrap\">\n",
       "<a class=\"image-link\" href=\"#\" id=\"one\" onclick=\"return false\"><span>Image One</span></a>\n",
       "<a class=\"image-link\" href=\"#\" id=\"two\" onclick=\"return false\"><span>Image Two</span></a>\n",
       "<a class=\"image-link\" href=\"#\" id=\"three\" onclick=\"return false\"><span>Image Three</span></a>\n",
       "<a class=\"image-link\" href=\"#\" id=\"four\" onclick=\"return false\"><span>Image Four</span></a>\n",
       "<a class=\"image-link\" href=\"https://www.theplasticsexchange.com/Public/Registration.aspx\" id=\"five\"><span>Image Five</span></a>\n",
       "</div>\n",
       "</td> </tr> </table>\n",
       "</div>\n",
       "<table align=\"center\" bgcolor=\"#333333\" border=\"0\" cellpadding=\"0\" cellspacing=\"0\" width=\"780\">\n",
       "<tbody>\n",
       "<!--<TR>\n",
       "            <TD width=\"100%\" colSpan=3 height=18>\n",
       "                <APPLET height=18 width=780 code=\"menuscroll2.class\" viewastext>\n",
       "                    <PARAM NAME=\"yposition\" VALUE=\"14\">\n",
       "                    <PARAM NAME=\"arrow_color\" VALUE=\"FFFFFF\">\n",
       "                    <PARAM NAME=\"highlight_rect_color\" VALUE=\"CC6600\">\n",
       "                    <PARAM NAME=\"regcode\" VALUE=\"8mnxzaqre58g\">\n",
       "                    <PARAM NAME=\"highlight_arrow_color\" VALUE=\"CC6600\">\n",
       "                    <PARAM NAME=\"font_size\" VALUE=\"10\">\n",
       "                    <PARAM NAME=\"info\" VALUE=\"Applet by Gokhan Dagli,www.appletcollection.com\">\n",
       "                    <PARAM NAME=\"applet_height\" VALUE=\"14\">\n",
       "                    <PARAM NAME=\"text_color\" VALUE=\"000000\">\n",
       "                    <PARAM NAME=\"font_type\" VALUE=\"Arial,Verdana\">\n",
       "                    <PARAM NAME=\"space\" VALUE=\"10\">\n",
       "                    <PARAM NAME=\"bgcolor\" VALUE=\"000000\">\n",
       "                    <PARAM NAME=\"arrow_bgcolor\" VALUE=\"000000\">\n",
       "                    <PARAM NAME=\"scroll_delay\" VALUE=\"10\">\n",
       "                    <PARAM NAME=\"highlight_text_color\" VALUE=\"FFFFFF\">\n",
       "                    <PARAM NAME=\"mouse_over\" VALUE=\"stop\">\n",
       "                    <PARAM NAME=\"rect_color\" VALUE=\"CCCCCC\">\n",
       "                    <PARAM NAME=\"border_color\" VALUE=\"000000\">\n",
       "                    <PARAM NAME=\"applet_width\" VALUE=\"100%\">\n",
       "                    <PARAM NAME=\"xspace\" VALUE=\"1\">\n",
       "                    <PARAM NAME=\"font_style\" VALUE=\"0\">\n",
       "                    <PARAM NAME=\"scroll_jump\" VALUE=\"1\">\n",
       "                    <param name=text0 value='3 TL Bags PP Homopolymer - Inj Prime Raffia Melt: 3.5 $0.9600'><param name=link0 value=http://www.theplasticsexchange.com/Spot/Inquire.aspx?Id=72415><param name=target_frame82 value=_self><param name=text1 value='4 TL Bags PP Homopolymer - Inj Prime Melt: 12 $0.9600'><param name=link1 value=http://www.theplasticsexchange.com/Spot/Inquire.aspx?Id=72416><param name=target_frame83 value=_self><param name=text2 value='1 TL Bags PP Homopolymer - Inj Supersacks Melt: 3.8 $0.9050'><param name=link2 value=http://www.theplasticsexchange.com/Spot/Inquire.aspx?Id=72417><param name=target_frame84 value=_self><param name=text3 value='1 TL Bags PP Copolymer - Inj Prime Melt: 28 $1.0600'><param name=link3 value=http://www.theplasticsexchange.com/Spot/Inquire.aspx?Id=72419><param name=target_frame85 value=_self><param name=text4 value='1 TL Bags PP Copolymer - Inj Prime Melt: 12 $1.0600'><param name=link4 value=http://www.theplasticsexchange.com/Spot/Inquire.aspx?Id=72420><param name=target_frame86 value=_self><param name=text5 value='4 TL Bags PP Copolymer - Inj Supersacks Melt: 2-2.5 $0.9800'><param name=link5 value=http://www.theplasticsexchange.com/Spot/Inquire.aspx?Id=72421><param name=target_frame87 value=_self><param name=text6 value='2 TL Bags PP Copolymer - Inj Supersacks Melt: .7-.9 $0.9800'><param name=link6 value=http://www.theplasticsexchange.com/Spot/Inquire.aspx?Id=72422><param name=target_frame88 value=_self><param name=text7 value='1 TL Boxes PP Copolymer - Inj  Melt: 50-55 $0.9800'><param name=link7 value=http://www.theplasticsexchange.com/Spot/Inquire.aspx?Id=72423><param name=target_frame89 value=_self><param name=text8 value='3 TL Bags PP Copolymer - Inj Prime in Supersacks Melt: 20 $1.0100'><param name=link8 value=http://www.theplasticsexchange.com/Spot/Inquire.aspx?Id=72424><param name=target_frame90 value=_self><param name=text9 value='2 TL Bags PP Copolymer - Inj Supersacks Melt: 2 $0.9800'><param name=link9 value=http://www.theplasticsexchange.com/Spot/Inquire.aspx?Id=72425><param name=target_frame91 value=_self><param name=text10 value='2 TL Boxes PP Copolymer - Inj  Melt: 45-50 $0.9800'><param name=link10 value=http://www.theplasticsexchange.com/Spot/Inquire.aspx?Id=72426><param name=target_frame92 value=_self><param name=text11 value='1 HC PP Homopolymer - Inj  Melt: 1.3 $0.8500'><param name=link11 value=http://www.theplasticsexchange.com/Spot/Inquire.aspx?Id=72462><param name=target_frame93 value=_self><param name=text12 value='4 TL Bags HMWPE - Film  Melt: 8 HLMI Density: 0.949 $0.6750'><param name=link12 value=http://www.theplasticsexchange.com/Spot/Inquire.aspx?Id=72463><param name=target_frame94 value=_self><param name=text13 value='2 TL Bags PP Copolymer - Inj  Melt: 20 $1.0500'><param name=link13 value=http://www.theplasticsexchange.com/Spot/Inquire.aspx?Id=72464><param name=target_frame95 value=_self><param name=text14 value='6 TL Bags HDPE - Inj Prime Melt: 4 Density: 0.952 $0.6700'><param name=link14 value=http://www.theplasticsexchange.com/Spot/Inquire.aspx?Id=72470><param name=target_frame96 value=_self><param name=text15 value='5 TL Boxes HMWPE - Film Generic Prime Bimodal Melt: 8.33 HLMI Density: 0.952 $0.7300'><param name=link15 value=http://www.theplasticsexchange.com/Spot/Inquire.aspx?Id=72477><param name=target_frame97 value=_self><param name=text16 value='5 TL Boxes PP Copolymer - Inj ready late July Melt: 12 $0.9800'><param name=link16 value=http://www.theplasticsexchange.com/Spot/Inquire.aspx?Id=72479><param name=target_frame98 value=_self><param name=text17 value='2 TL Bags PP Homopolymer - Inj Supersacks Melt: 70-80 $0.8800'><param name=link17 value=http://www.theplasticsexchange.com/Spot/Inquire.aspx?Id=72482><param name=target_frame99 value=_self><param name=text18 value='5 TL Bags LLDPE - Inj ready end of July Melt: 18 Density: 0.931 $0.6800'><param name=link18 value=http://www.theplasticsexchange.com/Spot/Inquire.aspx?Id=72484><param name=target_frame100 value=_self><param name=text19 value='5 TL Bags HDPE - Inj Generic Prime Melt: 4.5 Density: 0.953 $0.7200'><param name=link19 value=http://www.theplasticsexchange.com/Spot/Inquire.aspx?Id=72485><param name=target_frame101 value=_self><param name=text20 value='1 BT PP Homopolymer - Inj boxes +.04/lb Melt: 14 $0.8700'><param name=link20 value=http://www.theplasticsexchange.com/Spot/Inquire.aspx?Id=72491><param name=target_frame102 value=_self><param name=text21 value='1 TL Bags HDPE - Inj  Melt: 4.5 Density: 0.952 $0.6500'><param name=link21 value=http://www.theplasticsexchange.com/Spot/Inquire.aspx?Id=72492><param name=target_frame103 value=_self><param name=text22 value='4 TL Bags HDPE - Inj good color Melt: 18 Density: 0.953 $0.6600'><param name=link22 value=http://www.theplasticsexchange.com/Spot/Inquire.aspx?Id=72493><param name=target_frame104 value=_self><param name=text23 value='1 TL Bags PP Copolymer - Inj  Melt: 20 $0.9100'><param name=link23 value=http://www.theplasticsexchange.com/Spot/Inquire.aspx?Id=72494><param name=target_frame105 value=_self><param name=text24 value='1 HC PP Copolymer - Inj yellow pellets Melt: 5 $0.7100'><param name=link24 value=http://www.theplasticsexchange.com/Spot/Inquire.aspx?Id=72495><param name=target_frame106 value=_self><param name=text25 value='1 HC PP Copolymer - Inj  Melt: 14 $0.7600'><param name=link25 value=http://www.theplasticsexchange.com/Spot/Inquire.aspx?Id=72496><param name=target_frame107 value=_self><param name=text26 value='1 HC PP Copolymer - Inj  Melt: 5 $0.6800'><param name=link26 value=http://www.theplasticsexchange.com/Spot/Inquire.aspx?Id=72497><param name=target_frame108 value=_self><param name=text27 value='3 HC HDPE - Blow Mold Phillips Process Melt: 5 HLMI Density: 0.948 $0.6500'><param name=link27 value=http://www.theplasticsexchange.com/Spot/Inquire.aspx?Id=72498><param name=target_frame109 value=_self><param name=text28 value='1 HC LLDPE - Film Hexene Melt: .73 Density: 0.918 $0.6800'><param name=link28 value=http://www.theplasticsexchange.com/Spot/Inquire.aspx?Id=72499><param name=target_frame110 value=_self><param name=text29 value='1 HC LLDPE - Film Octene Melt: 1 Density: 0.920 $0.7600'><param name=link29 value=http://www.theplasticsexchange.com/Spot/Inquire.aspx?Id=72500><param name=target_frame111 value=_self><param name=text30 value='1 HC LLDPE - Film Octene Melt: 1 Density: 0.920 $0.7600'><param name=link30 value=http://www.theplasticsexchange.com/Spot/Inquire.aspx?Id=72501><param name=target_frame112 value=_self><param name=text31 value='1 HC LLDPE - Film Octene Melt: 2 Density: 0.920 $0.7600'><param name=link31 value=http://www.theplasticsexchange.com/Spot/Inquire.aspx?Id=72502><param name=target_frame113 value=_self><param name=text32 value='1 HC LLDPE - Film Octene Melt: 2 Density: 0.920 $0.7600'><param name=link32 value=http://www.theplasticsexchange.com/Spot/Inquire.aspx?Id=72503><param name=target_frame114 value=_self><param name=text33 value='2 TL Bags LLDPE - Inj ready end of July Melt: 48 Density: 0.924 $0.7000'><param name=link33 value=http://www.theplasticsexchange.com/Spot/Inquire.aspx?Id=72504><param name=target_frame115 value=_self><param name=text34 value='3 TL Bags HMWPE - Film Prime Bimodal e-924 type Melt: 9 HLMI Density: 0.949 $0.7350'><param name=link34 value=http://www.theplasticsexchange.com/Spot/Inquire.aspx?Id=72505><param name=target_frame116 value=_self><param name=text35 value='1 TL Bags HDPE - Inj Prime Melt: 40 Density: 0.952 $0.8500'><param name=link35 value=http://www.theplasticsexchange.com/Spot/Inquire.aspx?Id=72506><param name=target_frame117 value=_self><param name=text36 value='4 TL Bags LDPE - Film Prime  Melt: .3 Density: 0.937 $0.8100'><param name=link36 value=http://www.theplasticsexchange.com/Spot/Inquire.aspx?Id=72507><param name=target_frame118 value=_self><param name=text37 value='1 HC LLDPE - Film Butene Melt: 2 Density: 0.918 $0.7300'><param name=link37 value=http://www.theplasticsexchange.com/Spot/Inquire.aspx?Id=72509><param name=target_frame119 value=_self><param name=text38 value='1 HC LLDPE - Film Prime Butene Melt: 1 Density: 0.920 $0.7400'><param name=link38 value=http://www.theplasticsexchange.com/Spot/Inquire.aspx?Id=72511><param name=target_frame120 value=_self><param name=text39 value='1 HC LLDPE - Film Metallocene Melt: 1 Density: 0.916 $0.7650'><param name=link39 value=http://www.theplasticsexchange.com/Spot/Inquire.aspx?Id=72512><param name=target_frame121 value=_self><param name=text40 value='1 HC HDPE - Blow Mold Prime 5502 Type Melt: .35 Density: 0.955 $0.7300'><param name=link40 value=http://www.theplasticsexchange.com/Spot/Inquire.aspx?Id=72513><param name=target_frame122 value=_self><param name=text0 value='4 TL Bags HMWPE - Film Prime Melt: 8.5 HLMI Density: 0.949 $0.7300'><param name=link0 value=http://www.theplasticsexchange.com/Spot/Inquire.aspx?Id=72265><param name=target_frame0 value=_self><param name=text1 value='1 TL Bags LDPE - Inj Supersacks Melt: 30-35 Density: 0.922 $0.7800'><param name=link1 value=http://www.theplasticsexchange.com/Spot/Inquire.aspx?Id=72268><param name=target_frame1 value=_self><param name=text2 value='2 TL Bags LDPE - Inj  Melt: 8 Density: 0.920 $0.8200'><param name=link2 value=http://www.theplasticsexchange.com/Spot/Inquire.aspx?Id=72269><param name=target_frame2 value=_self><param name=text3 value='1 TL Boxes LLDPE - Film Prime Metallocene Melt: 1 Density: 0.918 $0.7800'><param name=link3 value=http://www.theplasticsexchange.com/Spot/Inquire.aspx?Id=72286><param name=target_frame3 value=_self><param name=text4 value='2 TL Bags LLDPE - Film Prime Hexene Melt: 1 Density: 0.918 $0.7600'><param name=link4 value=http://www.theplasticsexchange.com/Spot/Inquire.aspx?Id=72287><param name=target_frame4 value=_self><param name=text5 value='3 TL Bags LLDPE - Film Prime Butene Melt: 1 Density: 0.920 $0.7750'><param name=link5 value=http://www.theplasticsexchange.com/Spot/Inquire.aspx?Id=72288><param name=target_frame5 value=_self><param name=text6 value='1 TL Bags LLDPE - Film Prime Melt: .9 Density: 0.923 $0.7350'><param name=link6 value=http://www.theplasticsexchange.com/Spot/Inquire.aspx?Id=72289><param name=target_frame6 value=_self><param name=text7 value='4 TL Bags LLDPE - Film Butene Melt: 2 Density: 0.919 $0.6700'><param name=link7 value=http://www.theplasticsexchange.com/Spot/Inquire.aspx?Id=72290><param name=target_frame7 value=_self><param name=text8 value='2 TL Bags LLDPE - Film Metallocene Melt: 1 Density: 0.918 $0.7600'><param name=link8 value=http://www.theplasticsexchange.com/Spot/Inquire.aspx?Id=72291><param name=target_frame8 value=_self><param name=text9 value='2 TL Bags LLDPE - Film Metallocene Melt: 1 Density: 0.918 $0.7200'><param name=link9 value=http://www.theplasticsexchange.com/Spot/Inquire.aspx?Id=72293><param name=target_frame9 value=_self><param name=text10 value='4 TL Bags LLDPE - Film Prime Butene Melt: 2 Density: 0.920 $0.7400'><param name=link10 value=http://www.theplasticsexchange.com/Spot/Inquire.aspx?Id=72294><param name=target_frame10 value=_self><param name=text11 value='4 TL Bags LLDPE - Film Prime Butene Melt: 1 Density: 0.918 $0.7500'><param name=link11 value=http://www.theplasticsexchange.com/Spot/Inquire.aspx?Id=72295><param name=target_frame11 value=_self><param name=text12 value='4 TL Bags LLDPE - Film Prime Butene Melt: 1 Density: 0.918 $0.7400'><param name=link12 value=http://www.theplasticsexchange.com/Spot/Inquire.aspx?Id=72297><param name=target_frame12 value=_self><param name=text13 value='4 TL Bags LLDPE - Film Prime Butene Melt: 2 Density: 0.920 $0.7500'><param name=link13 value=http://www.theplasticsexchange.com/Spot/Inquire.aspx?Id=72298><param name=target_frame13 value=_self><param name=text14 value='4 TL Bags HMWPE - Film Prime Melt: 8.5 HLMI Density: 0.949 $0.7200'><param name=link14 value=http://www.theplasticsexchange.com/Spot/Inquire.aspx?Id=72299><param name=target_frame14 value=_self><param name=text15 value='2 TL Bags HDPE - Inj  Melt: 9.39 Density: 0.951 $0.7250'><param name=link15 value=http://www.theplasticsexchange.com/Spot/Inquire.aspx?Id=72307><param name=target_frame15 value=_self><param name=text16 value='1 TL Bags HDPE - Inj Supersacks Melt: 10.5 Density: 0.953 $0.7250'><param name=link16 value=http://www.theplasticsexchange.com/Spot/Inquire.aspx?Id=72308><param name=target_frame16 value=_self><param name=text17 value='2 TL Bags HDPE - Inj Prime Melt: 20 Density: 0.952 $0.7950'><param name=link17 value=http://www.theplasticsexchange.com/Spot/Inquire.aspx?Id=72309><param name=target_frame17 value=_self><param name=text18 value='1 TL Bags HDPE - Inj Supersacks Melt: 8-10 Density: 0.953 $0.7050'><param name=link18 value=http://www.theplasticsexchange.com/Spot/Inquire.aspx?Id=72311><param name=target_frame18 value=_self><param name=text19 value='4 TL Bags HDPE - Inj Prime Crate Grade Melt: 8 Density: 0.960 $0.7850'><param name=link19 value=http://www.theplasticsexchange.com/Spot/Inquire.aspx?Id=72312><param name=target_frame19 value=_self><param name=text20 value='4 TL Bags HDPE - Inj Prime Crate Grade Melt: 8 Density: 0.960 $0.7950'><param name=link20 value=http://www.theplasticsexchange.com/Spot/Inquire.aspx?Id=72313><param name=target_frame20 value=_self><param name=text21 value='1 TL Bags HDPE - Inj  Melt: 33 Density: 0.952 $0.7250'><param name=link21 value=http://www.theplasticsexchange.com/Spot/Inquire.aspx?Id=72314><param name=target_frame21 value=_self><param name=text22 value='1 TL Bags HDPE - Inj Prime Pail Grade Melt: 6.6 Density: 0.953 $0.7900'><param name=link22 value=http://www.theplasticsexchange.com/Spot/Inquire.aspx?Id=72316><param name=target_frame22 value=_self><param name=text23 value='3 TL Bags HDPE - Inj Prime Melt: 20 Density: 0.952 $0.8100'><param name=link23 value=http://www.theplasticsexchange.com/Spot/Inquire.aspx?Id=72317><param name=target_frame23 value=_self><param name=text24 value='4 TL Bags HDPE - Inj Prime Crate Grade Melt: 8 Density: 0.960 $0.7600'><param name=link24 value=http://www.theplasticsexchange.com/Spot/Inquire.aspx?Id=72320><param name=target_frame24 value=_self><param name=text25 value='4 TL Bags HDPE - Inj Prime Pail Grade Melt: 7 Density: 0.953 $0.7700'><param name=link25 value=http://www.theplasticsexchange.com/Spot/Inquire.aspx?Id=72321><param name=target_frame25 value=_self><param name=text26 value='4 TL Bags HDPE - Inj Prime Melt: 20 Density: 0.952 $0.7800'><param name=link26 value=http://www.theplasticsexchange.com/Spot/Inquire.aspx?Id=72322><param name=target_frame26 value=_self><param name=text27 value='4 TL Bags HDPE - Inj Prime Melt: 20 Density: 0.952 $0.7500'><param name=link27 value=http://www.theplasticsexchange.com/Spot/Inquire.aspx?Id=72323><param name=target_frame27 value=_self><param name=text28 value='4 TL Bags HDPE - Inj Prime Crate Grade Melt: 8 Density: 0.960 $0.7500'><param name=link28 value=http://www.theplasticsexchange.com/Spot/Inquire.aspx?Id=72324><param name=target_frame28 value=_self><param name=text29 value='4 TL Bags HDPE - Inj Prime Pail Grade Melt: 7 Density: 0.953 $0.7600'><param name=link29 value=http://www.theplasticsexchange.com/Spot/Inquire.aspx?Id=72325><param name=target_frame29 value=_self><param name=text30 value='4 TL Bags HDPE - Inj Prime Pail Grade Melt: 7 Density: 0.953 $0.7900'><param name=link30 value=http://www.theplasticsexchange.com/Spot/Inquire.aspx?Id=72326><param name=target_frame30 value=_self><param name=text31 value='2 TL Bags HDPE - Blow Mold Prime 5502 Melt: .35 Density: 0.955 $0.7650'><param name=link31 value=http://www.theplasticsexchange.com/Spot/Inquire.aspx?Id=72344><param name=target_frame31 value=_self><param name=text32 value='4 TL Bags HDPE - Blow Mold Prime 5502 Melt: .35 Density: 0.955 $0.7700'><param name=link32 value=http://www.theplasticsexchange.com/Spot/Inquire.aspx?Id=72357><param name=target_frame32 value=_self><param name=text33 value='4 TL Bags HDPE - Blow Mold Prime 50100 Type Melt: 10 HLMI Density: 0.950 $0.7700'><param name=link33 value=http://www.theplasticsexchange.com/Spot/Inquire.aspx?Id=72358><param name=target_frame33 value=_self><param name=text34 value='2 TL Bags HDPE - Blow Mold Prime 50100 Type Melt: 10 HLMI Density: 0.950 $0.7600'><param name=link34 value=http://www.theplasticsexchange.com/Spot/Inquire.aspx?Id=72359><param name=target_frame34 value=_self><param name=text35 value='2 TL Bags HDPE - Blow Mold Prime 5502 Melt: .35 Density: 0.955 $0.7500'><param name=link35 value=http://www.theplasticsexchange.com/Spot/Inquire.aspx?Id=72360><param name=target_frame35 value=_self><param name=text36 value='4 TL Boxes HDPE - Blow Mold Prime 6007 Type Melt: .7 Density: 0.960 $0.8300'><param name=link36 value=http://www.theplasticsexchange.com/Spot/Inquire.aspx?Id=72361><param name=target_frame36 value=_self><param name=text37 value='2 TL Bags HDPE - Blow Mold Prime 5502 type Melt: .35 Density: 0.955 $0.7800'><param name=link37 value=http://www.theplasticsexchange.com/Spot/Inquire.aspx?Id=72362><param name=target_frame37 value=_self><param name=text38 value='2 TL Bags HDPE - Blow Mold Prime 5502 Melt: .35 Density: 0.955 $0.7600'><param name=link38 value=http://www.theplasticsexchange.com/Spot/Inquire.aspx?Id=72363><param name=target_frame38 value=_self><param name=text39 value='2 TL Bags HDPE - Blow Mold Prime 5502 Melt: .35 Density: 0.955 $0.7500'><param name=link39 value=http://www.theplasticsexchange.com/Spot/Inquire.aspx?Id=72364><param name=target_frame39 value=_self><param name=text40 value='1 TL Bags HDPE - Blow Mold Prime 6007 Melt: .7 Density: 0.960 $0.8350'><param name=link40 value=http://www.theplasticsexchange.com/Spot/Inquire.aspx?Id=72365><param name=target_frame40 value=_self>\n",
       "                </APPLET>                 \n",
       "            </TD>\n",
       "        </TR>-->\n",
       "<tr><td align=\"left\" background=\"/pics/home_bar_titles_r1_c1.jpg\" class=\"LinkNormal OrangeLink\" height=\"10\" valign=\"middle\" width=\"184\">\n",
       "<strong class=\"Header Color1\">Resin Markets</strong> </td>\n",
       "<td background=\"/pics/home_bar_titles_r1_c1.jpg\"></td>\n",
       "<td align=\"left\" background=\"/pics/home_bar_titles_r1_c1.jpg\" style=\"HEIGHT: 14px\" width=\"50%\">\n",
       "<div class=\"Header Bold Color3\" id=\"lblChartName\"></div></td>\n",
       "</tr>\n",
       "</tbody>\n",
       "</table>\n",
       "<table align=\"center\" bgcolor=\"#000000\" border=\"0\" cellpadding=\"0\" cellspacing=\"0\" width=\"780\"><tbody><tr><td width=\"390\">\n",
       "<div class=\"yui\" id=\"ctl00_cphMain_tcMarkets\">\n",
       "<div id=\"ctl00_cphMain_tcMarkets_header\">\n",
       "<span id=\"__tab_ctl00_cphMain_tcMarkets_tbSpot\">Spot</span><span id=\"__tab_ctl00_cphMain_tcMarkets_TabPanel2\">Contract</span>\n",
       "</div><div id=\"ctl00_cphMain_tcMarkets_body\">\n",
       "<div id=\"ctl00_cphMain_tcMarkets_tbSpot\" style=\"display:none;\">\n",
       "<table border=\"0\" cellpadding=\"0\" cellspacing=\"0\" width=\"100%\">\n",
       "<tr>\n",
       "<td>\n",
       "<table align=\"Center\" bgcolor=\"Black\" border=\"0\" bordercolor=\"Black\" cellpadding=\"2\" cellspacing=\"0\" class=\"LinkNormal WhiteLink\" id=\"ctl00_cphMain_tcMarkets_tbSpot_dgSpot\" rules=\"rows\" width=\"100%\">\n",
       "<tr>\n",
       "<td class=\"ChartContent Bold Color4\"><font color=\"White\" size=\"3\"><b>Resin</b></font></td><td class=\"ChartContent Bold Color4\"><font color=\"White\" size=\"3\"><b>Total lbs</b></font></td><td class=\"ChartContent Bold Color4\"><font color=\"White\" size=\"3\"><b>Low</b></font></td><td class=\"ChartContent Bold Color4\"><font color=\"White\" size=\"3\"><b>High</b></font></td>\n",
       "</tr><tr class=\"hspotcontent\" onclick=\"window.location ='/spot/Spot_Floor.aspx?Filter=9';\" onmouseout=\"this.style.backgroundColor='black';this.style.cursor='pointer';\" onmouseover=\"ChartImg.src = '/Research/Charts/home/Spot_9.png';this.style.backgroundColor='#FF8B00';this.style.cursor='hand';\">\n",
       "<td><font color=\"White\" size=\"3\"><a href=\"/spot/Spot_Floor.aspx?Filter=9\">PP Copolymer - Inj</a></font></td><td class=\"ChartContent Bold Color4\" nowrap=\"nowrap\"><font color=\"White\" size=\"3\">1,611,472</font></td><td class=\"ChartContent Bold Color4\" nowrap=\"nowrap\"><font color=\"White\" size=\"3\">0.680</font></td><td class=\"ChartContent Bold Color4\" nowrap=\"nowrap\"><font color=\"White\" size=\"3\">1.060</font></td>\n",
       "</tr><tr bgcolor=\"Black\" class=\"hspotcontent\" onclick=\"window.location ='/spot/Spot_Floor.aspx?Filter=8';\" onmouseout=\"this.style.backgroundColor='black';this.style.cursor='pointer';\" onmouseover=\"ChartImg.src = '/Research/Charts/home/Spot_8.png';this.style.backgroundColor='#FF8B00';this.style.cursor='hand';\">\n",
       "<td><font color=\"White\" size=\"3\"><a href=\"/spot/Spot_Floor.aspx?Filter=8\">PP Homopolymer - Inj</a></font></td><td class=\"ChartContent Bold Color4\" nowrap=\"nowrap\"><font color=\"White\" size=\"3\">1,729,944</font></td><td class=\"ChartContent Bold Color4\" nowrap=\"nowrap\"><font color=\"White\" size=\"3\">0.850</font></td><td class=\"ChartContent Bold Color4\" nowrap=\"nowrap\"><font color=\"White\" size=\"3\">0.970</font></td>\n",
       "</tr><tr class=\"hspotcontent\" onclick=\"window.location ='/spot/Spot_Floor.aspx?Filter=2';\" onmouseout=\"this.style.backgroundColor='black';this.style.cursor='pointer';\" onmouseover=\"ChartImg.src = '/Research/Charts/home/Spot_2.png';this.style.backgroundColor='#FF8B00';this.style.cursor='hand';\">\n",
       "<td><font color=\"White\" size=\"3\"><a href=\"/spot/Spot_Floor.aspx?Filter=2\">HDPE - Inj</a></font></td><td class=\"ChartContent Bold Color4\" nowrap=\"nowrap\"><font color=\"White\" size=\"3\">2,821,888</font></td><td class=\"ChartContent Bold Color4\" nowrap=\"nowrap\"><font color=\"White\" size=\"3\">0.650</font></td><td class=\"ChartContent Bold Color4\" nowrap=\"nowrap\"><font color=\"White\" size=\"3\">0.850</font></td>\n",
       "</tr><tr bgcolor=\"Black\" class=\"hspotcontent\" onclick=\"window.location ='/spot/Spot_Floor.aspx?Filter=7';\" onmouseout=\"this.style.backgroundColor='black';this.style.cursor='pointer';\" onmouseover=\"ChartImg.src = '/Research/Charts/home/Spot_7.png';this.style.backgroundColor='#FF8B00';this.style.cursor='hand';\">\n",
       "<td><font color=\"White\" size=\"3\"><a href=\"/spot/Spot_Floor.aspx?Filter=7\">LLDPE - Inj</a></font></td><td class=\"ChartContent Bold Color4\" nowrap=\"nowrap\"><font color=\"White\" size=\"3\">881,840</font></td><td class=\"ChartContent Bold Color4\" nowrap=\"nowrap\"><font color=\"White\" size=\"3\">0.680</font></td><td class=\"ChartContent Bold Color4\" nowrap=\"nowrap\"><font color=\"White\" size=\"3\">0.840</font></td>\n",
       "</tr><tr class=\"hspotcontent\" onclick=\"window.location ='/spot/Spot_Floor.aspx?Filter=3';\" onmouseout=\"this.style.backgroundColor='black';this.style.cursor='pointer';\" onmouseover=\"ChartImg.src = '/Research/Charts/home/Spot_3.png';this.style.backgroundColor='#FF8B00';this.style.cursor='hand';\">\n",
       "<td><font color=\"White\" size=\"3\"><a href=\"/spot/Spot_Floor.aspx?Filter=3\">HDPE - Blow Mold</a></font></td><td class=\"ChartContent Bold Color4\" nowrap=\"nowrap\"><font color=\"White\" size=\"3\">2,506,944</font></td><td class=\"ChartContent Bold Color4\" nowrap=\"nowrap\"><font color=\"White\" size=\"3\">0.650</font></td><td class=\"ChartContent Bold Color4\" nowrap=\"nowrap\"><font color=\"White\" size=\"3\">0.835</font></td>\n",
       "</tr><tr bgcolor=\"Black\" class=\"hspotcontent\" onclick=\"window.location ='/spot/Spot_Floor.aspx?Filter=5';\" onmouseout=\"this.style.backgroundColor='black';this.style.cursor='pointer';\" onmouseover=\"ChartImg.src = '/Research/Charts/home/Spot_5.png';this.style.backgroundColor='#FF8B00';this.style.cursor='hand';\">\n",
       "<td><font color=\"White\" size=\"3\"><a href=\"/spot/Spot_Floor.aspx?Filter=5\">LDPE - Inj</a></font></td><td class=\"ChartContent Bold Color4\" nowrap=\"nowrap\"><font color=\"White\" size=\"3\">132,276</font></td><td class=\"ChartContent Bold Color4\" nowrap=\"nowrap\"><font color=\"White\" size=\"3\">0.780</font></td><td class=\"ChartContent Bold Color4\" nowrap=\"nowrap\"><font color=\"White\" size=\"3\">0.820</font></td>\n",
       "</tr><tr class=\"hspotcontent\" onclick=\"window.location ='/spot/Spot_Floor.aspx?Filter=4';\" onmouseout=\"this.style.backgroundColor='black';this.style.cursor='pointer';\" onmouseover=\"ChartImg.src = '/Research/Charts/home/Spot_4.png';this.style.backgroundColor='#FF8B00';this.style.cursor='hand';\">\n",
       "<td><font color=\"White\" size=\"3\"><a href=\"/spot/Spot_Floor.aspx?Filter=4\">LDPE - Film</a></font></td><td class=\"ChartContent Bold Color4\" nowrap=\"nowrap\"><font color=\"White\" size=\"3\">1,543,220</font></td><td class=\"ChartContent Bold Color4\" nowrap=\"nowrap\"><font color=\"White\" size=\"3\">0.755</font></td><td class=\"ChartContent Bold Color4\" nowrap=\"nowrap\"><font color=\"White\" size=\"3\">0.810</font></td>\n",
       "</tr><tr bgcolor=\"Black\" class=\"hspotcontent\" onclick=\"window.location ='/spot/Spot_Floor.aspx?Filter=6';\" onmouseout=\"this.style.backgroundColor='black';this.style.cursor='pointer';\" onmouseover=\"ChartImg.src = '/Research/Charts/home/Spot_6.png';this.style.backgroundColor='#FF8B00';this.style.cursor='hand';\">\n",
       "<td><font color=\"White\" size=\"3\"><a href=\"/spot/Spot_Floor.aspx?Filter=6\">LLDPE - Film</a></font></td><td class=\"ChartContent Bold Color4\" nowrap=\"nowrap\"><font color=\"White\" size=\"3\">2,884,760</font></td><td class=\"ChartContent Bold Color4\" nowrap=\"nowrap\"><font color=\"White\" size=\"3\">0.670</font></td><td class=\"ChartContent Bold Color4\" nowrap=\"nowrap\"><font color=\"White\" size=\"3\">0.780</font></td>\n",
       "</tr><tr class=\"hspotcontent\" onclick=\"window.location ='/spot/Spot_Floor.aspx?Filter=1';\" onmouseout=\"this.style.backgroundColor='black';this.style.cursor='pointer';\" onmouseover=\"ChartImg.src = '/Research/Charts/home/Spot_1.png';this.style.backgroundColor='#FF8B00';this.style.cursor='hand';\">\n",
       "<td><font color=\"White\" size=\"3\"><a href=\"/spot/Spot_Floor.aspx?Filter=1\">HMWPE - Film</a></font></td><td class=\"ChartContent Bold Color4\" nowrap=\"nowrap\"><font color=\"White\" size=\"3\">871,380</font></td><td class=\"ChartContent Bold Color4\" nowrap=\"nowrap\"><font color=\"White\" size=\"3\">0.675</font></td><td class=\"ChartContent Bold Color4\" nowrap=\"nowrap\"><font color=\"White\" size=\"3\">0.735</font></td>\n",
       "</tr>\n",
       "</table>\n",
       "</td>\n",
       "</tr>\n",
       "<tr>\n",
       "<td>\n",
       "<span class=\"LinkNormal RedLink\" style=\"HEIGHT: 12px\">\n",
       "<a href=\"/spot/Spot_Floor.aspx?Filter=-1\" id=\"ctl00_cphMain_tcMarkets_tbSpot_hplTotalLbs\">Total Spot: 14,983,724 lbs</a>\n",
       "</span>\n",
       "</td>\n",
       "</tr>\n",
       "</table>\n",
       "</div><div id=\"ctl00_cphMain_tcMarkets_TabPanel2\" style=\"display:none;\">\n",
       "<table border=\"0\" cellpadding=\"3\" cellspacing=\"0\" width=\"100%\">\n",
       "<tr>\n",
       "<td>\n",
       "<table align=\"Center\" bgcolor=\"Black\" border=\"0\" bordercolor=\"Black\" cellpadding=\"3\" cellspacing=\"0\" class=\"LinkNormal WhiteLink\" id=\"ctl00_cphMain_tcMarkets_TabPanel2_dgContract\" rules=\"rows\" width=\"100%\">\n",
       "<tr>\n",
       "<td class=\"ChartContent Bold Color4\"><font color=\"White\" size=\"3\"><b>Resin</b></font></td><td class=\"ChartContent Bold Color4\"><font color=\"White\" size=\"3\"><b>Bid</b></font></td><td class=\"ChartContent Bold Color4\"><font color=\"White\" size=\"3\"><b>Offer</b></font></td>\n",
       "</tr><tr class=\"hspotcontent\" onclick=\"window.location ='/spot/Spot_Floor.aspx?Filter=22';\" onmouseout=\"this.style.backgroundColor='black';this.style.cursor='pointer';\" onmouseover=\"ChartImg.src = '/Research/Charts/home/Contract_22.png';this.style.backgroundColor='#FE0002';this.style.cursor='hand';\">\n",
       "<td><font color=\"White\" size=\"3\"><a href=\"/spot/Spot_Floor.aspx?Filter=22\">PP Copolymer - Inj</a></font></td><td class=\"ChartContent Bold Color4\" nowrap=\"nowrap\"><font color=\"White\" size=\"3\">0.900</font></td><td class=\"ChartContent Bold Color4\" nowrap=\"nowrap\"><font color=\"White\" size=\"3\">1.000</font></td>\n",
       "</tr><tr bgcolor=\"Black\" class=\"hspotcontent\" onclick=\"window.location ='/spot/Spot_Floor.aspx?Filter=9';\" onmouseout=\"this.style.backgroundColor='black';this.style.cursor='pointer';\" onmouseover=\"ChartImg.src = '/Research/Charts/home/Contract_9.png';this.style.backgroundColor='#FE0002';this.style.cursor='hand';\">\n",
       "<td><font color=\"White\" size=\"3\"><a href=\"/spot/Spot_Floor.aspx?Filter=9\">PP Homopolymer - Inj</a></font></td><td class=\"ChartContent Bold Color4\" nowrap=\"nowrap\"><font color=\"White\" size=\"3\">0.800</font></td><td class=\"ChartContent Bold Color4\" nowrap=\"nowrap\"><font color=\"White\" size=\"3\">0.900</font></td>\n",
       "</tr><tr class=\"hspotcontent\" onclick=\"window.location ='/spot/Spot_Floor.aspx?Filter=10';\" onmouseout=\"this.style.backgroundColor='black';this.style.cursor='pointer';\" onmouseover=\"ChartImg.src = '/Research/Charts/home/Contract_10.png';this.style.backgroundColor='#FE0002';this.style.cursor='hand';\">\n",
       "<td><font color=\"White\" size=\"3\"><a href=\"/spot/Spot_Floor.aspx?Filter=10\">LDPE - Inj</a></font></td><td class=\"ChartContent Bold Color4\" nowrap=\"nowrap\"><font color=\"White\" size=\"3\">0.790</font></td><td class=\"ChartContent Bold Color4\" nowrap=\"nowrap\"><font color=\"White\" size=\"3\">0.840</font></td>\n",
       "</tr><tr bgcolor=\"Black\" class=\"hspotcontent\" onclick=\"window.location ='/spot/Spot_Floor.aspx?Filter=6';\" onmouseout=\"this.style.backgroundColor='black';this.style.cursor='pointer';\" onmouseover=\"ChartImg.src = '/Research/Charts/home/Contract_6.png';this.style.backgroundColor='#FE0002';this.style.cursor='hand';\">\n",
       "<td><font color=\"White\" size=\"3\"><a href=\"/spot/Spot_Floor.aspx?Filter=6\">LDPE - Film</a></font></td><td class=\"ChartContent Bold Color4\" nowrap=\"nowrap\"><font color=\"White\" size=\"3\">0.760</font></td><td class=\"ChartContent Bold Color4\" nowrap=\"nowrap\"><font color=\"White\" size=\"3\">0.810</font></td>\n",
       "</tr><tr class=\"hspotcontent\" onclick=\"window.location ='/spot/Spot_Floor.aspx?Filter=17';\" onmouseout=\"this.style.backgroundColor='black';this.style.cursor='pointer';\" onmouseover=\"ChartImg.src = '/Research/Charts/home/Contract_17.png';this.style.backgroundColor='#FE0002';this.style.cursor='hand';\">\n",
       "<td><font color=\"White\" size=\"3\"><a href=\"/spot/Spot_Floor.aspx?Filter=17\">LLDPE - Inj</a></font></td><td class=\"ChartContent Bold Color4\" nowrap=\"nowrap\"><font color=\"White\" size=\"3\">0.750</font></td><td class=\"ChartContent Bold Color4\" nowrap=\"nowrap\"><font color=\"White\" size=\"3\">0.800</font></td>\n",
       "</tr><tr bgcolor=\"Black\" class=\"hspotcontent\" onclick=\"window.location ='/spot/Spot_Floor.aspx?Filter=11';\" onmouseout=\"this.style.backgroundColor='black';this.style.cursor='pointer';\" onmouseover=\"ChartImg.src = '/Research/Charts/home/Contract_11.png';this.style.backgroundColor='#FE0002';this.style.cursor='hand';\">\n",
       "<td><font color=\"White\" size=\"3\"><a href=\"/spot/Spot_Floor.aspx?Filter=11\">LLDPE - Film</a></font></td><td class=\"ChartContent Bold Color4\" nowrap=\"nowrap\"><font color=\"White\" size=\"3\">0.730</font></td><td class=\"ChartContent Bold Color4\" nowrap=\"nowrap\"><font color=\"White\" size=\"3\">0.780</font></td>\n",
       "</tr><tr class=\"hspotcontent\" onclick=\"window.location ='/spot/Spot_Floor.aspx?Filter=3';\" onmouseout=\"this.style.backgroundColor='black';this.style.cursor='pointer';\" onmouseover=\"ChartImg.src = '/Research/Charts/home/Contract_3.png';this.style.backgroundColor='#FE0002';this.style.cursor='hand';\">\n",
       "<td><font color=\"White\" size=\"3\"><a href=\"/spot/Spot_Floor.aspx?Filter=3\">HDPE - Blow Mold</a></font></td><td class=\"ChartContent Bold Color4\" nowrap=\"nowrap\"><font color=\"White\" size=\"3\">0.700</font></td><td class=\"ChartContent Bold Color4\" nowrap=\"nowrap\"><font color=\"White\" size=\"3\">0.750</font></td>\n",
       "</tr><tr bgcolor=\"Black\" class=\"hspotcontent\" onclick=\"window.location ='/spot/Spot_Floor.aspx?Filter=5';\" onmouseout=\"this.style.backgroundColor='black';this.style.cursor='pointer';\" onmouseover=\"ChartImg.src = '/Research/Charts/home/Contract_5.png';this.style.backgroundColor='#FE0002';this.style.cursor='hand';\">\n",
       "<td><font color=\"White\" size=\"3\"><a href=\"/spot/Spot_Floor.aspx?Filter=5\">HDPE - Inj</a></font></td><td class=\"ChartContent Bold Color4\" nowrap=\"nowrap\"><font color=\"White\" size=\"3\">0.700</font></td><td class=\"ChartContent Bold Color4\" nowrap=\"nowrap\"><font color=\"White\" size=\"3\">0.750</font></td>\n",
       "</tr><tr class=\"hspotcontent\" onclick=\"window.location ='/spot/Spot_Floor.aspx?Filter=1';\" onmouseout=\"this.style.backgroundColor='black';this.style.cursor='pointer';\" onmouseover=\"ChartImg.src = '/Research/Charts/home/Contract_1.png';this.style.backgroundColor='#FE0002';this.style.cursor='hand';\">\n",
       "<td><font color=\"White\" size=\"3\"><a href=\"/spot/Spot_Floor.aspx?Filter=1\">HMWPE - Film</a></font></td><td class=\"ChartContent Bold Color4\" nowrap=\"nowrap\"><font color=\"White\" size=\"3\">0.650</font></td><td class=\"ChartContent Bold Color4\" nowrap=\"nowrap\"><font color=\"White\" size=\"3\">0.700</font></td>\n",
       "</tr>\n",
       "</table>\n",
       "</td>\n",
       "</tr>\n",
       "</table>\n",
       "</div>\n",
       "</div>\n",
       "</div>\n",
       "</td>\n",
       "<td><img border=\"0\" name=\"ChartImg\" src=\"/Research/Charts/home/Spot_6.png\"/> </td></tr></tbody></table>\n",
       "<table align=\"center\" bgcolor=\"#666666\" border=\"0\" cellpadding=\"0\" cellspacing=\"0\" width=\"780\">\n",
       "<tr>\n",
       "<td width=\"385\">\n",
       "<table border=\"0\" cellpadding=\"0\" cellspacing=\"0\" width=\"390\">\n",
       "<tr>\n",
       "<td background=\"/pics/home_bar_titles_r1_c1.jpg\" width=\"6\">\n",
       "<img height=\"17px\" src=\"/pics/home_bar_titles_r1_c1.jpg\" width=\"6\"/></td>\n",
       "<td background=\"/pics/home_bar_titles_r1_c1.jpg\" class=\"LinkNormal OrangeLink\" height=\"10px\" valign=\"middle\" width=\"384\">\n",
       "<a href=\"/Public/Public_News.aspx\">Industry News</a></td>\n",
       "</tr>\n",
       "<tr>\n",
       "<td colspan=\"3\" height=\"1px\">\n",
       "<img height=\"1\" src=\"/pics/home_bar_titles_r2_c1.jpg\" width=\"390\"/></td>\n",
       "</tr>\n",
       "</table>\n",
       "</td>\n",
       "<td bgcolor=\"#666666\" valign=\"top\" width=\"395\">\n",
       "<table border=\"0\" cellpadding=\"0\" cellspacing=\"0\" width=\"390\">\n",
       "<tr>\n",
       "<td align=\"left\" background=\"/pics/home_bar_titles_r1_c1.jpg\" colspan=\"4\" style=\"height: 10px\" width=\"384\">\n",
       "<table border=\"0\" cellpadding=\"0\" cellspacing=\"0\" width=\"390\">\n",
       "<tr>\n",
       "<td align=\"left\" class=\"LinkNormal OrangeLink\">\n",
       "<a href=\"/Research/WeeklyReview.aspx\">Market Updates</a>\n",
       "</td>\n",
       "<td align=\"right\">\n",
       "<input id=\"ctl00_cphMain_txtEmailSubs\" name=\"ctl00$cphMain$txtEmailSubs\" onfocus=\"this.value=''\" type=\"text\" value=\"Type Your Email to Join Our List\"/>\n",
       "<input id=\"ctl00_cphMain_btnJoin\" name=\"ctl00$cphMain$btnJoin\" type=\"submit\" value=\"Join!\"/>\n",
       "</td>\n",
       "</tr>\n",
       "</table>\n",
       "</td>\n",
       "</tr>\n",
       "<tr>\n",
       "<td colspan=\"3\" style=\"height: 1px\">\n",
       "<img height=\"1\" src=\"/pics/home_bar_titles_r2_c1.jpg\" width=\"390\"/></td>\n",
       "</tr>\n",
       "</table>\n",
       "</td>\n",
       "</tr>\n",
       "<tr>\n",
       "<td bgcolor=\"#dbdcd7\" valign=\"top\">\n",
       "<table border=\"0\"><tr><td valign=\"top\"></td><td class=\"LinkNormal\" valign=\"top\"><a href=\"/Public/News_Template.aspx?Buffer=&amp;Id=9755\"><span class=\"Content Color2\">TotalEnergies Lifts Force Majeure on Polypropylene from Texas Facility</span></a><span class=\"Content Color2\"> (07/12/2022)</span></td></tr><tr><td valign=\"top\"></td><td class=\"LinkNormal\" valign=\"top\"><a href=\"/Public/News_Template.aspx?Buffer=&amp;Id=9754\"><span class=\"Content Color2\">Heartland Polymers Fills its First Polypropylene Railcar from New Canada Facility</span></a><span class=\"Content Color2\"> (07/05/2022)</span></td></tr><tr><td valign=\"top\"></td><td class=\"LinkNormal\" valign=\"top\"><a href=\"/Public/News_Template.aspx?Buffer=&amp;Id=9753\"><span class=\"Content Color2\">June PGP Settles...</span></a><span class=\"Content Color2\"> (06/28/2022)</span></td></tr><tr><td valign=\"top\"></td><td class=\"LinkNormal\" valign=\"top\"><a href=\"/Public/News_Template.aspx?Buffer=&amp;Id=9752\"><span class=\"Content Color2\">AmSty Seeks Another Polystyrene Increase for July Amid Recent Supply Drop, Higher Feedstock Costs</span></a><span class=\"Content Color2\"> (06/27/2022)</span></td></tr><tr><td valign=\"top\"></td><td class=\"LinkNormal\" valign=\"top\"><a href=\"/Public/News_Template.aspx?Buffer=&amp;Id=9751\"><span class=\"Content Color2\">A Second Polyethylene Producer Reduces Its June Increase, Proposes a July Increase</span></a><span class=\"Content Color2\"> (06/17/2022)</span></td></tr><tr><td valign=\"top\"></td><td class=\"LinkNormal\" valign=\"top\"><a href=\"/Public/News_Template.aspx?Buffer=&amp;Id=9750\"><span class=\"Content Color2\">LyondellBasell Reduces June Polyethylene Price Increase</span></a><span class=\"Content Color2\"> (06/13/2022)</span></td></tr><tr><td valign=\"top\"></td><td class=\"LinkNormal\" valign=\"top\"><a href=\"/Public/News_Template.aspx?Buffer=&amp;Id=9749\"><span class=\"Content Color2\">May PGP Settles...</span></a><span class=\"Content Color2\"> (05/26/2022)</span></td></tr><tr><td valign=\"top\"></td><td class=\"LinkNormal\" valign=\"top\"><a href=\"/Public/News_Template.aspx?Buffer=&amp;Id=9748\"><span class=\"Content Color2\">Above Average Hurricane Season Expected, Putting US Resin Production at Risk</span></a><span class=\"Content Color2\"> (05/25/2022)</span></td></tr><tr><td valign=\"top\"></td><td class=\"LinkNormal\" valign=\"top\"><a href=\"/Public/News_Template.aspx?Buffer=&amp;Id=9747\"><span class=\"Content Color2\">Phillips 66 to Stay on Polypropylene FM Amid Ongoing Maintenance and Repairs</span></a><span class=\"Content Color2\"> (05/20/2022)</span></td></tr><tr><td valign=\"top\"></td><td class=\"LinkNormal\" valign=\"top\"><a href=\"/Public/News_Template.aspx?Buffer=&amp;Id=9746\"><span class=\"Content Color2\">Houston Sees Record High Import/Exports for Containers in April</span></a><span class=\"Content Color2\"> (05/19/2022)</span></td></tr><tr><td valign=\"top\"></td><td class=\"LinkNormal\" valign=\"top\"><a href=\"/Public/News_Template.aspx?Buffer=&amp;Id=9745\"><span class=\"Content Color2\">LyondellBasell issues new June Polypropylene Price Increase</span></a><span class=\"Content Color2\"> (05/13/2022)</span></td></tr><tr><td valign=\"top\"></td><td class=\"LinkNormal\" valign=\"top\"><a href=\"/Public/News_Template.aspx?Buffer=&amp;Id=9744\"><span class=\"Content Color2\">LyondellBasell Lifts Force Majeure and Defers Price Hikes on Resin by One Month</span></a><span class=\"Content Color2\"> (05/10/2022)</span></td></tr></table>\n",
       "</td>\n",
       "<td bgcolor=\"#dbdcd7\" valign=\"top\" width=\"390\">\n",
       "<table border=\"0\" cellpadding=\"0\" cellspacing=\"0\" width=\"390\">\n",
       "<tr>\n",
       "<td background=\"/pics/home_research_r1_c2.jpg\" width=\"1\">\n",
       "<img height=\"94\" src=\"/pics/home_research_r1_c2.jpg\" width=\"1\"/></td>\n",
       "<td align=\"center\" style=\"width: 25px\" valign=\"middle\">\n",
       "<img height=\"94\" src=\"/images2/research_setas_r1_c1.jpg\" width=\"24\"/></td>\n",
       "<td bgcolor=\"#333333\" width=\"1\">\n",
       "<img height=\"94\" src=\"/pics/home_research_r1_c2.jpg\" width=\"1\"/></td>\n",
       "<td align=\"left\" valign=\"middle\" width=\"337\">\n",
       "<table border=\"0\" cellpadding=\"5\" cellspacing=\"1\" height=\"90\" width=\"360\">\n",
       "<tr>\n",
       "<td valign=\"top\">\n",
       "<span class=\"LinkNormal Content\">\n",
       "<a href=\"http://www.theplasticsexchange.com/Research/Market_Update/pdf/7_15_2022.pdf\" id=\"ctl00_cphMain_hlPe\">Polyethylene</a>\n",
       "</span>\n",
       "<div class=\"Content Color2\" id=\"ctl00_cphMain_lblPE\">Polyethylene trading was more active and our spot pricing was steady to another cent lower. Transactions were well spread across LDPE and LLDPE, both film and injection grades, while HDPE transactions were a challenge to complete. Offgrade railcar offers streamed in and suppliers remained willing to discount heavily to move material. We have seen several rounds of aggressive sales into the export market and there was another this past week as pro... <span class=\"LinkNormal Content\"><a href=\"http://www.theplasticsexchange.com/Research/Market_Update/pdf/7_15_2022.pdf\" target=\"_blank\"><span class=\"blackbold\">[More]</span></a></span></div>\n",
       "</td>\n",
       "</tr>\n",
       "</table>\n",
       "</td>\n",
       "</tr>\n",
       "<tr>\n",
       "<td background=\"/pics/home_research_r1_c2.jpg\">\n",
       "<img height=\"1\" src=\"/pics/home_research_r2_c2.jpg\" width=\"1\"/></td>\n",
       "<td align=\"center\" bgcolor=\"#333333\" style=\"width: 25px\" valign=\"middle\">\n",
       "<img height=\"1\" src=\"/pics/home_research_r2_c1.jpg\" width=\"24\"/></td>\n",
       "<td bgcolor=\"#333333\">\n",
       "<img height=\"1\" src=\"/pics/home_research_r2_c2.jpg\" width=\"1\"/></td>\n",
       "<td bgcolor=\"#333333\" valign=\"top\">\n",
       "<img height=\"1\" src=\"/pics/home_research_r2_c1.jpg\" width=\"24\"/></td>\n",
       "</tr>\n",
       "<tr>\n",
       "<td background=\"/pics/home_research_r1_c2.jpg\">\n",
       "<img height=\"94\" src=\"/pics/home_research_r1_c2.jpg\" width=\"1\"/></td>\n",
       "<td align=\"center\" style=\"width: 25px\" valign=\"middle\">\n",
       "<img height=\"94\" src=\"/images2/research_setas_r1_c1.jpg\" width=\"24\"/></td>\n",
       "<td bgcolor=\"#333333\">\n",
       "<img height=\"94\" src=\"/pics/home_research_r1_c2.jpg\" width=\"1\"/></td>\n",
       "<td align=\"left\" valign=\"middle\">\n",
       "<table border=\"0\" cellpadding=\"5\" cellspacing=\"1\" height=\"90\" width=\"360\">\n",
       "<tr>\n",
       "<td align=\"left\" valign=\"top\">\n",
       "<span class=\"LinkNormal Content\">\n",
       "<a href=\"http://www.theplasticsexchange.com/Research/Market_Update/pdf/7_15_2022.pdf\" id=\"ctl00_cphMain_hlPp\">Polypropylene</a>\n",
       "</span>\n",
       "<div class=\"Content Color2\" id=\"ctl00_cphMain_lblPP\">Spot Polypropylene activity was slower and prices continued to slide. Processor demand was below average and most orders were for Prime truckloads, and HoPP was sought more than CoPP. Some buyers that had been picking away at deeply discounted railcars stepped to the sidelines to just observe. Despite plenty of railcars ready to ship, truckload supply remained challenged, as much of the reseller community has been shedding their inventories to li... <span class=\"LinkNormal Content\"><a href=\"http://www.theplasticsexchange.com/Research/Market_Update/pdf/7_15_2022.pdf\" target=\"_blank\"><span class=\"blackbold\">[More]</span></a></span></div>\n",
       "</td>\n",
       "</tr>\n",
       "</table>\n",
       "</td>\n",
       "</tr>\n",
       "<tr>\n",
       "<td background=\"/pics/home_research_r1_c2.jpg\" style=\"height: 1px\">\n",
       "<img height=\"1\" src=\"/pics/home_research_r2_c2.jpg\" width=\"1\"/></td>\n",
       "<td align=\"center\" bgcolor=\"#333333\" style=\"height: 1px; width: 25px;\" valign=\"middle\">\n",
       "<img height=\"1\" src=\"/pics/home_research_r2_c1.jpg\" width=\"24\"/></td>\n",
       "<td bgcolor=\"#333333\" style=\"height: 1px\">\n",
       "<img height=\"1\" src=\"/pics/home_research_r2_c2.jpg\" width=\"1\"/></td>\n",
       "<td bgcolor=\"#333333\" style=\"height: 1px\" valign=\"top\">\n",
       "<img height=\"1\" src=\"/pics/home_research_r2_c1.jpg\" width=\"24\"/></td>\n",
       "</tr>\n",
       "<td background=\"/pics/home_research_r2_c1.jpg\" colspan=\"4\" style=\"height: 1px\">\n",
       "<img height=\"1\" src=\"/pics/home_research_r2_c2.jpg\" width=\"1\"/></td>\n",
       "</table>\n",
       "</td>\n",
       "</tr>\n",
       "</table>\n",
       "<div id=\"flag\" style=\"visibility: hidden; display: none\">\n",
       "<span id=\"ctl00_cphMain_lblContractChartID\">11</span>\n",
       "<span id=\"ctl00_cphMain_lblSpotChartID\">6</span>\n",
       "</div>\n",
       "<div id=\"flag2\" style=\"visibility: hidden; display: none\">\n",
       "        1</div>\n",
       "</td>\n",
       "</tr>\n",
       "<tr>\n",
       "<td align=\"center\" class=\"FooterColor\" colspan=\"5\" style=\"height: 15px\">\n",
       "<font color=\"white\" face=\"Verdana,Arial\" size=\"1\"><a class=\"defaultlink\" href=\"/Public/Privacy_Policy.aspx\" style=\"color: White\">Privacy Statement</a> | Copyright © 2022 The Plastics\n",
       "                            Exchange. LLC. | Patent Protected | All Rights Reserved.</font>\n",
       "</td>\n",
       "</tr>\n",
       "<!-- begin close container table -->\n",
       "</table>\n",
       "<!-- end close container table -->\n",
       "</div>\n",
       "<script type=\"text/javascript\">\n",
       "//<![CDATA[\n",
       "var ctl00_mnuMain_Data = new Object();\n",
       "ctl00_mnuMain_Data.disappearAfter = 500;\n",
       "ctl00_mnuMain_Data.horizontalOffset = 0;\n",
       "ctl00_mnuMain_Data.verticalOffset = 0;\n",
       "ctl00_mnuMain_Data.hoverClass = 'DynamicMenuItemHover';\n",
       "ctl00_mnuMain_Data.iframeUrl = '/WebResource.axd?d=lL2WfngbGiZr2SbTaPn7Zxa1X5-fpk3L9VPILQmi2kQ5b9GUa1QdtdigiTB_wXApqbrO-3fDd0qeqI3FIInooQJwVrw1&t=636271491500000000';\n",
       "Sys.Application.initialize();\n",
       "Sys.Application.add_init(function() {\n",
       "    $create(AjaxControlToolkit.TabPanel, {\"headerTab\":$get(\"__tab_ctl00_cphMain_tcMarkets_tbSpot\")}, null, {\"owner\":\"ctl00_cphMain_tcMarkets\"}, $get(\"ctl00_cphMain_tcMarkets_tbSpot\"));\n",
       "});\n",
       "Sys.Application.add_init(function() {\n",
       "    $create(AjaxControlToolkit.TabPanel, {\"headerTab\":$get(\"__tab_ctl00_cphMain_tcMarkets_TabPanel2\")}, null, {\"owner\":\"ctl00_cphMain_tcMarkets\"}, $get(\"ctl00_cphMain_tcMarkets_TabPanel2\"));\n",
       "});\n",
       "Sys.Application.add_init(function() {\n",
       "    $create(AjaxControlToolkit.TabContainer, {\"activeTabIndex\":0,\"clientStateField\":$get(\"ctl00_cphMain_tcMarkets_ClientState\")}, {\"activeTabChanged\":clientActiveTabChanged}, null, $get(\"ctl00_cphMain_tcMarkets\"));\n",
       "});\n",
       "//]]>\n",
       "</script>\n",
       "</form>\n",
       "<div id=\"ctl00_divGoogleTrack\">\n",
       "<script type=\"text/javascript\">\n",
       "\n",
       "  var _gaq = _gaq || [];\n",
       "  _gaq.push(['_setAccount', 'UA-19185192-9']);\n",
       "  _gaq.push(['_trackPageview']);\n",
       "\n",
       "  (function() {\n",
       "    var ga = document.createElement('script'); ga.type = 'text/javascript'; ga.async = true;\n",
       "    ga.src = ('https:' == document.location.protocol ? 'https://ssl' : 'http://www') + '.google-analytics.com/ga.js';\n",
       "    var s = document.getElementsByTagName('script')[0]; s.parentNode.insertBefore(ga, s);\n",
       "  })();\n",
       "\n",
       "</script>\n",
       "</div>\n",
       "<!-- Start of LiveChat (www.livechatinc.com) code -->\n",
       "<script type=\"text/javascript\">\n",
       "  window.__lc = window.__lc || {};\n",
       "  window.__lc.license = 12720315;\n",
       "  ;(function(n,t,c){function i(n){return e._h?e._h.apply(null,n):e._q.push(n)};\n",
       "  var e={_q:[],_h:null,_v:\"2.0\",on:function(){i([\"on\",c.call(arguments)])},once:function(){\n",
       "  i([\"once\",c.call(arguments)])},off:function(){i([\"off\",c.call(arguments)])},\n",
       "  get:function(){if(!e._h)throw new Error(\"[LiveChatWidget] You can't use getters before load.\");\n",
       "  return i([\"get\",c.call(arguments)])},call:function(){i([\"call\",c.call(arguments)])},init:function(){\n",
       "  var n=t.createElement(\"script\");\n",
       "  n.async=!0,n.type=\"text/javascript\",\n",
       "  n.src=\"https://cdn.livechatinc.com/tracking.js\",t.head.appendChild(n)}};\n",
       "  !n.__lc.asyncInit&&e.init(),n.LiveChatWidget=n.LiveChatWidget||e}(window,document,[].slice))\n",
       "</script>\n",
       "<noscript>\n",
       "<a href=\"https://www.livechatinc.com/chat-with/12720315/\" rel=\"nofollow\">Chat with us</a>,\n",
       "powered by <a href=\"https://www.livechatinc.com/?welcome\" rel=\"noopener nofollow\" target=\"_blank\">LiveChat</a>\n",
       "</noscript>\n",
       "<!-- End of LiveChat code -->\n",
       "</body>\n",
       "</html>"
      ]
     },
     "execution_count": 12,
     "metadata": {},
     "output_type": "execute_result"
    }
   ],
   "source": [
    "soup=BeautifulSoup(page.content)\n",
    "soup"
   ]
  },
  {
   "cell_type": "code",
   "execution_count": 13,
   "metadata": {},
   "outputs": [
    {
     "name": "stdout",
     "output_type": "stream",
     "text": [
      "<!DOCTYPE html PUBLIC \"-//W3C//DTD XHTML 1.0 Transitional//EN\" \"http://www.w3.org/TR/xhtml1/DTD/xhtml1-transitional.dtd\">\n",
      "<html xmlns=\"http://www.w3.org/1999/xhtml\">\n",
      " <head id=\"ctl00_Head1\">\n",
      "  <!-- Mimic Internet Explorer 7 -->\n",
      "  <meta content=\"IE=EmulateIE7\" http-equiv=\"X-UA-Compatible\"/>\n",
      "  <title>\n",
      "   The Plastics Exchange: Commodity Plastic Resin, Buy Resin, Sell Resin, Plastic\n",
      "  </title>\n",
      "  <meta content=\"The spot market for buying and selling commodity grade plastic resins and a trusted source of market intelligence.\" name=\"description\"/>\n",
      "  <meta content=\"Polyethylene, Monomer, Polyethylene, Widespec, Offgrade, Feedstock, Polystyrene, Plastic, Resin, Polypropylene, chemicals, plastics, detergents, transaction, fulfillment, exchange, commodity, supplier, buy, sell, trade, marketplace, petrochemical, negotiation\" name=\"keywords\"/>\n",
      "  <meta content=\"document\" name=\"resource-type\"/>\n",
      "  <meta content=\"NOARCHIVE\" name=\"GOOGLEBOT\"/>\n",
      "  <meta content=\"noarchive\" name=\"robots\"/>\n",
      "  <meta content=\"Plastics Trading\" name=\"classification\"/>\n",
      "  <meta content=\"ALL\" name=\"robots\"/>\n",
      "  <meta content=\"Global\" name=\"distribution\"/>\n",
      "  <meta content=\"General\" name=\"rating\"/>\n",
      "  <link href=\"/styles/TPENewStyles.css\" rel=\"stylesheet\" type=\"text/css\"/>\n",
      "  <link href=\"/styles/TPEMenu.css\" rel=\"stylesheet\" type=\"text/css\"/>\n",
      "  <link href=\"/styles/Template.css\" rel=\"stylesheet\" type=\"text/css\"/>\n",
      "  <link href=\"/styles/ContextMenu.css\" rel=\"stylesheet\" type=\"text/css\"/>\n",
      "  <link href=\"/favicon.ico\" rel=\"shortcut icon\" type=\"image/x-icon\"/>\n",
      "  <script language=\"javascript\" type=\"text/javascript\">\n",
      "   function clientActiveTabChanged(sender, args) \r\n",
      "    {         \r\n",
      "        var spot = document.getElementById(\"ctl00_cphMain_lblSpotChartID\").innerHTML;     \r\n",
      "        var contract = document.getElementById(\"ctl00_cphMain_lblContractChartID\").innerHTML;         \r\n",
      "         \r\n",
      "        if(sender.get_activeTabIndex() == 0)\r\n",
      "        {   \r\n",
      "            document.getElementsByName(\"ChartImg\")[0].src = \"/Research/Charts/home/Spot_\" + spot + \".png\";            \r\n",
      "        }\r\n",
      "        if(sender.get_activeTabIndex() == 1)\r\n",
      "        {\r\n",
      "            document.getElementsByName(\"ChartImg\")[0].src = \"/Research/Charts/home/Contract_\" + contract + \".png\";                    \r\n",
      "        }            \r\n",
      "    }\n",
      "  </script>\n",
      "  <style type=\"text/css\">\n",
      "   .WhiteLink a:link {color:#FFFFFF; font-size: 13px;}\r\n",
      "    .WhiteLink a:visited {color:#FFFFFF; font-size: 13px;}\r\n",
      "    .WhiteLink a:hover {color:#FFFFFF; font-size: 13px;}\r\n",
      "    .OrangeLink a:link {color:#FD9D00; font-size: 12px;}\r\n",
      "    .OrangeLink a:visited {color:#FD9D00; font-size: 12px;}\r\n",
      "    .OrangeLink a:hover {color:#FD9D00; font-size: 12px;}\r\n",
      "    .RedLink a:link {color:red; font-size: 15px;}\r\n",
      "    .RedLink a:visited {color:red; font-size: 15px;}\r\n",
      "    .RedLink a:hover {color:red; font-size: 15px;}\r\n",
      "    .LinkNormal { text-align: left;}\r\n",
      "    .Content \t{\r\n",
      "\t\t\tfont-family: Verdana, Arial, Helvetica, sans-serif;\r\n",
      "\t\t\tfont-size: 10px;\r\n",
      "\t\t\tfont-style: normal;\r\n",
      "\t\t\tline-height: normal;\r\n",
      "\t\t\tfont-variant: normal;\r\n",
      "\t\t\tpadding-left: 2px;\r\n",
      "\t\t\t}\r\n",
      "\t\t\t\r\n",
      "\t.ChartContent \t{\r\n",
      "\t\t\tfont-family: Verdana, Arial, Helvetica, sans-serif;\r\n",
      "\t\t\tfont-size: 13px;\r\n",
      "\t\t\tfont-style: normal;\r\n",
      "\t\t\tline-height: normal;\r\n",
      "\t\t\tfont-variant: normal;\r\n",
      "\t\t\tpadding-left: 2px;\r\n",
      "\t\t\t}\t\t\r\n",
      "\t\t\t\r\n",
      "    .yui .ajax__tab_header \r\n",
      "{\r\n",
      "    font-family:arial,helvetica,clean,sans-serif;\r\n",
      "    font-size:small;\r\n",
      "    border-bottom:solid 5px #FF8B00;\r\n",
      "}\r\n",
      ".yui .ajax__tab_header .ajax__tab_outer \r\n",
      "{\r\n",
      "    background: #d8d8d8 repeat-x;\r\n",
      "    margin:0px 0.16em 0px 0px;\r\n",
      "    padding:.5px 0px .5px 0px;\r\n",
      "    vertical-align:bottom;\r\n",
      "    border:solid 1px #a3a3a3;\r\n",
      "    border-bottom-width:0px;\r\n",
      "}\r\n",
      ".yui .ajax__tab_header .ajax__tab_tab\r\n",
      "{    \r\n",
      "    color:#000;    \r\n",
      "    padding:0.35em 0.35em;    \r\n",
      "    margin-right:0.01em;\r\n",
      "}\r\n",
      ".yui .ajax__tab_hover .ajax__tab_outer \r\n",
      "{\r\n",
      "    background: #bfdaff repeat-x left -1300px;\r\n",
      "}\r\n",
      ".yui .ajax__tab_active .ajax__tab_tab \r\n",
      "{\r\n",
      "    color:#000;    \r\n",
      "    font-weight: bold;\r\n",
      "}\r\n",
      ".yui .ajax__tab_active .ajax__tab_outer\r\n",
      "{\r\n",
      "    background: #FF8B00 repeat-x left -1400px;\r\n",
      "}\r\n",
      ".yui .ajax__tab_body \r\n",
      "{\r\n",
      "    font-family:verdana,tahoma,helvetica;\r\n",
      "    font-size:10pt;\r\n",
      "    padding:0.25em 0.5em;\r\n",
      "    background-color:#000000;    \r\n",
      "    border:solid 1px #808080;\r\n",
      "    border-top-width:0px;\r\n",
      "}\r\n",
      "\r\n",
      "\r\n",
      "\r\n",
      ".news .ajax__tab_header \r\n",
      "{\r\n",
      "    font-family:arial,helvetica,clean,sans-serif;\r\n",
      "    font-size:small;\r\n",
      "    border-bottom:solid 5px #FF8B00;\r\n",
      "}\r\n",
      ".news .ajax__tab_header .ajax__tab_outer \r\n",
      "{\r\n",
      "    background: #d8d8d8 repeat-x;\r\n",
      "    margin:0px 0.16em 0px 0px;\r\n",
      "    padding:.5px 0px .5px 0px;\r\n",
      "    vertical-align:bottom;\r\n",
      "    border:solid 1px #a3a3a3;\r\n",
      "    border-bottom-width:0px;\r\n",
      "}\r\n",
      ".news .ajax__tab_header .ajax__tab_tab\r\n",
      "{    \r\n",
      "    color:#000;    \r\n",
      "    padding:0.35em 0.35em;    \r\n",
      "    margin-right:0.01em;\r\n",
      "}\r\n",
      ".news .ajax__tab_hover .ajax__tab_outer \r\n",
      "{\r\n",
      "    background: #bfdaff repeat-x left -1300px;\r\n",
      "}\r\n",
      ".news .ajax__tab_active .ajax__tab_tab \r\n",
      "{\r\n",
      "    color:#000;    \r\n",
      "    font-weight: bold;\r\n",
      "}\r\n",
      ".news .ajax__tab_active .ajax__tab_outer\r\n",
      "{\r\n",
      "    background: #FF8B00 repeat-x left -1400px;\r\n",
      "}\r\n",
      ".news .ajax__tab_body \r\n",
      "{\r\n",
      "    font-family:verdana,tahoma,helvetica;\r\n",
      "    font-size:10pt;\r\n",
      "    padding:0.25em 0.5em;\r\n",
      "    background-color:#DBDCD7;    \r\n",
      "    border:solid 1px #808080;\r\n",
      "    border-top-width:0px;\r\n",
      "}\n",
      "  </style>\n",
      "  <link href=\"/WebResource.axd?d=7hl2qxFLDZyxzNxDHGK58O2sE5RfFod6c_xlsqS4aIfLRa1NDCNNOhTPEv-_xXP0T42oD9rziujlluG_O848GoKzDda9MhOmfyG9lf0saD-BfB2laqo1657KHFQGDZr3qhYWjw2&amp;t=633083862300000000\" rel=\"stylesheet\" type=\"text/css\"/>\n",
      "  <link href=\"/WebResource.axd?d=7hl2qxFLDZyxzNxDHGK58O2sE5RfFod6c_xlsqS4aIfLRa1NDCNNOhTPEv-_xXP0T42oD9rziujlluG_O848GoKzDda9MhOmfyG9lf0saD-BfB2laqo1657KHFQGDZr3qhYWjw2&amp;t=633083862300000000\" rel=\"stylesheet\" type=\"text/css\"/>\n",
      "  <link href=\"/WebResource.axd?d=7hl2qxFLDZyxzNxDHGK58O2sE5RfFod6c_xlsqS4aIfLRa1NDCNNOhTPEv-_xXP0T42oD9rziujlluG_O848GoKzDda9MhOmfyG9lf0saD-BfB2laqo1657KHFQGDZr3qhYWjw2&amp;t=633083862300000000\" rel=\"stylesheet\" type=\"text/css\"/>\n",
      " </head>\n",
      " <body id=\"ctl00_MasterPageBody\">\n",
      "  <form action=\"default.aspx\" id=\"aspnetForm\" method=\"post\" name=\"aspnetForm\">\n",
      "   <input id=\"ctl00_cphMain_tcMarkets_ClientState\" name=\"ctl00_cphMain_tcMarkets_ClientState\" type=\"hidden\" value='{\"ActiveTabIndex\":0,\"TabState\":[true,true]}'/>\n",
      "   <input id=\"__VIEWSTATE\" name=\"__VIEWSTATE\" type=\"hidden\" value=\"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\"/>\n",
      "   <script src=\"/WebResource.axd?d=NE6TTsQqLhgVXopdTy6LeW-HVTCobglB850nJp8fYANoOo1sJYLpidGb1U8QqDURyi5CCtJcFZC6yQ0_Kai3_IP_NYg1&amp;t=636271491500000000\" type=\"text/javascript\">\n",
      "   </script>\n",
      "   <script src=\"/ScriptResource.axd?d=6x1qftnDPi8TfTHxMxKUjEbhR37JBoXwm-j4jqpsVAndaVvhZczrwwaxOklbi2W2uEQnjFlGhjHwXCdJabzvwdLUq5Z4qQMKWTUlh_8sbCgqfGE7kyT5FiDvehCqfyOAtSjn1pwsFMg_PblD3U9MJTJ4epQ1&amp;t=3f4a792d\" type=\"text/javascript\">\n",
      "   </script>\n",
      "   <script src=\"/ScriptResource.axd?d=3zPLZ4UNxan3bMw4qPlJQBMs65wfp58TtiGTvoTQLFEQ9Vv6h2HvU0fYOoAwTLoWjyL8J8c-7QtnbkaFEZoI4IubWooPQFze1GY_cAYVncTTTiYagcbNSy5w01tuzzHediX5aBB3GBPq8aXrFPfPZu_C-381&amp;t=351f73d\" type=\"text/javascript\">\n",
      "   </script>\n",
      "   <script src=\"/ScriptResource.axd?d=VDmX4OZClWj-VaS_QORuMLlpn37risZchdsOLdxr1t4UemfSpz2NGJq2UOTckTZ0DJJXqAgSPerYJp76A8NwlyVcF_PejeimpFonjFg4xHaWofWNpaQxYKRRwrl97WeIDkDQNrqo4ua_TMbWufOqLxXqv1c1&amp;t=351f73d\" type=\"text/javascript\">\n",
      "   </script>\n",
      "   <script src=\"/ScriptResource.axd?d=zLTvT9SwyHP6vtp94buhCsyyN0lfUciCl9NlFL6GLXnDMKONAbdmOeH-nhRol8dhIVyXMtq7tCMuGxZdR92DSCqJn--B5ELZJ4iPZoeXcfN7V_lT9ufW-OG8XxzqJodYwZNyX8rZU536cnhN4XcIZMW93ew1&amp;t=351f73d\" type=\"text/javascript\">\n",
      "   </script>\n",
      "   <script src=\"/ScriptResource.axd?d=uFjod1_-1eOSt57mwYCEKIvcDhNVjnadMT5vrVoyiuMiEafWIhc-dxt0ZCJvBWGBoQT2MVVwUKnuj5535uDpkRmHjNbbhU9T0rmFhtiT-uwzySDdjJRwBQ9rOBlaH7_7TiMGew2&amp;t=351f73d\" type=\"text/javascript\">\n",
      "   </script>\n",
      "   <script src=\"/ScriptResource.axd?d=UqHx69xSGpV_4oyA8Nar37NKOVz6izOXDVhTBQ9aO7ugFgJ_skyDg82IFowHrIdk--Ei5M45IHD-5amXMj14zN7x7wbddtxbpb7rAsBAoNQGxDc4nHUn1vT3xk5NJHOOLQ1ZazCnjycSOlFAjCcp2gcBp3AIbfMcAER_EhL4rxgTNTCh0&amp;t=351f73d\" type=\"text/javascript\">\n",
      "   </script>\n",
      "   <input id=\"__VIEWSTATEGENERATOR\" name=\"__VIEWSTATEGENERATOR\" type=\"hidden\" value=\"CA0B0334\"/>\n",
      "   <!--Begin Context Menu -->\n",
      "   <!--end Context Menu -->\n",
      "   <div class=\"border BackgroundColor\" id=\"ctl00_divBorder\" style=\"width:780px;margin-left:auto;margin-right:auto;\">\n",
      "    <table border=\"0\" cellpadding=\"0\" cellspacing=\"0\" id=\"table1\" width=\"100%\">\n",
      "     <tr>\n",
      "      <td valign=\"top\" width=\"100%\">\n",
      "       <table border=\"0\" cellpadding=\"0\" cellspacing=\"0\" width=\"100%\">\n",
      "        <!--begin Login panel-->\n",
      "        <div id=\"ctl00_pnLogin\">\n",
      "         <tr>\n",
      "          <td height=\"21\" width=\"648\">\n",
      "           <a href=\"/default.aspx\">\n",
      "            <img border=\"0\" height=\"51\" src=\"/pics/logo_up_r1_c1.jpg\" width=\"648\"/>\n",
      "           </a>\n",
      "          </td>\n",
      "          <td>\n",
      "           <table border=\"0\" cellpadding=\"0\" cellspacing=\"0\" id=\"Table2\">\n",
      "            <tr>\n",
      "             <td align=\"center\" background=\"/pics/register_r1_c1.jpg\" height=\"21\" width=\"133\">\n",
      "              <span class=\"LinkNormal\">\n",
      "               <a class=\"Color2 Bold\" href=\"/Public/Registration.aspx\">\n",
      "                Register\n",
      "               </a>\n",
      "              </span>\n",
      "             </td>\n",
      "            </tr>\n",
      "            <tr>\n",
      "             <td height=\"6\">\n",
      "              <img height=\"13\" src=\"/pics/register_r2_c1.jpg\" width=\"133\"/>\n",
      "             </td>\n",
      "            </tr>\n",
      "            <tr>\n",
      "             <td align=\"right\" background=\"/pics/register_r3_c1.jpg\" height=\"17\">\n",
      "              <span class=\"ForgotPassword\">\n",
      "               <a class=\"Color7\" href=\"/Public/Forgot_Password.aspx\">\n",
      "                Forgot\r\n",
      "                                                        your password?\n",
      "               </a>\n",
      "              </span>\n",
      "             </td>\n",
      "            </tr>\n",
      "           </table>\n",
      "          </td>\n",
      "          <td background=\"/images2/loggedmenu/logo_top_r1_c23.gif\">\n",
      "          </td>\n",
      "         </tr>\n",
      "         <tr>\n",
      "          <td width=\"648\">\n",
      "           <table border=\"0\" cellpadding=\"0\" cellspacing=\"0\">\n",
      "            <tr>\n",
      "             <td>\n",
      "              <a href=\"/default.aspx\">\n",
      "               <img border=\"0\" height=\"53\" src=\"/pics/logo_up_r4_c2.jpg\"/>\n",
      "              </a>\n",
      "             </td>\n",
      "             <td>\n",
      "              <input border=\"0\" id=\"ctl00_btnLogin\" name=\"ctl00$btnLogin\" src=\"/pics/login_image.jpg\" type=\"image\"/>\n",
      "             </td>\n",
      "             <td>\n",
      "              <img border=\"0\" height=\"53\" id=\"ctl00_imgEmailPassword\" src=\"/pics/email_password_lables.jpg\" width=\"68\"/>\n",
      "             </td>\n",
      "            </tr>\n",
      "           </table>\n",
      "          </td>\n",
      "          <td background=\"/pics/fields.jpg\">\n",
      "           <table border=\"0\" cellpadding=\"1\" cellspacing=\"0\" id=\"Table3\" width=\"100%\">\n",
      "            <tr>\n",
      "             <td>\n",
      "              <input class=\"formzindex\" id=\"ctl00_UserName\" maxlength=\"100\" name=\"ctl00$UserName\" type=\"text\"/>\n",
      "             </td>\n",
      "            </tr>\n",
      "            <tr>\n",
      "             <td>\n",
      "              <input class=\"formzindex\" id=\"ctl00_Password\" maxlength=\"100\" name=\"ctl00$Password\" type=\"password\"/>\n",
      "             </td>\n",
      "            </tr>\n",
      "           </table>\n",
      "          </td>\n",
      "          <td background=\"/images2/loggedmenu/logo_top_r2_c23.gif\" width=\"100%\">\n",
      "          </td>\n",
      "         </tr>\n",
      "        </div>\n",
      "        <!--end Login panel-->\n",
      "        <!--begin Logout panel-->\n",
      "        <!--end Logout panel-->\n",
      "       </table>\n",
      "      </td>\n",
      "     </tr>\n",
      "     <tr>\n",
      "      <td align=\"left\" background=\"/pics/menu/background.jpg\" width=\"100%\">\n",
      "       <table border=\"0\" cellpadding=\"0\" cellspacing=\"0\">\n",
      "        <tr>\n",
      "         <td align=\"left\" background=\"/pics/menu/background.jpg\" width=\"100%\">\n",
      "          <a href=\"#ctl00_mnuMain_SkipLink\">\n",
      "           <img alt=\"Skip Navigation Links\" border=\"0\" height=\"0\" src=\"/WebResource.axd?d=djdAdkrkoaz-QtimfTzKwUrrFHECBviW001F1i-V2VkwjchibuRpLMNa88qDv24lwDX3MPfDGcMoCWeixmnbSq1evVE1&amp;t=636271491500000000\" width=\"0\"/>\n",
      "          </a>\n",
      "          <table border=\"0\" cellpadding=\"0\" cellspacing=\"0\" id=\"ctl00_mnuMain\">\n",
      "           <tr>\n",
      "            <td id=\"ctl00_mnuMainn0\" onkeyup=\"Menu_Key(event)\" onmouseout=\"Menu_Unhover(this)\" onmouseover=\"Menu_HoverStatic(this)\">\n",
      "             <table border=\"0\" cellpadding=\"0\" cellspacing=\"0\" class=\"StaticMenuItem\" width=\"100%\">\n",
      "              <tr>\n",
      "               <td nowrap=\"nowrap\">\n",
      "                <a class=\"StaticMenuItem\" href=\"Public/About_Us.aspx\">\n",
      "                 ABOUT US\n",
      "                </a>\n",
      "               </td>\n",
      "              </tr>\n",
      "             </table>\n",
      "            </td>\n",
      "            <td width=\"3\">\n",
      "            </td>\n",
      "            <td id=\"ctl00_mnuMainn1\" onkeyup=\"Menu_Key(event)\" onmouseout=\"Menu_Unhover(this)\" onmouseover=\"Menu_HoverStatic(this)\">\n",
      "             <table border=\"0\" cellpadding=\"0\" cellspacing=\"0\" class=\"StaticMenuItem\" width=\"100%\">\n",
      "              <tr>\n",
      "               <td nowrap=\"nowrap\">\n",
      "                <a class=\"StaticMenuItem\" href=\"Spot/Resin_Entry.aspx\">\n",
      "                 REQUEST RESIN\n",
      "                </a>\n",
      "               </td>\n",
      "              </tr>\n",
      "             </table>\n",
      "            </td>\n",
      "            <td width=\"3\">\n",
      "            </td>\n",
      "            <td id=\"ctl00_mnuMainn2\" onkeyup=\"Menu_Key(event)\" onmouseout=\"Menu_Unhover(this)\" onmouseover=\"Menu_HoverStatic(this)\">\n",
      "             <table border=\"0\" cellpadding=\"0\" cellspacing=\"0\" class=\"StaticMenuItem\" width=\"100%\">\n",
      "              <tr>\n",
      "               <td nowrap=\"nowrap\">\n",
      "                <a class=\"StaticMenuItem\" href=\"Research/WeeklyReview.aspx\">\n",
      "                 RESEARCH\n",
      "                </a>\n",
      "               </td>\n",
      "              </tr>\n",
      "             </table>\n",
      "            </td>\n",
      "            <td width=\"3\">\n",
      "            </td>\n",
      "            <td id=\"ctl00_mnuMainn3\" onkeyup=\"Menu_Key(event)\" onmouseout=\"Menu_Unhover(this)\" onmouseover=\"Menu_HoverStatic(this)\">\n",
      "             <table border=\"0\" cellpadding=\"0\" cellspacing=\"0\" class=\"StaticMenuItem\" width=\"100%\">\n",
      "              <tr>\n",
      "               <td nowrap=\"nowrap\">\n",
      "                <a class=\"StaticMenuItem\" href=\"#\">\n",
      "                 SUPPORT CENTER\n",
      "                </a>\n",
      "               </td>\n",
      "              </tr>\n",
      "             </table>\n",
      "            </td>\n",
      "            <td width=\"3\">\n",
      "            </td>\n",
      "            <td id=\"ctl00_mnuMainn4\" onkeyup=\"Menu_Key(event)\" onmouseout=\"Menu_Unhover(this)\" onmouseover=\"Menu_HoverStatic(this)\">\n",
      "             <table border=\"0\" cellpadding=\"0\" cellspacing=\"0\" class=\"StaticMenuItem\" width=\"100%\">\n",
      "              <tr>\n",
      "               <td nowrap=\"nowrap\">\n",
      "                <a class=\"StaticMenuItem\" href=\"Public/Contact_Us.aspx\">\n",
      "                 CONTACT US\n",
      "                </a>\n",
      "               </td>\n",
      "              </tr>\n",
      "             </table>\n",
      "            </td>\n",
      "           </tr>\n",
      "          </table>\n",
      "          <div id=\"ctl00_mnuMainn3Items\" style=\"display:none;\">\n",
      "           <table border=\"0\" cellpadding=\"0\" cellspacing=\"0\">\n",
      "            <tr id=\"ctl00_mnuMainn5\" onkeyup=\"Menu_Key(event)\" onmouseout=\"Menu_Unhover(this)\" onmouseover=\"Menu_HoverDynamic(this)\">\n",
      "             <td>\n",
      "              <table border=\"0\" cellpadding=\"0\" cellspacing=\"0\" class=\"DynamicMenuItem\" width=\"100%\">\n",
      "               <tr>\n",
      "                <td nowrap=\"nowrap\" width=\"100%\">\n",
      "                 <a class=\"DynamicMenuItem\" href=\"Public/FAQs.aspx\">\n",
      "                  FAQ's\n",
      "                 </a>\n",
      "                </td>\n",
      "               </tr>\n",
      "              </table>\n",
      "             </td>\n",
      "            </tr>\n",
      "            <tr>\n",
      "             <td>\n",
      "              <img alt=\"\" src=\"images/menu/MenuSeparator.gif\"/>\n",
      "             </td>\n",
      "            </tr>\n",
      "            <tr id=\"ctl00_mnuMainn6\" onkeyup=\"Menu_Key(event)\" onmouseout=\"Menu_Unhover(this)\" onmouseover=\"Menu_HoverDynamic(this)\">\n",
      "             <td>\n",
      "              <table border=\"0\" cellpadding=\"0\" cellspacing=\"0\" class=\"DynamicMenuItem\" width=\"100%\">\n",
      "               <tr>\n",
      "                <td nowrap=\"nowrap\" width=\"100%\">\n",
      "                 <a class=\"DynamicMenuItem\" href=\"Public/Glossary.aspx\">\n",
      "                  Glossary\n",
      "                 </a>\n",
      "                </td>\n",
      "               </tr>\n",
      "              </table>\n",
      "             </td>\n",
      "            </tr>\n",
      "            <tr>\n",
      "             <td>\n",
      "              <img alt=\"\" src=\"images/menu/MenuSeparator.gif\"/>\n",
      "             </td>\n",
      "            </tr>\n",
      "            <tr id=\"ctl00_mnuMainn7\" onkeyup=\"Menu_Key(event)\" onmouseout=\"Menu_Unhover(this)\" onmouseover=\"Menu_HoverDynamic(this)\">\n",
      "             <td>\n",
      "              <table border=\"0\" cellpadding=\"0\" cellspacing=\"0\" class=\"DynamicMenuItem\" width=\"100%\">\n",
      "               <tr>\n",
      "                <td nowrap=\"nowrap\" width=\"100%\">\n",
      "                 <a class=\"DynamicMenuItem\" href=\"Public/Careers.aspx\">\n",
      "                  Careers\n",
      "                 </a>\n",
      "                </td>\n",
      "               </tr>\n",
      "              </table>\n",
      "             </td>\n",
      "            </tr>\n",
      "            <tr>\n",
      "             <td>\n",
      "              <img alt=\"\" src=\"images/menu/MenuSeparator.gif\"/>\n",
      "             </td>\n",
      "            </tr>\n",
      "            <tr id=\"ctl00_mnuMainn8\" onkeyup=\"Menu_Key(event)\" onmouseout=\"Menu_Unhover(this)\" onmouseover=\"Menu_HoverDynamic(this)\">\n",
      "             <td>\n",
      "              <table border=\"0\" cellpadding=\"0\" cellspacing=\"0\" class=\"DynamicMenuItem\" width=\"100%\">\n",
      "               <tr>\n",
      "                <td nowrap=\"nowrap\" width=\"100%\">\n",
      "                 <a class=\"DynamicMenuItem\" href=\"Public/Links/LinksMain.aspx\">\n",
      "                  Plastics Links\n",
      "                 </a>\n",
      "                </td>\n",
      "               </tr>\n",
      "              </table>\n",
      "             </td>\n",
      "            </tr>\n",
      "            <tr>\n",
      "             <td>\n",
      "              <img alt=\"\" src=\"images/menu/MenuSeparator.gif\"/>\n",
      "             </td>\n",
      "            </tr>\n",
      "           </table>\n",
      "           <div align=\"center\" class=\"DynamicMenuItem\" id=\"ctl00_mnuMainn3ItemsUp\" onmouseout=\"PopOut_Stop(this)\" onmouseover=\"PopOut_Up(this)\" style=\"display:none;\">\n",
      "            <img alt=\"Scroll up\" src=\"/WebResource.axd?d=W0jzDCYKq3kLA5BPLpcmONKXFnFEl1dKhGO1zbxfEW0zkG063HS12AohPPIvTFq3YsjlBlgBJR1NGV0DaZc4ACDJsks1&amp;t=636271491500000000\"/>\n",
      "           </div>\n",
      "           <div align=\"center\" class=\"DynamicMenuItem\" id=\"ctl00_mnuMainn3ItemsDn\" onmouseout=\"PopOut_Stop(this)\" onmouseover=\"PopOut_Down(this)\" style=\"display:none;\">\n",
      "            <img alt=\"Scroll down\" src=\"/WebResource.axd?d=tPK7qLdYuDfuqykL-rbXnjoOWO9YfNaRu068dHmqL1T7se7OrIjoOnr_NBrnk1qomrA0IZ7nf8zkFxdlY5kZNGv6qWw1&amp;t=636271491500000000\"/>\n",
      "           </div>\n",
      "          </div>\n",
      "          <a id=\"ctl00_mnuMain_SkipLink\">\n",
      "          </a>\n",
      "         </td>\n",
      "         <td>\n",
      "          <img src=\"/Pics/menu/menu_orange_phone-1.jpg\"/>\n",
      "         </td>\n",
      "        </tr>\n",
      "       </table>\n",
      "      </td>\n",
      "     </tr>\n",
      "     <tr>\n",
      "      <td class=\"BackgroundColor\" height=\"100%\" valign=\"top\" width=\"100%\">\n",
      "       <div align=\"left\">\n",
      "        <table border=\"0\" cellpadding=\"0\" cellspacing=\"0\" width=\"100%\">\n",
      "         <tr>\n",
      "          <td>\n",
      "           <div id=\"switcher-wrap\">\n",
      "            <a class=\"image-link\" href=\"#\" id=\"one\" onclick=\"return false\">\n",
      "             <span>\n",
      "              Image One\n",
      "             </span>\n",
      "            </a>\n",
      "            <a class=\"image-link\" href=\"#\" id=\"two\" onclick=\"return false\">\n",
      "             <span>\n",
      "              Image Two\n",
      "             </span>\n",
      "            </a>\n",
      "            <a class=\"image-link\" href=\"#\" id=\"three\" onclick=\"return false\">\n",
      "             <span>\n",
      "              Image Three\n",
      "             </span>\n",
      "            </a>\n",
      "            <a class=\"image-link\" href=\"#\" id=\"four\" onclick=\"return false\">\n",
      "             <span>\n",
      "              Image Four\n",
      "             </span>\n",
      "            </a>\n",
      "            <a class=\"image-link\" href=\"https://www.theplasticsexchange.com/Public/Registration.aspx\" id=\"five\">\n",
      "             <span>\n",
      "              Image Five\n",
      "             </span>\n",
      "            </a>\n",
      "           </div>\n",
      "          </td>\n",
      "         </tr>\n",
      "        </table>\n",
      "       </div>\n",
      "       <table align=\"center\" bgcolor=\"#333333\" border=\"0\" cellpadding=\"0\" cellspacing=\"0\" width=\"780\">\n",
      "        <tbody>\n",
      "         <!--<TR>\r\n",
      "            <TD width=\"100%\" colSpan=3 height=18>\r\n",
      "                <APPLET height=18 width=780 code=\"menuscroll2.class\" viewastext>\r\n",
      "                    <PARAM NAME=\"yposition\" VALUE=\"14\">\r\n",
      "                    <PARAM NAME=\"arrow_color\" VALUE=\"FFFFFF\">\r\n",
      "                    <PARAM NAME=\"highlight_rect_color\" VALUE=\"CC6600\">\r\n",
      "                    <PARAM NAME=\"regcode\" VALUE=\"8mnxzaqre58g\">\r\n",
      "                    <PARAM NAME=\"highlight_arrow_color\" VALUE=\"CC6600\">\r\n",
      "                    <PARAM NAME=\"font_size\" VALUE=\"10\">\r\n",
      "                    <PARAM NAME=\"info\" VALUE=\"Applet by Gokhan Dagli,www.appletcollection.com\">\r\n",
      "                    <PARAM NAME=\"applet_height\" VALUE=\"14\">\r\n",
      "                    <PARAM NAME=\"text_color\" VALUE=\"000000\">\r\n",
      "                    <PARAM NAME=\"font_type\" VALUE=\"Arial,Verdana\">\r\n",
      "                    <PARAM NAME=\"space\" VALUE=\"10\">\r\n",
      "                    <PARAM NAME=\"bgcolor\" VALUE=\"000000\">\r\n",
      "                    <PARAM NAME=\"arrow_bgcolor\" VALUE=\"000000\">\r\n",
      "                    <PARAM NAME=\"scroll_delay\" VALUE=\"10\">\r\n",
      "                    <PARAM NAME=\"highlight_text_color\" VALUE=\"FFFFFF\">\r\n",
      "                    <PARAM NAME=\"mouse_over\" VALUE=\"stop\">\r\n",
      "                    <PARAM NAME=\"rect_color\" VALUE=\"CCCCCC\">\r\n",
      "                    <PARAM NAME=\"border_color\" VALUE=\"000000\">\r\n",
      "                    <PARAM NAME=\"applet_width\" VALUE=\"100%\">\r\n",
      "                    <PARAM NAME=\"xspace\" VALUE=\"1\">\r\n",
      "                    <PARAM NAME=\"font_style\" VALUE=\"0\">\r\n",
      "                    <PARAM NAME=\"scroll_jump\" VALUE=\"1\">\r\n",
      "                    <param name=text0 value='3 TL Bags PP Homopolymer - Inj Prime Raffia Melt: 3.5 $0.9600'><param name=link0 value=http://www.theplasticsexchange.com/Spot/Inquire.aspx?Id=72415><param name=target_frame82 value=_self><param name=text1 value='4 TL Bags PP Homopolymer - Inj Prime Melt: 12 $0.9600'><param name=link1 value=http://www.theplasticsexchange.com/Spot/Inquire.aspx?Id=72416><param name=target_frame83 value=_self><param name=text2 value='1 TL Bags PP Homopolymer - Inj Supersacks Melt: 3.8 $0.9050'><param name=link2 value=http://www.theplasticsexchange.com/Spot/Inquire.aspx?Id=72417><param name=target_frame84 value=_self><param name=text3 value='1 TL Bags PP Copolymer - Inj Prime Melt: 28 $1.0600'><param name=link3 value=http://www.theplasticsexchange.com/Spot/Inquire.aspx?Id=72419><param name=target_frame85 value=_self><param name=text4 value='1 TL Bags PP Copolymer - Inj Prime Melt: 12 $1.0600'><param name=link4 value=http://www.theplasticsexchange.com/Spot/Inquire.aspx?Id=72420><param name=target_frame86 value=_self><param name=text5 value='4 TL Bags PP Copolymer - Inj Supersacks Melt: 2-2.5 $0.9800'><param name=link5 value=http://www.theplasticsexchange.com/Spot/Inquire.aspx?Id=72421><param name=target_frame87 value=_self><param name=text6 value='2 TL Bags PP Copolymer - Inj Supersacks Melt: .7-.9 $0.9800'><param name=link6 value=http://www.theplasticsexchange.com/Spot/Inquire.aspx?Id=72422><param name=target_frame88 value=_self><param name=text7 value='1 TL Boxes PP Copolymer - Inj  Melt: 50-55 $0.9800'><param name=link7 value=http://www.theplasticsexchange.com/Spot/Inquire.aspx?Id=72423><param name=target_frame89 value=_self><param name=text8 value='3 TL Bags PP Copolymer - Inj Prime in Supersacks Melt: 20 $1.0100'><param name=link8 value=http://www.theplasticsexchange.com/Spot/Inquire.aspx?Id=72424><param name=target_frame90 value=_self><param name=text9 value='2 TL Bags PP Copolymer - Inj Supersacks Melt: 2 $0.9800'><param name=link9 value=http://www.theplasticsexchange.com/Spot/Inquire.aspx?Id=72425><param name=target_frame91 value=_self><param name=text10 value='2 TL Boxes PP Copolymer - Inj  Melt: 45-50 $0.9800'><param name=link10 value=http://www.theplasticsexchange.com/Spot/Inquire.aspx?Id=72426><param name=target_frame92 value=_self><param name=text11 value='1 HC PP Homopolymer - Inj  Melt: 1.3 $0.8500'><param name=link11 value=http://www.theplasticsexchange.com/Spot/Inquire.aspx?Id=72462><param name=target_frame93 value=_self><param name=text12 value='4 TL Bags HMWPE - Film  Melt: 8 HLMI Density: 0.949 $0.6750'><param name=link12 value=http://www.theplasticsexchange.com/Spot/Inquire.aspx?Id=72463><param name=target_frame94 value=_self><param name=text13 value='2 TL Bags PP Copolymer - Inj  Melt: 20 $1.0500'><param name=link13 value=http://www.theplasticsexchange.com/Spot/Inquire.aspx?Id=72464><param name=target_frame95 value=_self><param name=text14 value='6 TL Bags HDPE - Inj Prime Melt: 4 Density: 0.952 $0.6700'><param name=link14 value=http://www.theplasticsexchange.com/Spot/Inquire.aspx?Id=72470><param name=target_frame96 value=_self><param name=text15 value='5 TL Boxes HMWPE - Film Generic Prime Bimodal Melt: 8.33 HLMI Density: 0.952 $0.7300'><param name=link15 value=http://www.theplasticsexchange.com/Spot/Inquire.aspx?Id=72477><param name=target_frame97 value=_self><param name=text16 value='5 TL Boxes PP Copolymer - Inj ready late July Melt: 12 $0.9800'><param name=link16 value=http://www.theplasticsexchange.com/Spot/Inquire.aspx?Id=72479><param name=target_frame98 value=_self><param name=text17 value='2 TL Bags PP Homopolymer - Inj Supersacks Melt: 70-80 $0.8800'><param name=link17 value=http://www.theplasticsexchange.com/Spot/Inquire.aspx?Id=72482><param name=target_frame99 value=_self><param name=text18 value='5 TL Bags LLDPE - Inj ready end of July Melt: 18 Density: 0.931 $0.6800'><param name=link18 value=http://www.theplasticsexchange.com/Spot/Inquire.aspx?Id=72484><param name=target_frame100 value=_self><param name=text19 value='5 TL Bags HDPE - Inj Generic Prime Melt: 4.5 Density: 0.953 $0.7200'><param name=link19 value=http://www.theplasticsexchange.com/Spot/Inquire.aspx?Id=72485><param name=target_frame101 value=_self><param name=text20 value='1 BT PP Homopolymer - Inj boxes +.04/lb Melt: 14 $0.8700'><param name=link20 value=http://www.theplasticsexchange.com/Spot/Inquire.aspx?Id=72491><param name=target_frame102 value=_self><param name=text21 value='1 TL Bags HDPE - Inj  Melt: 4.5 Density: 0.952 $0.6500'><param name=link21 value=http://www.theplasticsexchange.com/Spot/Inquire.aspx?Id=72492><param name=target_frame103 value=_self><param name=text22 value='4 TL Bags HDPE - Inj good color Melt: 18 Density: 0.953 $0.6600'><param name=link22 value=http://www.theplasticsexchange.com/Spot/Inquire.aspx?Id=72493><param name=target_frame104 value=_self><param name=text23 value='1 TL Bags PP Copolymer - Inj  Melt: 20 $0.9100'><param name=link23 value=http://www.theplasticsexchange.com/Spot/Inquire.aspx?Id=72494><param name=target_frame105 value=_self><param name=text24 value='1 HC PP Copolymer - Inj yellow pellets Melt: 5 $0.7100'><param name=link24 value=http://www.theplasticsexchange.com/Spot/Inquire.aspx?Id=72495><param name=target_frame106 value=_self><param name=text25 value='1 HC PP Copolymer - Inj  Melt: 14 $0.7600'><param name=link25 value=http://www.theplasticsexchange.com/Spot/Inquire.aspx?Id=72496><param name=target_frame107 value=_self><param name=text26 value='1 HC PP Copolymer - Inj  Melt: 5 $0.6800'><param name=link26 value=http://www.theplasticsexchange.com/Spot/Inquire.aspx?Id=72497><param name=target_frame108 value=_self><param name=text27 value='3 HC HDPE - Blow Mold Phillips Process Melt: 5 HLMI Density: 0.948 $0.6500'><param name=link27 value=http://www.theplasticsexchange.com/Spot/Inquire.aspx?Id=72498><param name=target_frame109 value=_self><param name=text28 value='1 HC LLDPE - Film Hexene Melt: .73 Density: 0.918 $0.6800'><param name=link28 value=http://www.theplasticsexchange.com/Spot/Inquire.aspx?Id=72499><param name=target_frame110 value=_self><param name=text29 value='1 HC LLDPE - Film Octene Melt: 1 Density: 0.920 $0.7600'><param name=link29 value=http://www.theplasticsexchange.com/Spot/Inquire.aspx?Id=72500><param name=target_frame111 value=_self><param name=text30 value='1 HC LLDPE - Film Octene Melt: 1 Density: 0.920 $0.7600'><param name=link30 value=http://www.theplasticsexchange.com/Spot/Inquire.aspx?Id=72501><param name=target_frame112 value=_self><param name=text31 value='1 HC LLDPE - Film Octene Melt: 2 Density: 0.920 $0.7600'><param name=link31 value=http://www.theplasticsexchange.com/Spot/Inquire.aspx?Id=72502><param name=target_frame113 value=_self><param name=text32 value='1 HC LLDPE - Film Octene Melt: 2 Density: 0.920 $0.7600'><param name=link32 value=http://www.theplasticsexchange.com/Spot/Inquire.aspx?Id=72503><param name=target_frame114 value=_self><param name=text33 value='2 TL Bags LLDPE - Inj ready end of July Melt: 48 Density: 0.924 $0.7000'><param name=link33 value=http://www.theplasticsexchange.com/Spot/Inquire.aspx?Id=72504><param name=target_frame115 value=_self><param name=text34 value='3 TL Bags HMWPE - Film Prime Bimodal e-924 type Melt: 9 HLMI Density: 0.949 $0.7350'><param name=link34 value=http://www.theplasticsexchange.com/Spot/Inquire.aspx?Id=72505><param name=target_frame116 value=_self><param name=text35 value='1 TL Bags HDPE - Inj Prime Melt: 40 Density: 0.952 $0.8500'><param name=link35 value=http://www.theplasticsexchange.com/Spot/Inquire.aspx?Id=72506><param name=target_frame117 value=_self><param name=text36 value='4 TL Bags LDPE - Film Prime  Melt: .3 Density: 0.937 $0.8100'><param name=link36 value=http://www.theplasticsexchange.com/Spot/Inquire.aspx?Id=72507><param name=target_frame118 value=_self><param name=text37 value='1 HC LLDPE - Film Butene Melt: 2 Density: 0.918 $0.7300'><param name=link37 value=http://www.theplasticsexchange.com/Spot/Inquire.aspx?Id=72509><param name=target_frame119 value=_self><param name=text38 value='1 HC LLDPE - Film Prime Butene Melt: 1 Density: 0.920 $0.7400'><param name=link38 value=http://www.theplasticsexchange.com/Spot/Inquire.aspx?Id=72511><param name=target_frame120 value=_self><param name=text39 value='1 HC LLDPE - Film Metallocene Melt: 1 Density: 0.916 $0.7650'><param name=link39 value=http://www.theplasticsexchange.com/Spot/Inquire.aspx?Id=72512><param name=target_frame121 value=_self><param name=text40 value='1 HC HDPE - Blow Mold Prime 5502 Type Melt: .35 Density: 0.955 $0.7300'><param name=link40 value=http://www.theplasticsexchange.com/Spot/Inquire.aspx?Id=72513><param name=target_frame122 value=_self><param name=text0 value='4 TL Bags HMWPE - Film Prime Melt: 8.5 HLMI Density: 0.949 $0.7300'><param name=link0 value=http://www.theplasticsexchange.com/Spot/Inquire.aspx?Id=72265><param name=target_frame0 value=_self><param name=text1 value='1 TL Bags LDPE - Inj Supersacks Melt: 30-35 Density: 0.922 $0.7800'><param name=link1 value=http://www.theplasticsexchange.com/Spot/Inquire.aspx?Id=72268><param name=target_frame1 value=_self><param name=text2 value='2 TL Bags LDPE - Inj  Melt: 8 Density: 0.920 $0.8200'><param name=link2 value=http://www.theplasticsexchange.com/Spot/Inquire.aspx?Id=72269><param name=target_frame2 value=_self><param name=text3 value='1 TL Boxes LLDPE - Film Prime Metallocene Melt: 1 Density: 0.918 $0.7800'><param name=link3 value=http://www.theplasticsexchange.com/Spot/Inquire.aspx?Id=72286><param name=target_frame3 value=_self><param name=text4 value='2 TL Bags LLDPE - Film Prime Hexene Melt: 1 Density: 0.918 $0.7600'><param name=link4 value=http://www.theplasticsexchange.com/Spot/Inquire.aspx?Id=72287><param name=target_frame4 value=_self><param name=text5 value='3 TL Bags LLDPE - Film Prime Butene Melt: 1 Density: 0.920 $0.7750'><param name=link5 value=http://www.theplasticsexchange.com/Spot/Inquire.aspx?Id=72288><param name=target_frame5 value=_self><param name=text6 value='1 TL Bags LLDPE - Film Prime Melt: .9 Density: 0.923 $0.7350'><param name=link6 value=http://www.theplasticsexchange.com/Spot/Inquire.aspx?Id=72289><param name=target_frame6 value=_self><param name=text7 value='4 TL Bags LLDPE - Film Butene Melt: 2 Density: 0.919 $0.6700'><param name=link7 value=http://www.theplasticsexchange.com/Spot/Inquire.aspx?Id=72290><param name=target_frame7 value=_self><param name=text8 value='2 TL Bags LLDPE - Film Metallocene Melt: 1 Density: 0.918 $0.7600'><param name=link8 value=http://www.theplasticsexchange.com/Spot/Inquire.aspx?Id=72291><param name=target_frame8 value=_self><param name=text9 value='2 TL Bags LLDPE - Film Metallocene Melt: 1 Density: 0.918 $0.7200'><param name=link9 value=http://www.theplasticsexchange.com/Spot/Inquire.aspx?Id=72293><param name=target_frame9 value=_self><param name=text10 value='4 TL Bags LLDPE - Film Prime Butene Melt: 2 Density: 0.920 $0.7400'><param name=link10 value=http://www.theplasticsexchange.com/Spot/Inquire.aspx?Id=72294><param name=target_frame10 value=_self><param name=text11 value='4 TL Bags LLDPE - Film Prime Butene Melt: 1 Density: 0.918 $0.7500'><param name=link11 value=http://www.theplasticsexchange.com/Spot/Inquire.aspx?Id=72295><param name=target_frame11 value=_self><param name=text12 value='4 TL Bags LLDPE - Film Prime Butene Melt: 1 Density: 0.918 $0.7400'><param name=link12 value=http://www.theplasticsexchange.com/Spot/Inquire.aspx?Id=72297><param name=target_frame12 value=_self><param name=text13 value='4 TL Bags LLDPE - Film Prime Butene Melt: 2 Density: 0.920 $0.7500'><param name=link13 value=http://www.theplasticsexchange.com/Spot/Inquire.aspx?Id=72298><param name=target_frame13 value=_self><param name=text14 value='4 TL Bags HMWPE - Film Prime Melt: 8.5 HLMI Density: 0.949 $0.7200'><param name=link14 value=http://www.theplasticsexchange.com/Spot/Inquire.aspx?Id=72299><param name=target_frame14 value=_self><param name=text15 value='2 TL Bags HDPE - Inj  Melt: 9.39 Density: 0.951 $0.7250'><param name=link15 value=http://www.theplasticsexchange.com/Spot/Inquire.aspx?Id=72307><param name=target_frame15 value=_self><param name=text16 value='1 TL Bags HDPE - Inj Supersacks Melt: 10.5 Density: 0.953 $0.7250'><param name=link16 value=http://www.theplasticsexchange.com/Spot/Inquire.aspx?Id=72308><param name=target_frame16 value=_self><param name=text17 value='2 TL Bags HDPE - Inj Prime Melt: 20 Density: 0.952 $0.7950'><param name=link17 value=http://www.theplasticsexchange.com/Spot/Inquire.aspx?Id=72309><param name=target_frame17 value=_self><param name=text18 value='1 TL Bags HDPE - Inj Supersacks Melt: 8-10 Density: 0.953 $0.7050'><param name=link18 value=http://www.theplasticsexchange.com/Spot/Inquire.aspx?Id=72311><param name=target_frame18 value=_self><param name=text19 value='4 TL Bags HDPE - Inj Prime Crate Grade Melt: 8 Density: 0.960 $0.7850'><param name=link19 value=http://www.theplasticsexchange.com/Spot/Inquire.aspx?Id=72312><param name=target_frame19 value=_self><param name=text20 value='4 TL Bags HDPE - Inj Prime Crate Grade Melt: 8 Density: 0.960 $0.7950'><param name=link20 value=http://www.theplasticsexchange.com/Spot/Inquire.aspx?Id=72313><param name=target_frame20 value=_self><param name=text21 value='1 TL Bags HDPE - Inj  Melt: 33 Density: 0.952 $0.7250'><param name=link21 value=http://www.theplasticsexchange.com/Spot/Inquire.aspx?Id=72314><param name=target_frame21 value=_self><param name=text22 value='1 TL Bags HDPE - Inj Prime Pail Grade Melt: 6.6 Density: 0.953 $0.7900'><param name=link22 value=http://www.theplasticsexchange.com/Spot/Inquire.aspx?Id=72316><param name=target_frame22 value=_self><param name=text23 value='3 TL Bags HDPE - Inj Prime Melt: 20 Density: 0.952 $0.8100'><param name=link23 value=http://www.theplasticsexchange.com/Spot/Inquire.aspx?Id=72317><param name=target_frame23 value=_self><param name=text24 value='4 TL Bags HDPE - Inj Prime Crate Grade Melt: 8 Density: 0.960 $0.7600'><param name=link24 value=http://www.theplasticsexchange.com/Spot/Inquire.aspx?Id=72320><param name=target_frame24 value=_self><param name=text25 value='4 TL Bags HDPE - Inj Prime Pail Grade Melt: 7 Density: 0.953 $0.7700'><param name=link25 value=http://www.theplasticsexchange.com/Spot/Inquire.aspx?Id=72321><param name=target_frame25 value=_self><param name=text26 value='4 TL Bags HDPE - Inj Prime Melt: 20 Density: 0.952 $0.7800'><param name=link26 value=http://www.theplasticsexchange.com/Spot/Inquire.aspx?Id=72322><param name=target_frame26 value=_self><param name=text27 value='4 TL Bags HDPE - Inj Prime Melt: 20 Density: 0.952 $0.7500'><param name=link27 value=http://www.theplasticsexchange.com/Spot/Inquire.aspx?Id=72323><param name=target_frame27 value=_self><param name=text28 value='4 TL Bags HDPE - Inj Prime Crate Grade Melt: 8 Density: 0.960 $0.7500'><param name=link28 value=http://www.theplasticsexchange.com/Spot/Inquire.aspx?Id=72324><param name=target_frame28 value=_self><param name=text29 value='4 TL Bags HDPE - Inj Prime Pail Grade Melt: 7 Density: 0.953 $0.7600'><param name=link29 value=http://www.theplasticsexchange.com/Spot/Inquire.aspx?Id=72325><param name=target_frame29 value=_self><param name=text30 value='4 TL Bags HDPE - Inj Prime Pail Grade Melt: 7 Density: 0.953 $0.7900'><param name=link30 value=http://www.theplasticsexchange.com/Spot/Inquire.aspx?Id=72326><param name=target_frame30 value=_self><param name=text31 value='2 TL Bags HDPE - Blow Mold Prime 5502 Melt: .35 Density: 0.955 $0.7650'><param name=link31 value=http://www.theplasticsexchange.com/Spot/Inquire.aspx?Id=72344><param name=target_frame31 value=_self><param name=text32 value='4 TL Bags HDPE - Blow Mold Prime 5502 Melt: .35 Density: 0.955 $0.7700'><param name=link32 value=http://www.theplasticsexchange.com/Spot/Inquire.aspx?Id=72357><param name=target_frame32 value=_self><param name=text33 value='4 TL Bags HDPE - Blow Mold Prime 50100 Type Melt: 10 HLMI Density: 0.950 $0.7700'><param name=link33 value=http://www.theplasticsexchange.com/Spot/Inquire.aspx?Id=72358><param name=target_frame33 value=_self><param name=text34 value='2 TL Bags HDPE - Blow Mold Prime 50100 Type Melt: 10 HLMI Density: 0.950 $0.7600'><param name=link34 value=http://www.theplasticsexchange.com/Spot/Inquire.aspx?Id=72359><param name=target_frame34 value=_self><param name=text35 value='2 TL Bags HDPE - Blow Mold Prime 5502 Melt: .35 Density: 0.955 $0.7500'><param name=link35 value=http://www.theplasticsexchange.com/Spot/Inquire.aspx?Id=72360><param name=target_frame35 value=_self><param name=text36 value='4 TL Boxes HDPE - Blow Mold Prime 6007 Type Melt: .7 Density: 0.960 $0.8300'><param name=link36 value=http://www.theplasticsexchange.com/Spot/Inquire.aspx?Id=72361><param name=target_frame36 value=_self><param name=text37 value='2 TL Bags HDPE - Blow Mold Prime 5502 type Melt: .35 Density: 0.955 $0.7800'><param name=link37 value=http://www.theplasticsexchange.com/Spot/Inquire.aspx?Id=72362><param name=target_frame37 value=_self><param name=text38 value='2 TL Bags HDPE - Blow Mold Prime 5502 Melt: .35 Density: 0.955 $0.7600'><param name=link38 value=http://www.theplasticsexchange.com/Spot/Inquire.aspx?Id=72363><param name=target_frame38 value=_self><param name=text39 value='2 TL Bags HDPE - Blow Mold Prime 5502 Melt: .35 Density: 0.955 $0.7500'><param name=link39 value=http://www.theplasticsexchange.com/Spot/Inquire.aspx?Id=72364><param name=target_frame39 value=_self><param name=text40 value='1 TL Bags HDPE - Blow Mold Prime 6007 Melt: .7 Density: 0.960 $0.8350'><param name=link40 value=http://www.theplasticsexchange.com/Spot/Inquire.aspx?Id=72365><param name=target_frame40 value=_self>\r\n",
      "                </APPLET>                 \r\n",
      "            </TD>\r\n",
      "        </TR>-->\n",
      "         <tr>\n",
      "          <td align=\"left\" background=\"/pics/home_bar_titles_r1_c1.jpg\" class=\"LinkNormal OrangeLink\" height=\"10\" valign=\"middle\" width=\"184\">\n",
      "           <strong class=\"Header Color1\">\n",
      "            Resin Markets\n",
      "           </strong>\n",
      "          </td>\n",
      "          <td background=\"/pics/home_bar_titles_r1_c1.jpg\">\n",
      "          </td>\n",
      "          <td align=\"left\" background=\"/pics/home_bar_titles_r1_c1.jpg\" style=\"HEIGHT: 14px\" width=\"50%\">\n",
      "           <div class=\"Header Bold Color3\" id=\"lblChartName\">\n",
      "           </div>\n",
      "          </td>\n",
      "         </tr>\n",
      "        </tbody>\n",
      "       </table>\n",
      "       <table align=\"center\" bgcolor=\"#000000\" border=\"0\" cellpadding=\"0\" cellspacing=\"0\" width=\"780\">\n",
      "        <tbody>\n",
      "         <tr>\n",
      "          <td width=\"390\">\n",
      "           <div class=\"yui\" id=\"ctl00_cphMain_tcMarkets\">\n",
      "            <div id=\"ctl00_cphMain_tcMarkets_header\">\n",
      "             <span id=\"__tab_ctl00_cphMain_tcMarkets_tbSpot\">\n",
      "              Spot\n",
      "             </span>\n",
      "             <span id=\"__tab_ctl00_cphMain_tcMarkets_TabPanel2\">\n",
      "              Contract\n",
      "             </span>\n",
      "            </div>\n",
      "            <div id=\"ctl00_cphMain_tcMarkets_body\">\n",
      "             <div id=\"ctl00_cphMain_tcMarkets_tbSpot\" style=\"display:none;\">\n",
      "              <table border=\"0\" cellpadding=\"0\" cellspacing=\"0\" width=\"100%\">\n",
      "               <tr>\n",
      "                <td>\n",
      "                 <table align=\"Center\" bgcolor=\"Black\" border=\"0\" bordercolor=\"Black\" cellpadding=\"2\" cellspacing=\"0\" class=\"LinkNormal WhiteLink\" id=\"ctl00_cphMain_tcMarkets_tbSpot_dgSpot\" rules=\"rows\" width=\"100%\">\n",
      "                  <tr>\n",
      "                   <td class=\"ChartContent Bold Color4\">\n",
      "                    <font color=\"White\" size=\"3\">\n",
      "                     <b>\n",
      "                      Resin\n",
      "                     </b>\n",
      "                    </font>\n",
      "                   </td>\n",
      "                   <td class=\"ChartContent Bold Color4\">\n",
      "                    <font color=\"White\" size=\"3\">\n",
      "                     <b>\n",
      "                      Total lbs\n",
      "                     </b>\n",
      "                    </font>\n",
      "                   </td>\n",
      "                   <td class=\"ChartContent Bold Color4\">\n",
      "                    <font color=\"White\" size=\"3\">\n",
      "                     <b>\n",
      "                      Low\n",
      "                     </b>\n",
      "                    </font>\n",
      "                   </td>\n",
      "                   <td class=\"ChartContent Bold Color4\">\n",
      "                    <font color=\"White\" size=\"3\">\n",
      "                     <b>\n",
      "                      High\n",
      "                     </b>\n",
      "                    </font>\n",
      "                   </td>\n",
      "                  </tr>\n",
      "                  <tr class=\"hspotcontent\" onclick=\"window.location ='/spot/Spot_Floor.aspx?Filter=9';\" onmouseout=\"this.style.backgroundColor='black';this.style.cursor='pointer';\" onmouseover=\"ChartImg.src = '/Research/Charts/home/Spot_9.png';this.style.backgroundColor='#FF8B00';this.style.cursor='hand';\">\n",
      "                   <td>\n",
      "                    <font color=\"White\" size=\"3\">\n",
      "                     <a href=\"/spot/Spot_Floor.aspx?Filter=9\">\n",
      "                      PP Copolymer - Inj\n",
      "                     </a>\n",
      "                    </font>\n",
      "                   </td>\n",
      "                   <td class=\"ChartContent Bold Color4\" nowrap=\"nowrap\">\n",
      "                    <font color=\"White\" size=\"3\">\n",
      "                     1,611,472\n",
      "                    </font>\n",
      "                   </td>\n",
      "                   <td class=\"ChartContent Bold Color4\" nowrap=\"nowrap\">\n",
      "                    <font color=\"White\" size=\"3\">\n",
      "                     0.680\n",
      "                    </font>\n",
      "                   </td>\n",
      "                   <td class=\"ChartContent Bold Color4\" nowrap=\"nowrap\">\n",
      "                    <font color=\"White\" size=\"3\">\n",
      "                     1.060\n",
      "                    </font>\n",
      "                   </td>\n",
      "                  </tr>\n",
      "                  <tr bgcolor=\"Black\" class=\"hspotcontent\" onclick=\"window.location ='/spot/Spot_Floor.aspx?Filter=8';\" onmouseout=\"this.style.backgroundColor='black';this.style.cursor='pointer';\" onmouseover=\"ChartImg.src = '/Research/Charts/home/Spot_8.png';this.style.backgroundColor='#FF8B00';this.style.cursor='hand';\">\n",
      "                   <td>\n",
      "                    <font color=\"White\" size=\"3\">\n",
      "                     <a href=\"/spot/Spot_Floor.aspx?Filter=8\">\n",
      "                      PP Homopolymer - Inj\n",
      "                     </a>\n",
      "                    </font>\n",
      "                   </td>\n",
      "                   <td class=\"ChartContent Bold Color4\" nowrap=\"nowrap\">\n",
      "                    <font color=\"White\" size=\"3\">\n",
      "                     1,729,944\n",
      "                    </font>\n",
      "                   </td>\n",
      "                   <td class=\"ChartContent Bold Color4\" nowrap=\"nowrap\">\n",
      "                    <font color=\"White\" size=\"3\">\n",
      "                     0.850\n",
      "                    </font>\n",
      "                   </td>\n",
      "                   <td class=\"ChartContent Bold Color4\" nowrap=\"nowrap\">\n",
      "                    <font color=\"White\" size=\"3\">\n",
      "                     0.970\n",
      "                    </font>\n",
      "                   </td>\n",
      "                  </tr>\n",
      "                  <tr class=\"hspotcontent\" onclick=\"window.location ='/spot/Spot_Floor.aspx?Filter=2';\" onmouseout=\"this.style.backgroundColor='black';this.style.cursor='pointer';\" onmouseover=\"ChartImg.src = '/Research/Charts/home/Spot_2.png';this.style.backgroundColor='#FF8B00';this.style.cursor='hand';\">\n",
      "                   <td>\n",
      "                    <font color=\"White\" size=\"3\">\n",
      "                     <a href=\"/spot/Spot_Floor.aspx?Filter=2\">\n",
      "                      HDPE - Inj\n",
      "                     </a>\n",
      "                    </font>\n",
      "                   </td>\n",
      "                   <td class=\"ChartContent Bold Color4\" nowrap=\"nowrap\">\n",
      "                    <font color=\"White\" size=\"3\">\n",
      "                     2,821,888\n",
      "                    </font>\n",
      "                   </td>\n",
      "                   <td class=\"ChartContent Bold Color4\" nowrap=\"nowrap\">\n",
      "                    <font color=\"White\" size=\"3\">\n",
      "                     0.650\n",
      "                    </font>\n",
      "                   </td>\n",
      "                   <td class=\"ChartContent Bold Color4\" nowrap=\"nowrap\">\n",
      "                    <font color=\"White\" size=\"3\">\n",
      "                     0.850\n",
      "                    </font>\n",
      "                   </td>\n",
      "                  </tr>\n",
      "                  <tr bgcolor=\"Black\" class=\"hspotcontent\" onclick=\"window.location ='/spot/Spot_Floor.aspx?Filter=7';\" onmouseout=\"this.style.backgroundColor='black';this.style.cursor='pointer';\" onmouseover=\"ChartImg.src = '/Research/Charts/home/Spot_7.png';this.style.backgroundColor='#FF8B00';this.style.cursor='hand';\">\n",
      "                   <td>\n",
      "                    <font color=\"White\" size=\"3\">\n",
      "                     <a href=\"/spot/Spot_Floor.aspx?Filter=7\">\n",
      "                      LLDPE - Inj\n",
      "                     </a>\n",
      "                    </font>\n",
      "                   </td>\n",
      "                   <td class=\"ChartContent Bold Color4\" nowrap=\"nowrap\">\n",
      "                    <font color=\"White\" size=\"3\">\n",
      "                     881,840\n",
      "                    </font>\n",
      "                   </td>\n",
      "                   <td class=\"ChartContent Bold Color4\" nowrap=\"nowrap\">\n",
      "                    <font color=\"White\" size=\"3\">\n",
      "                     0.680\n",
      "                    </font>\n",
      "                   </td>\n",
      "                   <td class=\"ChartContent Bold Color4\" nowrap=\"nowrap\">\n",
      "                    <font color=\"White\" size=\"3\">\n",
      "                     0.840\n",
      "                    </font>\n",
      "                   </td>\n",
      "                  </tr>\n",
      "                  <tr class=\"hspotcontent\" onclick=\"window.location ='/spot/Spot_Floor.aspx?Filter=3';\" onmouseout=\"this.style.backgroundColor='black';this.style.cursor='pointer';\" onmouseover=\"ChartImg.src = '/Research/Charts/home/Spot_3.png';this.style.backgroundColor='#FF8B00';this.style.cursor='hand';\">\n",
      "                   <td>\n",
      "                    <font color=\"White\" size=\"3\">\n",
      "                     <a href=\"/spot/Spot_Floor.aspx?Filter=3\">\n",
      "                      HDPE - Blow Mold\n",
      "                     </a>\n",
      "                    </font>\n",
      "                   </td>\n",
      "                   <td class=\"ChartContent Bold Color4\" nowrap=\"nowrap\">\n",
      "                    <font color=\"White\" size=\"3\">\n",
      "                     2,506,944\n",
      "                    </font>\n",
      "                   </td>\n",
      "                   <td class=\"ChartContent Bold Color4\" nowrap=\"nowrap\">\n",
      "                    <font color=\"White\" size=\"3\">\n",
      "                     0.650\n",
      "                    </font>\n",
      "                   </td>\n",
      "                   <td class=\"ChartContent Bold Color4\" nowrap=\"nowrap\">\n",
      "                    <font color=\"White\" size=\"3\">\n",
      "                     0.835\n",
      "                    </font>\n",
      "                   </td>\n",
      "                  </tr>\n",
      "                  <tr bgcolor=\"Black\" class=\"hspotcontent\" onclick=\"window.location ='/spot/Spot_Floor.aspx?Filter=5';\" onmouseout=\"this.style.backgroundColor='black';this.style.cursor='pointer';\" onmouseover=\"ChartImg.src = '/Research/Charts/home/Spot_5.png';this.style.backgroundColor='#FF8B00';this.style.cursor='hand';\">\n",
      "                   <td>\n",
      "                    <font color=\"White\" size=\"3\">\n",
      "                     <a href=\"/spot/Spot_Floor.aspx?Filter=5\">\n",
      "                      LDPE - Inj\n",
      "                     </a>\n",
      "                    </font>\n",
      "                   </td>\n",
      "                   <td class=\"ChartContent Bold Color4\" nowrap=\"nowrap\">\n",
      "                    <font color=\"White\" size=\"3\">\n",
      "                     132,276\n",
      "                    </font>\n",
      "                   </td>\n",
      "                   <td class=\"ChartContent Bold Color4\" nowrap=\"nowrap\">\n",
      "                    <font color=\"White\" size=\"3\">\n",
      "                     0.780\n",
      "                    </font>\n",
      "                   </td>\n",
      "                   <td class=\"ChartContent Bold Color4\" nowrap=\"nowrap\">\n",
      "                    <font color=\"White\" size=\"3\">\n",
      "                     0.820\n",
      "                    </font>\n",
      "                   </td>\n",
      "                  </tr>\n",
      "                  <tr class=\"hspotcontent\" onclick=\"window.location ='/spot/Spot_Floor.aspx?Filter=4';\" onmouseout=\"this.style.backgroundColor='black';this.style.cursor='pointer';\" onmouseover=\"ChartImg.src = '/Research/Charts/home/Spot_4.png';this.style.backgroundColor='#FF8B00';this.style.cursor='hand';\">\n",
      "                   <td>\n",
      "                    <font color=\"White\" size=\"3\">\n",
      "                     <a href=\"/spot/Spot_Floor.aspx?Filter=4\">\n",
      "                      LDPE - Film\n",
      "                     </a>\n",
      "                    </font>\n",
      "                   </td>\n",
      "                   <td class=\"ChartContent Bold Color4\" nowrap=\"nowrap\">\n",
      "                    <font color=\"White\" size=\"3\">\n",
      "                     1,543,220\n",
      "                    </font>\n",
      "                   </td>\n",
      "                   <td class=\"ChartContent Bold Color4\" nowrap=\"nowrap\">\n",
      "                    <font color=\"White\" size=\"3\">\n",
      "                     0.755\n",
      "                    </font>\n",
      "                   </td>\n",
      "                   <td class=\"ChartContent Bold Color4\" nowrap=\"nowrap\">\n",
      "                    <font color=\"White\" size=\"3\">\n",
      "                     0.810\n",
      "                    </font>\n",
      "                   </td>\n",
      "                  </tr>\n",
      "                  <tr bgcolor=\"Black\" class=\"hspotcontent\" onclick=\"window.location ='/spot/Spot_Floor.aspx?Filter=6';\" onmouseout=\"this.style.backgroundColor='black';this.style.cursor='pointer';\" onmouseover=\"ChartImg.src = '/Research/Charts/home/Spot_6.png';this.style.backgroundColor='#FF8B00';this.style.cursor='hand';\">\n",
      "                   <td>\n",
      "                    <font color=\"White\" size=\"3\">\n",
      "                     <a href=\"/spot/Spot_Floor.aspx?Filter=6\">\n",
      "                      LLDPE - Film\n",
      "                     </a>\n",
      "                    </font>\n",
      "                   </td>\n",
      "                   <td class=\"ChartContent Bold Color4\" nowrap=\"nowrap\">\n",
      "                    <font color=\"White\" size=\"3\">\n",
      "                     2,884,760\n",
      "                    </font>\n",
      "                   </td>\n",
      "                   <td class=\"ChartContent Bold Color4\" nowrap=\"nowrap\">\n",
      "                    <font color=\"White\" size=\"3\">\n",
      "                     0.670\n",
      "                    </font>\n",
      "                   </td>\n",
      "                   <td class=\"ChartContent Bold Color4\" nowrap=\"nowrap\">\n",
      "                    <font color=\"White\" size=\"3\">\n",
      "                     0.780\n",
      "                    </font>\n",
      "                   </td>\n",
      "                  </tr>\n",
      "                  <tr class=\"hspotcontent\" onclick=\"window.location ='/spot/Spot_Floor.aspx?Filter=1';\" onmouseout=\"this.style.backgroundColor='black';this.style.cursor='pointer';\" onmouseover=\"ChartImg.src = '/Research/Charts/home/Spot_1.png';this.style.backgroundColor='#FF8B00';this.style.cursor='hand';\">\n",
      "                   <td>\n",
      "                    <font color=\"White\" size=\"3\">\n",
      "                     <a href=\"/spot/Spot_Floor.aspx?Filter=1\">\n",
      "                      HMWPE - Film\n",
      "                     </a>\n",
      "                    </font>\n",
      "                   </td>\n",
      "                   <td class=\"ChartContent Bold Color4\" nowrap=\"nowrap\">\n",
      "                    <font color=\"White\" size=\"3\">\n",
      "                     871,380\n",
      "                    </font>\n",
      "                   </td>\n",
      "                   <td class=\"ChartContent Bold Color4\" nowrap=\"nowrap\">\n",
      "                    <font color=\"White\" size=\"3\">\n",
      "                     0.675\n",
      "                    </font>\n",
      "                   </td>\n",
      "                   <td class=\"ChartContent Bold Color4\" nowrap=\"nowrap\">\n",
      "                    <font color=\"White\" size=\"3\">\n",
      "                     0.735\n",
      "                    </font>\n",
      "                   </td>\n",
      "                  </tr>\n",
      "                 </table>\n",
      "                </td>\n",
      "               </tr>\n",
      "               <tr>\n",
      "                <td>\n",
      "                 <span class=\"LinkNormal RedLink\" style=\"HEIGHT: 12px\">\n",
      "                  <a href=\"/spot/Spot_Floor.aspx?Filter=-1\" id=\"ctl00_cphMain_tcMarkets_tbSpot_hplTotalLbs\">\n",
      "                   Total Spot: 14,983,724 lbs\n",
      "                  </a>\n",
      "                 </span>\n",
      "                </td>\n",
      "               </tr>\n",
      "              </table>\n",
      "             </div>\n",
      "             <div id=\"ctl00_cphMain_tcMarkets_TabPanel2\" style=\"display:none;\">\n",
      "              <table border=\"0\" cellpadding=\"3\" cellspacing=\"0\" width=\"100%\">\n",
      "               <tr>\n",
      "                <td>\n",
      "                 <table align=\"Center\" bgcolor=\"Black\" border=\"0\" bordercolor=\"Black\" cellpadding=\"3\" cellspacing=\"0\" class=\"LinkNormal WhiteLink\" id=\"ctl00_cphMain_tcMarkets_TabPanel2_dgContract\" rules=\"rows\" width=\"100%\">\n",
      "                  <tr>\n",
      "                   <td class=\"ChartContent Bold Color4\">\n",
      "                    <font color=\"White\" size=\"3\">\n",
      "                     <b>\n",
      "                      Resin\n",
      "                     </b>\n",
      "                    </font>\n",
      "                   </td>\n",
      "                   <td class=\"ChartContent Bold Color4\">\n",
      "                    <font color=\"White\" size=\"3\">\n",
      "                     <b>\n",
      "                      Bid\n",
      "                     </b>\n",
      "                    </font>\n",
      "                   </td>\n",
      "                   <td class=\"ChartContent Bold Color4\">\n",
      "                    <font color=\"White\" size=\"3\">\n",
      "                     <b>\n",
      "                      Offer\n",
      "                     </b>\n",
      "                    </font>\n",
      "                   </td>\n",
      "                  </tr>\n",
      "                  <tr class=\"hspotcontent\" onclick=\"window.location ='/spot/Spot_Floor.aspx?Filter=22';\" onmouseout=\"this.style.backgroundColor='black';this.style.cursor='pointer';\" onmouseover=\"ChartImg.src = '/Research/Charts/home/Contract_22.png';this.style.backgroundColor='#FE0002';this.style.cursor='hand';\">\n",
      "                   <td>\n",
      "                    <font color=\"White\" size=\"3\">\n",
      "                     <a href=\"/spot/Spot_Floor.aspx?Filter=22\">\n",
      "                      PP Copolymer - Inj\n",
      "                     </a>\n",
      "                    </font>\n",
      "                   </td>\n",
      "                   <td class=\"ChartContent Bold Color4\" nowrap=\"nowrap\">\n",
      "                    <font color=\"White\" size=\"3\">\n",
      "                     0.900\n",
      "                    </font>\n",
      "                   </td>\n",
      "                   <td class=\"ChartContent Bold Color4\" nowrap=\"nowrap\">\n",
      "                    <font color=\"White\" size=\"3\">\n",
      "                     1.000\n",
      "                    </font>\n",
      "                   </td>\n",
      "                  </tr>\n",
      "                  <tr bgcolor=\"Black\" class=\"hspotcontent\" onclick=\"window.location ='/spot/Spot_Floor.aspx?Filter=9';\" onmouseout=\"this.style.backgroundColor='black';this.style.cursor='pointer';\" onmouseover=\"ChartImg.src = '/Research/Charts/home/Contract_9.png';this.style.backgroundColor='#FE0002';this.style.cursor='hand';\">\n",
      "                   <td>\n",
      "                    <font color=\"White\" size=\"3\">\n",
      "                     <a href=\"/spot/Spot_Floor.aspx?Filter=9\">\n",
      "                      PP Homopolymer - Inj\n",
      "                     </a>\n",
      "                    </font>\n",
      "                   </td>\n",
      "                   <td class=\"ChartContent Bold Color4\" nowrap=\"nowrap\">\n",
      "                    <font color=\"White\" size=\"3\">\n",
      "                     0.800\n",
      "                    </font>\n",
      "                   </td>\n",
      "                   <td class=\"ChartContent Bold Color4\" nowrap=\"nowrap\">\n",
      "                    <font color=\"White\" size=\"3\">\n",
      "                     0.900\n",
      "                    </font>\n",
      "                   </td>\n",
      "                  </tr>\n",
      "                  <tr class=\"hspotcontent\" onclick=\"window.location ='/spot/Spot_Floor.aspx?Filter=10';\" onmouseout=\"this.style.backgroundColor='black';this.style.cursor='pointer';\" onmouseover=\"ChartImg.src = '/Research/Charts/home/Contract_10.png';this.style.backgroundColor='#FE0002';this.style.cursor='hand';\">\n",
      "                   <td>\n",
      "                    <font color=\"White\" size=\"3\">\n",
      "                     <a href=\"/spot/Spot_Floor.aspx?Filter=10\">\n",
      "                      LDPE - Inj\n",
      "                     </a>\n",
      "                    </font>\n",
      "                   </td>\n",
      "                   <td class=\"ChartContent Bold Color4\" nowrap=\"nowrap\">\n",
      "                    <font color=\"White\" size=\"3\">\n",
      "                     0.790\n",
      "                    </font>\n",
      "                   </td>\n",
      "                   <td class=\"ChartContent Bold Color4\" nowrap=\"nowrap\">\n",
      "                    <font color=\"White\" size=\"3\">\n",
      "                     0.840\n",
      "                    </font>\n",
      "                   </td>\n",
      "                  </tr>\n",
      "                  <tr bgcolor=\"Black\" class=\"hspotcontent\" onclick=\"window.location ='/spot/Spot_Floor.aspx?Filter=6';\" onmouseout=\"this.style.backgroundColor='black';this.style.cursor='pointer';\" onmouseover=\"ChartImg.src = '/Research/Charts/home/Contract_6.png';this.style.backgroundColor='#FE0002';this.style.cursor='hand';\">\n",
      "                   <td>\n",
      "                    <font color=\"White\" size=\"3\">\n",
      "                     <a href=\"/spot/Spot_Floor.aspx?Filter=6\">\n",
      "                      LDPE - Film\n",
      "                     </a>\n",
      "                    </font>\n",
      "                   </td>\n",
      "                   <td class=\"ChartContent Bold Color4\" nowrap=\"nowrap\">\n",
      "                    <font color=\"White\" size=\"3\">\n",
      "                     0.760\n",
      "                    </font>\n",
      "                   </td>\n",
      "                   <td class=\"ChartContent Bold Color4\" nowrap=\"nowrap\">\n",
      "                    <font color=\"White\" size=\"3\">\n",
      "                     0.810\n",
      "                    </font>\n",
      "                   </td>\n",
      "                  </tr>\n",
      "                  <tr class=\"hspotcontent\" onclick=\"window.location ='/spot/Spot_Floor.aspx?Filter=17';\" onmouseout=\"this.style.backgroundColor='black';this.style.cursor='pointer';\" onmouseover=\"ChartImg.src = '/Research/Charts/home/Contract_17.png';this.style.backgroundColor='#FE0002';this.style.cursor='hand';\">\n",
      "                   <td>\n",
      "                    <font color=\"White\" size=\"3\">\n",
      "                     <a href=\"/spot/Spot_Floor.aspx?Filter=17\">\n",
      "                      LLDPE - Inj\n",
      "                     </a>\n",
      "                    </font>\n",
      "                   </td>\n",
      "                   <td class=\"ChartContent Bold Color4\" nowrap=\"nowrap\">\n",
      "                    <font color=\"White\" size=\"3\">\n",
      "                     0.750\n",
      "                    </font>\n",
      "                   </td>\n",
      "                   <td class=\"ChartContent Bold Color4\" nowrap=\"nowrap\">\n",
      "                    <font color=\"White\" size=\"3\">\n",
      "                     0.800\n",
      "                    </font>\n",
      "                   </td>\n",
      "                  </tr>\n",
      "                  <tr bgcolor=\"Black\" class=\"hspotcontent\" onclick=\"window.location ='/spot/Spot_Floor.aspx?Filter=11';\" onmouseout=\"this.style.backgroundColor='black';this.style.cursor='pointer';\" onmouseover=\"ChartImg.src = '/Research/Charts/home/Contract_11.png';this.style.backgroundColor='#FE0002';this.style.cursor='hand';\">\n",
      "                   <td>\n",
      "                    <font color=\"White\" size=\"3\">\n",
      "                     <a href=\"/spot/Spot_Floor.aspx?Filter=11\">\n",
      "                      LLDPE - Film\n",
      "                     </a>\n",
      "                    </font>\n",
      "                   </td>\n",
      "                   <td class=\"ChartContent Bold Color4\" nowrap=\"nowrap\">\n",
      "                    <font color=\"White\" size=\"3\">\n",
      "                     0.730\n",
      "                    </font>\n",
      "                   </td>\n",
      "                   <td class=\"ChartContent Bold Color4\" nowrap=\"nowrap\">\n",
      "                    <font color=\"White\" size=\"3\">\n",
      "                     0.780\n",
      "                    </font>\n",
      "                   </td>\n",
      "                  </tr>\n",
      "                  <tr class=\"hspotcontent\" onclick=\"window.location ='/spot/Spot_Floor.aspx?Filter=3';\" onmouseout=\"this.style.backgroundColor='black';this.style.cursor='pointer';\" onmouseover=\"ChartImg.src = '/Research/Charts/home/Contract_3.png';this.style.backgroundColor='#FE0002';this.style.cursor='hand';\">\n",
      "                   <td>\n",
      "                    <font color=\"White\" size=\"3\">\n",
      "                     <a href=\"/spot/Spot_Floor.aspx?Filter=3\">\n",
      "                      HDPE - Blow Mold\n",
      "                     </a>\n",
      "                    </font>\n",
      "                   </td>\n",
      "                   <td class=\"ChartContent Bold Color4\" nowrap=\"nowrap\">\n",
      "                    <font color=\"White\" size=\"3\">\n",
      "                     0.700\n",
      "                    </font>\n",
      "                   </td>\n",
      "                   <td class=\"ChartContent Bold Color4\" nowrap=\"nowrap\">\n",
      "                    <font color=\"White\" size=\"3\">\n",
      "                     0.750\n",
      "                    </font>\n",
      "                   </td>\n",
      "                  </tr>\n",
      "                  <tr bgcolor=\"Black\" class=\"hspotcontent\" onclick=\"window.location ='/spot/Spot_Floor.aspx?Filter=5';\" onmouseout=\"this.style.backgroundColor='black';this.style.cursor='pointer';\" onmouseover=\"ChartImg.src = '/Research/Charts/home/Contract_5.png';this.style.backgroundColor='#FE0002';this.style.cursor='hand';\">\n",
      "                   <td>\n",
      "                    <font color=\"White\" size=\"3\">\n",
      "                     <a href=\"/spot/Spot_Floor.aspx?Filter=5\">\n",
      "                      HDPE - Inj\n",
      "                     </a>\n",
      "                    </font>\n",
      "                   </td>\n",
      "                   <td class=\"ChartContent Bold Color4\" nowrap=\"nowrap\">\n",
      "                    <font color=\"White\" size=\"3\">\n",
      "                     0.700\n",
      "                    </font>\n",
      "                   </td>\n",
      "                   <td class=\"ChartContent Bold Color4\" nowrap=\"nowrap\">\n",
      "                    <font color=\"White\" size=\"3\">\n",
      "                     0.750\n",
      "                    </font>\n",
      "                   </td>\n",
      "                  </tr>\n",
      "                  <tr class=\"hspotcontent\" onclick=\"window.location ='/spot/Spot_Floor.aspx?Filter=1';\" onmouseout=\"this.style.backgroundColor='black';this.style.cursor='pointer';\" onmouseover=\"ChartImg.src = '/Research/Charts/home/Contract_1.png';this.style.backgroundColor='#FE0002';this.style.cursor='hand';\">\n",
      "                   <td>\n",
      "                    <font color=\"White\" size=\"3\">\n",
      "                     <a href=\"/spot/Spot_Floor.aspx?Filter=1\">\n",
      "                      HMWPE - Film\n",
      "                     </a>\n",
      "                    </font>\n",
      "                   </td>\n",
      "                   <td class=\"ChartContent Bold Color4\" nowrap=\"nowrap\">\n",
      "                    <font color=\"White\" size=\"3\">\n",
      "                     0.650\n",
      "                    </font>\n",
      "                   </td>\n",
      "                   <td class=\"ChartContent Bold Color4\" nowrap=\"nowrap\">\n",
      "                    <font color=\"White\" size=\"3\">\n",
      "                     0.700\n",
      "                    </font>\n",
      "                   </td>\n",
      "                  </tr>\n",
      "                 </table>\n",
      "                </td>\n",
      "               </tr>\n",
      "              </table>\n",
      "             </div>\n",
      "            </div>\n",
      "           </div>\n",
      "          </td>\n",
      "          <td>\n",
      "           <img border=\"0\" name=\"ChartImg\" src=\"/Research/Charts/home/Spot_6.png\"/>\n",
      "          </td>\n",
      "         </tr>\n",
      "        </tbody>\n",
      "       </table>\n",
      "       <table align=\"center\" bgcolor=\"#666666\" border=\"0\" cellpadding=\"0\" cellspacing=\"0\" width=\"780\">\n",
      "        <tr>\n",
      "         <td width=\"385\">\n",
      "          <table border=\"0\" cellpadding=\"0\" cellspacing=\"0\" width=\"390\">\n",
      "           <tr>\n",
      "            <td background=\"/pics/home_bar_titles_r1_c1.jpg\" width=\"6\">\n",
      "             <img height=\"17px\" src=\"/pics/home_bar_titles_r1_c1.jpg\" width=\"6\"/>\n",
      "            </td>\n",
      "            <td background=\"/pics/home_bar_titles_r1_c1.jpg\" class=\"LinkNormal OrangeLink\" height=\"10px\" valign=\"middle\" width=\"384\">\n",
      "             <a href=\"/Public/Public_News.aspx\">\n",
      "              Industry News\n",
      "             </a>\n",
      "            </td>\n",
      "           </tr>\n",
      "           <tr>\n",
      "            <td colspan=\"3\" height=\"1px\">\n",
      "             <img height=\"1\" src=\"/pics/home_bar_titles_r2_c1.jpg\" width=\"390\"/>\n",
      "            </td>\n",
      "           </tr>\n",
      "          </table>\n",
      "         </td>\n",
      "         <td bgcolor=\"#666666\" valign=\"top\" width=\"395\">\n",
      "          <table border=\"0\" cellpadding=\"0\" cellspacing=\"0\" width=\"390\">\n",
      "           <tr>\n",
      "            <td align=\"left\" background=\"/pics/home_bar_titles_r1_c1.jpg\" colspan=\"4\" style=\"height: 10px\" width=\"384\">\n",
      "             <table border=\"0\" cellpadding=\"0\" cellspacing=\"0\" width=\"390\">\n",
      "              <tr>\n",
      "               <td align=\"left\" class=\"LinkNormal OrangeLink\">\n",
      "                <a href=\"/Research/WeeklyReview.aspx\">\n",
      "                 Market Updates\n",
      "                </a>\n",
      "               </td>\n",
      "               <td align=\"right\">\n",
      "                <input id=\"ctl00_cphMain_txtEmailSubs\" name=\"ctl00$cphMain$txtEmailSubs\" onfocus=\"this.value=''\" type=\"text\" value=\"Type Your Email to Join Our List\"/>\n",
      "                <input id=\"ctl00_cphMain_btnJoin\" name=\"ctl00$cphMain$btnJoin\" type=\"submit\" value=\"Join!\"/>\n",
      "               </td>\n",
      "              </tr>\n",
      "             </table>\n",
      "            </td>\n",
      "           </tr>\n",
      "           <tr>\n",
      "            <td colspan=\"3\" style=\"height: 1px\">\n",
      "             <img height=\"1\" src=\"/pics/home_bar_titles_r2_c1.jpg\" width=\"390\"/>\n",
      "            </td>\n",
      "           </tr>\n",
      "          </table>\n",
      "         </td>\n",
      "        </tr>\n",
      "        <tr>\n",
      "         <td bgcolor=\"#dbdcd7\" valign=\"top\">\n",
      "          <table border=\"0\">\n",
      "           <tr>\n",
      "            <td valign=\"top\">\n",
      "            </td>\n",
      "            <td class=\"LinkNormal\" valign=\"top\">\n",
      "             <a href=\"/Public/News_Template.aspx?Buffer=&amp;Id=9755\">\n",
      "              <span class=\"Content Color2\">\n",
      "               TotalEnergies Lifts Force Majeure on Polypropylene from Texas Facility\n",
      "              </span>\n",
      "             </a>\n",
      "             <span class=\"Content Color2\">\n",
      "              (07/12/2022)\n",
      "             </span>\n",
      "            </td>\n",
      "           </tr>\n",
      "           <tr>\n",
      "            <td valign=\"top\">\n",
      "            </td>\n",
      "            <td class=\"LinkNormal\" valign=\"top\">\n",
      "             <a href=\"/Public/News_Template.aspx?Buffer=&amp;Id=9754\">\n",
      "              <span class=\"Content Color2\">\n",
      "               Heartland Polymers Fills its First Polypropylene Railcar from New Canada Facility\n",
      "              </span>\n",
      "             </a>\n",
      "             <span class=\"Content Color2\">\n",
      "              (07/05/2022)\n",
      "             </span>\n",
      "            </td>\n",
      "           </tr>\n",
      "           <tr>\n",
      "            <td valign=\"top\">\n",
      "            </td>\n",
      "            <td class=\"LinkNormal\" valign=\"top\">\n",
      "             <a href=\"/Public/News_Template.aspx?Buffer=&amp;Id=9753\">\n",
      "              <span class=\"Content Color2\">\n",
      "               June PGP Settles...\n",
      "              </span>\n",
      "             </a>\n",
      "             <span class=\"Content Color2\">\n",
      "              (06/28/2022)\n",
      "             </span>\n",
      "            </td>\n",
      "           </tr>\n",
      "           <tr>\n",
      "            <td valign=\"top\">\n",
      "            </td>\n",
      "            <td class=\"LinkNormal\" valign=\"top\">\n",
      "             <a href=\"/Public/News_Template.aspx?Buffer=&amp;Id=9752\">\n",
      "              <span class=\"Content Color2\">\n",
      "               AmSty Seeks Another Polystyrene Increase for July Amid Recent Supply Drop, Higher Feedstock Costs\n",
      "              </span>\n",
      "             </a>\n",
      "             <span class=\"Content Color2\">\n",
      "              (06/27/2022)\n",
      "             </span>\n",
      "            </td>\n",
      "           </tr>\n",
      "           <tr>\n",
      "            <td valign=\"top\">\n",
      "            </td>\n",
      "            <td class=\"LinkNormal\" valign=\"top\">\n",
      "             <a href=\"/Public/News_Template.aspx?Buffer=&amp;Id=9751\">\n",
      "              <span class=\"Content Color2\">\n",
      "               A Second Polyethylene Producer Reduces Its June Increase, Proposes a July Increase\n",
      "              </span>\n",
      "             </a>\n",
      "             <span class=\"Content Color2\">\n",
      "              (06/17/2022)\n",
      "             </span>\n",
      "            </td>\n",
      "           </tr>\n",
      "           <tr>\n",
      "            <td valign=\"top\">\n",
      "            </td>\n",
      "            <td class=\"LinkNormal\" valign=\"top\">\n",
      "             <a href=\"/Public/News_Template.aspx?Buffer=&amp;Id=9750\">\n",
      "              <span class=\"Content Color2\">\n",
      "               LyondellBasell Reduces June Polyethylene Price Increase\n",
      "              </span>\n",
      "             </a>\n",
      "             <span class=\"Content Color2\">\n",
      "              (06/13/2022)\n",
      "             </span>\n",
      "            </td>\n",
      "           </tr>\n",
      "           <tr>\n",
      "            <td valign=\"top\">\n",
      "            </td>\n",
      "            <td class=\"LinkNormal\" valign=\"top\">\n",
      "             <a href=\"/Public/News_Template.aspx?Buffer=&amp;Id=9749\">\n",
      "              <span class=\"Content Color2\">\n",
      "               May PGP Settles...\n",
      "              </span>\n",
      "             </a>\n",
      "             <span class=\"Content Color2\">\n",
      "              (05/26/2022)\n",
      "             </span>\n",
      "            </td>\n",
      "           </tr>\n",
      "           <tr>\n",
      "            <td valign=\"top\">\n",
      "            </td>\n",
      "            <td class=\"LinkNormal\" valign=\"top\">\n",
      "             <a href=\"/Public/News_Template.aspx?Buffer=&amp;Id=9748\">\n",
      "              <span class=\"Content Color2\">\n",
      "               Above Average Hurricane Season Expected, Putting US Resin Production at Risk\n",
      "              </span>\n",
      "             </a>\n",
      "             <span class=\"Content Color2\">\n",
      "              (05/25/2022)\n",
      "             </span>\n",
      "            </td>\n",
      "           </tr>\n",
      "           <tr>\n",
      "            <td valign=\"top\">\n",
      "            </td>\n",
      "            <td class=\"LinkNormal\" valign=\"top\">\n",
      "             <a href=\"/Public/News_Template.aspx?Buffer=&amp;Id=9747\">\n",
      "              <span class=\"Content Color2\">\n",
      "               Phillips 66 to Stay on Polypropylene FM Amid Ongoing Maintenance and Repairs\n",
      "              </span>\n",
      "             </a>\n",
      "             <span class=\"Content Color2\">\n",
      "              (05/20/2022)\n",
      "             </span>\n",
      "            </td>\n",
      "           </tr>\n",
      "           <tr>\n",
      "            <td valign=\"top\">\n",
      "            </td>\n",
      "            <td class=\"LinkNormal\" valign=\"top\">\n",
      "             <a href=\"/Public/News_Template.aspx?Buffer=&amp;Id=9746\">\n",
      "              <span class=\"Content Color2\">\n",
      "               Houston Sees Record High Import/Exports for Containers in April\n",
      "              </span>\n",
      "             </a>\n",
      "             <span class=\"Content Color2\">\n",
      "              (05/19/2022)\n",
      "             </span>\n",
      "            </td>\n",
      "           </tr>\n",
      "           <tr>\n",
      "            <td valign=\"top\">\n",
      "            </td>\n",
      "            <td class=\"LinkNormal\" valign=\"top\">\n",
      "             <a href=\"/Public/News_Template.aspx?Buffer=&amp;Id=9745\">\n",
      "              <span class=\"Content Color2\">\n",
      "               LyondellBasell issues new June Polypropylene Price Increase\n",
      "              </span>\n",
      "             </a>\n",
      "             <span class=\"Content Color2\">\n",
      "              (05/13/2022)\n",
      "             </span>\n",
      "            </td>\n",
      "           </tr>\n",
      "           <tr>\n",
      "            <td valign=\"top\">\n",
      "            </td>\n",
      "            <td class=\"LinkNormal\" valign=\"top\">\n",
      "             <a href=\"/Public/News_Template.aspx?Buffer=&amp;Id=9744\">\n",
      "              <span class=\"Content Color2\">\n",
      "               LyondellBasell Lifts Force Majeure and Defers Price Hikes on Resin by One Month\n",
      "              </span>\n",
      "             </a>\n",
      "             <span class=\"Content Color2\">\n",
      "              (05/10/2022)\n",
      "             </span>\n",
      "            </td>\n",
      "           </tr>\n",
      "          </table>\n",
      "         </td>\n",
      "         <td bgcolor=\"#dbdcd7\" valign=\"top\" width=\"390\">\n",
      "          <table border=\"0\" cellpadding=\"0\" cellspacing=\"0\" width=\"390\">\n",
      "           <tr>\n",
      "            <td background=\"/pics/home_research_r1_c2.jpg\" width=\"1\">\n",
      "             <img height=\"94\" src=\"/pics/home_research_r1_c2.jpg\" width=\"1\"/>\n",
      "            </td>\n",
      "            <td align=\"center\" style=\"width: 25px\" valign=\"middle\">\n",
      "             <img height=\"94\" src=\"/images2/research_setas_r1_c1.jpg\" width=\"24\"/>\n",
      "            </td>\n",
      "            <td bgcolor=\"#333333\" width=\"1\">\n",
      "             <img height=\"94\" src=\"/pics/home_research_r1_c2.jpg\" width=\"1\"/>\n",
      "            </td>\n",
      "            <td align=\"left\" valign=\"middle\" width=\"337\">\n",
      "             <table border=\"0\" cellpadding=\"5\" cellspacing=\"1\" height=\"90\" width=\"360\">\n",
      "              <tr>\n",
      "               <td valign=\"top\">\n",
      "                <span class=\"LinkNormal Content\">\n",
      "                 <a href=\"http://www.theplasticsexchange.com/Research/Market_Update/pdf/7_15_2022.pdf\" id=\"ctl00_cphMain_hlPe\">\n",
      "                  Polyethylene\n",
      "                 </a>\n",
      "                </span>\n",
      "                <div class=\"Content Color2\" id=\"ctl00_cphMain_lblPE\">\n",
      "                 Polyethylene trading was more active and our spot pricing was steady to another cent lower. Transactions were well spread across LDPE and LLDPE, both film and injection grades, while HDPE transactions were a challenge to complete. Offgrade railcar offers streamed in and suppliers remained willing to discount heavily to move material. We have seen several rounds of aggressive sales into the export market and there was another this past week as pro...\n",
      "                 <span class=\"LinkNormal Content\">\n",
      "                  <a href=\"http://www.theplasticsexchange.com/Research/Market_Update/pdf/7_15_2022.pdf\" target=\"_blank\">\n",
      "                   <span class=\"blackbold\">\n",
      "                    [More]\n",
      "                   </span>\n",
      "                  </a>\n",
      "                 </span>\n",
      "                </div>\n",
      "               </td>\n",
      "              </tr>\n",
      "             </table>\n",
      "            </td>\n",
      "           </tr>\n",
      "           <tr>\n",
      "            <td background=\"/pics/home_research_r1_c2.jpg\">\n",
      "             <img height=\"1\" src=\"/pics/home_research_r2_c2.jpg\" width=\"1\"/>\n",
      "            </td>\n",
      "            <td align=\"center\" bgcolor=\"#333333\" style=\"width: 25px\" valign=\"middle\">\n",
      "             <img height=\"1\" src=\"/pics/home_research_r2_c1.jpg\" width=\"24\"/>\n",
      "            </td>\n",
      "            <td bgcolor=\"#333333\">\n",
      "             <img height=\"1\" src=\"/pics/home_research_r2_c2.jpg\" width=\"1\"/>\n",
      "            </td>\n",
      "            <td bgcolor=\"#333333\" valign=\"top\">\n",
      "             <img height=\"1\" src=\"/pics/home_research_r2_c1.jpg\" width=\"24\"/>\n",
      "            </td>\n",
      "           </tr>\n",
      "           <tr>\n",
      "            <td background=\"/pics/home_research_r1_c2.jpg\">\n",
      "             <img height=\"94\" src=\"/pics/home_research_r1_c2.jpg\" width=\"1\"/>\n",
      "            </td>\n",
      "            <td align=\"center\" style=\"width: 25px\" valign=\"middle\">\n",
      "             <img height=\"94\" src=\"/images2/research_setas_r1_c1.jpg\" width=\"24\"/>\n",
      "            </td>\n",
      "            <td bgcolor=\"#333333\">\n",
      "             <img height=\"94\" src=\"/pics/home_research_r1_c2.jpg\" width=\"1\"/>\n",
      "            </td>\n",
      "            <td align=\"left\" valign=\"middle\">\n",
      "             <table border=\"0\" cellpadding=\"5\" cellspacing=\"1\" height=\"90\" width=\"360\">\n",
      "              <tr>\n",
      "               <td align=\"left\" valign=\"top\">\n",
      "                <span class=\"LinkNormal Content\">\n",
      "                 <a href=\"http://www.theplasticsexchange.com/Research/Market_Update/pdf/7_15_2022.pdf\" id=\"ctl00_cphMain_hlPp\">\n",
      "                  Polypropylene\n",
      "                 </a>\n",
      "                </span>\n",
      "                <div class=\"Content Color2\" id=\"ctl00_cphMain_lblPP\">\n",
      "                 Spot Polypropylene activity was slower and prices continued to slide. Processor demand was below average and most orders were for Prime truckloads, and HoPP was sought more than CoPP. Some buyers that had been picking away at deeply discounted railcars stepped to the sidelines to just observe. Despite plenty of railcars ready to ship, truckload supply remained challenged, as much of the reseller community has been shedding their inventories to li...\n",
      "                 <span class=\"LinkNormal Content\">\n",
      "                  <a href=\"http://www.theplasticsexchange.com/Research/Market_Update/pdf/7_15_2022.pdf\" target=\"_blank\">\n",
      "                   <span class=\"blackbold\">\n",
      "                    [More]\n",
      "                   </span>\n",
      "                  </a>\n",
      "                 </span>\n",
      "                </div>\n",
      "               </td>\n",
      "              </tr>\n",
      "             </table>\n",
      "            </td>\n",
      "           </tr>\n",
      "           <tr>\n",
      "            <td background=\"/pics/home_research_r1_c2.jpg\" style=\"height: 1px\">\n",
      "             <img height=\"1\" src=\"/pics/home_research_r2_c2.jpg\" width=\"1\"/>\n",
      "            </td>\n",
      "            <td align=\"center\" bgcolor=\"#333333\" style=\"height: 1px; width: 25px;\" valign=\"middle\">\n",
      "             <img height=\"1\" src=\"/pics/home_research_r2_c1.jpg\" width=\"24\"/>\n",
      "            </td>\n",
      "            <td bgcolor=\"#333333\" style=\"height: 1px\">\n",
      "             <img height=\"1\" src=\"/pics/home_research_r2_c2.jpg\" width=\"1\"/>\n",
      "            </td>\n",
      "            <td bgcolor=\"#333333\" style=\"height: 1px\" valign=\"top\">\n",
      "             <img height=\"1\" src=\"/pics/home_research_r2_c1.jpg\" width=\"24\"/>\n",
      "            </td>\n",
      "           </tr>\n",
      "           <td background=\"/pics/home_research_r2_c1.jpg\" colspan=\"4\" style=\"height: 1px\">\n",
      "            <img height=\"1\" src=\"/pics/home_research_r2_c2.jpg\" width=\"1\"/>\n",
      "           </td>\n",
      "          </table>\n",
      "         </td>\n",
      "        </tr>\n",
      "       </table>\n",
      "       <div id=\"flag\" style=\"visibility: hidden; display: none\">\n",
      "        <span id=\"ctl00_cphMain_lblContractChartID\">\n",
      "         11\n",
      "        </span>\n",
      "        <span id=\"ctl00_cphMain_lblSpotChartID\">\n",
      "         6\n",
      "        </span>\n",
      "       </div>\n",
      "       <div id=\"flag2\" style=\"visibility: hidden; display: none\">\n",
      "        1\n",
      "       </div>\n",
      "      </td>\n",
      "     </tr>\n",
      "     <tr>\n",
      "      <td align=\"center\" class=\"FooterColor\" colspan=\"5\" style=\"height: 15px\">\n",
      "       <font color=\"white\" face=\"Verdana,Arial\" size=\"1\">\n",
      "        <a class=\"defaultlink\" href=\"/Public/Privacy_Policy.aspx\" style=\"color: White\">\n",
      "         Privacy Statement\n",
      "        </a>\n",
      "        | Copyright © 2022 The Plastics\r\n",
      "                            Exchange. LLC. | Patent Protected | All Rights Reserved.\n",
      "       </font>\n",
      "      </td>\n",
      "     </tr>\n",
      "     <!-- begin close container table -->\n",
      "    </table>\n",
      "    <!-- end close container table -->\n",
      "   </div>\n",
      "   <script type=\"text/javascript\">\n",
      "    //<![CDATA[\r\n",
      "var ctl00_mnuMain_Data = new Object();\r\n",
      "ctl00_mnuMain_Data.disappearAfter = 500;\r\n",
      "ctl00_mnuMain_Data.horizontalOffset = 0;\r\n",
      "ctl00_mnuMain_Data.verticalOffset = 0;\r\n",
      "ctl00_mnuMain_Data.hoverClass = 'DynamicMenuItemHover';\r\n",
      "ctl00_mnuMain_Data.iframeUrl = '/WebResource.axd?d=lL2WfngbGiZr2SbTaPn7Zxa1X5-fpk3L9VPILQmi2kQ5b9GUa1QdtdigiTB_wXApqbrO-3fDd0qeqI3FIInooQJwVrw1&t=636271491500000000';\r\n",
      "Sys.Application.initialize();\r\n",
      "Sys.Application.add_init(function() {\r\n",
      "    $create(AjaxControlToolkit.TabPanel, {\"headerTab\":$get(\"__tab_ctl00_cphMain_tcMarkets_tbSpot\")}, null, {\"owner\":\"ctl00_cphMain_tcMarkets\"}, $get(\"ctl00_cphMain_tcMarkets_tbSpot\"));\r\n",
      "});\r\n",
      "Sys.Application.add_init(function() {\r\n",
      "    $create(AjaxControlToolkit.TabPanel, {\"headerTab\":$get(\"__tab_ctl00_cphMain_tcMarkets_TabPanel2\")}, null, {\"owner\":\"ctl00_cphMain_tcMarkets\"}, $get(\"ctl00_cphMain_tcMarkets_TabPanel2\"));\r\n",
      "});\r\n",
      "Sys.Application.add_init(function() {\r\n",
      "    $create(AjaxControlToolkit.TabContainer, {\"activeTabIndex\":0,\"clientStateField\":$get(\"ctl00_cphMain_tcMarkets_ClientState\")}, {\"activeTabChanged\":clientActiveTabChanged}, null, $get(\"ctl00_cphMain_tcMarkets\"));\r\n",
      "});\r\n",
      "//]]>\n",
      "   </script>\n",
      "  </form>\n",
      "  <div id=\"ctl00_divGoogleTrack\">\n",
      "   <script type=\"text/javascript\">\n",
      "    var _gaq = _gaq || [];\r\n",
      "  _gaq.push(['_setAccount', 'UA-19185192-9']);\r\n",
      "  _gaq.push(['_trackPageview']);\r\n",
      "\r\n",
      "  (function() {\r\n",
      "    var ga = document.createElement('script'); ga.type = 'text/javascript'; ga.async = true;\r\n",
      "    ga.src = ('https:' == document.location.protocol ? 'https://ssl' : 'http://www') + '.google-analytics.com/ga.js';\r\n",
      "    var s = document.getElementsByTagName('script')[0]; s.parentNode.insertBefore(ga, s);\r\n",
      "  })();\n",
      "   </script>\n",
      "  </div>\n",
      "  <!-- Start of LiveChat (www.livechatinc.com) code -->\n",
      "  <script type=\"text/javascript\">\n",
      "   window.__lc = window.__lc || {};\r\n",
      "  window.__lc.license = 12720315;\r\n",
      "  ;(function(n,t,c){function i(n){return e._h?e._h.apply(null,n):e._q.push(n)};\r\n",
      "  var e={_q:[],_h:null,_v:\"2.0\",on:function(){i([\"on\",c.call(arguments)])},once:function(){\r\n",
      "  i([\"once\",c.call(arguments)])},off:function(){i([\"off\",c.call(arguments)])},\r\n",
      "  get:function(){if(!e._h)throw new Error(\"[LiveChatWidget] You can't use getters before load.\");\r\n",
      "  return i([\"get\",c.call(arguments)])},call:function(){i([\"call\",c.call(arguments)])},init:function(){\r\n",
      "  var n=t.createElement(\"script\");\r\n",
      "  n.async=!0,n.type=\"text/javascript\",\r\n",
      "  n.src=\"https://cdn.livechatinc.com/tracking.js\",t.head.appendChild(n)}};\r\n",
      "  !n.__lc.asyncInit&&e.init(),n.LiveChatWidget=n.LiveChatWidget||e}(window,document,[].slice))\n",
      "  </script>\n",
      "  <noscript>\n",
      "   <a href=\"https://www.livechatinc.com/chat-with/12720315/\" rel=\"nofollow\">\n",
      "    Chat with us\n",
      "   </a>\n",
      "   ,\r\n",
      "powered by\n",
      "   <a href=\"https://www.livechatinc.com/?welcome\" rel=\"noopener nofollow\" target=\"_blank\">\n",
      "    LiveChat\n",
      "   </a>\n",
      "  </noscript>\n",
      "  <!-- End of LiveChat code -->\n",
      " </body>\n",
      "</html>\n",
      "\n"
     ]
    }
   ],
   "source": [
    "print(soup.prettify())"
   ]
  },
  {
   "cell_type": "code",
   "execution_count": 14,
   "metadata": {},
   "outputs": [],
   "source": [
    "import pandas as pd"
   ]
  },
  {
   "cell_type": "code",
   "execution_count": 15,
   "metadata": {},
   "outputs": [
    {
     "name": "stdout",
     "output_type": "stream",
     "text": [
      "                      0          1      2      3\n",
      "0                 Resin  Total lbs    Low   High\n",
      "1    PP Copolymer - Inj    1611472  0.680  1.060\n",
      "2  PP Homopolymer - Inj    1729944  0.850  0.970\n",
      "3            HDPE - Inj    2821888  0.650  0.850\n",
      "4           LLDPE - Inj     881840  0.680  0.840\n",
      "5      HDPE - Blow Mold    2506944  0.650  0.835\n",
      "6            LDPE - Inj     132276  0.780  0.820\n",
      "7           LDPE - Film    1543220  0.755  0.810\n",
      "8          LLDPE - Film    2884760  0.670  0.780\n",
      "9          HMWPE - Film     871380  0.675  0.735\n"
     ]
    }
   ],
   "source": [
    "table = pd.read_html(\"https://www.theplasticsexchange.com/default.aspx\",attrs={'class':'LinkNormal WhiteLink'})[0] \n",
    "print(table)"
   ]
  },
  {
   "cell_type": "code",
   "execution_count": 16,
   "metadata": {},
   "outputs": [],
   "source": [
    "table.to_csv('resindata.csv')"
   ]
  },
  {
   "cell_type": "code",
   "execution_count": 17,
   "metadata": {},
   "outputs": [],
   "source": [
    "df=pd.read_csv('resindata.csv')"
   ]
  },
  {
   "cell_type": "code",
   "execution_count": 18,
   "metadata": {},
   "outputs": [
    {
     "data": {
      "text/html": [
       "<div>\n",
       "<style scoped>\n",
       "    .dataframe tbody tr th:only-of-type {\n",
       "        vertical-align: middle;\n",
       "    }\n",
       "\n",
       "    .dataframe tbody tr th {\n",
       "        vertical-align: top;\n",
       "    }\n",
       "\n",
       "    .dataframe thead th {\n",
       "        text-align: right;\n",
       "    }\n",
       "</style>\n",
       "<table border=\"1\" class=\"dataframe\">\n",
       "  <thead>\n",
       "    <tr style=\"text-align: right;\">\n",
       "      <th></th>\n",
       "      <th>Unnamed: 0</th>\n",
       "      <th>0</th>\n",
       "      <th>1</th>\n",
       "      <th>2</th>\n",
       "      <th>3</th>\n",
       "    </tr>\n",
       "  </thead>\n",
       "  <tbody>\n",
       "    <tr>\n",
       "      <th>0</th>\n",
       "      <td>0</td>\n",
       "      <td>Resin</td>\n",
       "      <td>Total lbs</td>\n",
       "      <td>Low</td>\n",
       "      <td>High</td>\n",
       "    </tr>\n",
       "    <tr>\n",
       "      <th>1</th>\n",
       "      <td>1</td>\n",
       "      <td>PP Copolymer - Inj</td>\n",
       "      <td>1611472</td>\n",
       "      <td>0.680</td>\n",
       "      <td>1.060</td>\n",
       "    </tr>\n",
       "    <tr>\n",
       "      <th>2</th>\n",
       "      <td>2</td>\n",
       "      <td>PP Homopolymer - Inj</td>\n",
       "      <td>1729944</td>\n",
       "      <td>0.850</td>\n",
       "      <td>0.970</td>\n",
       "    </tr>\n",
       "    <tr>\n",
       "      <th>3</th>\n",
       "      <td>3</td>\n",
       "      <td>HDPE - Inj</td>\n",
       "      <td>2821888</td>\n",
       "      <td>0.650</td>\n",
       "      <td>0.850</td>\n",
       "    </tr>\n",
       "    <tr>\n",
       "      <th>4</th>\n",
       "      <td>4</td>\n",
       "      <td>LLDPE - Inj</td>\n",
       "      <td>881840</td>\n",
       "      <td>0.680</td>\n",
       "      <td>0.840</td>\n",
       "    </tr>\n",
       "    <tr>\n",
       "      <th>5</th>\n",
       "      <td>5</td>\n",
       "      <td>HDPE - Blow Mold</td>\n",
       "      <td>2506944</td>\n",
       "      <td>0.650</td>\n",
       "      <td>0.835</td>\n",
       "    </tr>\n",
       "    <tr>\n",
       "      <th>6</th>\n",
       "      <td>6</td>\n",
       "      <td>LDPE - Inj</td>\n",
       "      <td>132276</td>\n",
       "      <td>0.780</td>\n",
       "      <td>0.820</td>\n",
       "    </tr>\n",
       "    <tr>\n",
       "      <th>7</th>\n",
       "      <td>7</td>\n",
       "      <td>LDPE - Film</td>\n",
       "      <td>1543220</td>\n",
       "      <td>0.755</td>\n",
       "      <td>0.810</td>\n",
       "    </tr>\n",
       "    <tr>\n",
       "      <th>8</th>\n",
       "      <td>8</td>\n",
       "      <td>LLDPE - Film</td>\n",
       "      <td>2884760</td>\n",
       "      <td>0.670</td>\n",
       "      <td>0.780</td>\n",
       "    </tr>\n",
       "    <tr>\n",
       "      <th>9</th>\n",
       "      <td>9</td>\n",
       "      <td>HMWPE - Film</td>\n",
       "      <td>871380</td>\n",
       "      <td>0.675</td>\n",
       "      <td>0.735</td>\n",
       "    </tr>\n",
       "  </tbody>\n",
       "</table>\n",
       "</div>"
      ],
      "text/plain": [
       "   Unnamed: 0                     0          1      2      3\n",
       "0           0                 Resin  Total lbs    Low   High\n",
       "1           1    PP Copolymer - Inj    1611472  0.680  1.060\n",
       "2           2  PP Homopolymer - Inj    1729944  0.850  0.970\n",
       "3           3            HDPE - Inj    2821888  0.650  0.850\n",
       "4           4           LLDPE - Inj     881840  0.680  0.840\n",
       "5           5      HDPE - Blow Mold    2506944  0.650  0.835\n",
       "6           6            LDPE - Inj     132276  0.780  0.820\n",
       "7           7           LDPE - Film    1543220  0.755  0.810\n",
       "8           8          LLDPE - Film    2884760  0.670  0.780\n",
       "9           9          HMWPE - Film     871380  0.675  0.735"
      ]
     },
     "execution_count": 18,
     "metadata": {},
     "output_type": "execute_result"
    }
   ],
   "source": [
    "df"
   ]
  },
  {
   "cell_type": "code",
   "execution_count": 19,
   "metadata": {},
   "outputs": [
    {
     "data": {
      "text/plain": [
       "Unnamed: 0     int64\n",
       "0             object\n",
       "1             object\n",
       "2             object\n",
       "3             object\n",
       "dtype: object"
      ]
     },
     "execution_count": 19,
     "metadata": {},
     "output_type": "execute_result"
    }
   ],
   "source": [
    "df.dtypes"
   ]
  },
  {
   "cell_type": "code",
   "execution_count": 20,
   "metadata": {},
   "outputs": [
    {
     "data": {
      "text/plain": [
       "(10, 5)"
      ]
     },
     "execution_count": 20,
     "metadata": {},
     "output_type": "execute_result"
    }
   ],
   "source": [
    "df.shape"
   ]
  },
  {
   "cell_type": "code",
   "execution_count": 21,
   "metadata": {},
   "outputs": [
    {
     "data": {
      "text/plain": [
       "Unnamed: 0    0\n",
       "0             0\n",
       "1             0\n",
       "2             0\n",
       "3             0\n",
       "dtype: int64"
      ]
     },
     "execution_count": 21,
     "metadata": {},
     "output_type": "execute_result"
    }
   ],
   "source": [
    "df.isnull().sum()"
   ]
  },
  {
   "cell_type": "code",
   "execution_count": 22,
   "metadata": {},
   "outputs": [],
   "source": [
    "import numpy as np\n",
    "import pandas as pd\n",
    "import scipy\n",
    "import sklearn\n",
    "from sklearn.preprocessing import LabelEncoder\n",
    "from sklearn.preprocessing import StandardScaler\n",
    "import seaborn as sns\n",
    "from sklearn.model_selection import train_test_split\n",
    "from sklearn.linear_model import LinearRegression\n",
    "from sklearn.metrics import mean_squared_error,mean_absolute_error,r2_score\n",
    "import warnings\n",
    "warnings.filterwarnings('ignore')"
   ]
  },
  {
   "cell_type": "code",
   "execution_count": 23,
   "metadata": {},
   "outputs": [
    {
     "data": {
      "text/plain": [
       "<seaborn.axisgrid.FacetGrid at 0x230fe7d4790>"
      ]
     },
     "execution_count": 23,
     "metadata": {},
     "output_type": "execute_result"
    },
    {
     "data": {
      "image/png": "[encoded data removed]",
      "text/plain": [
       "<Figure size 360x360 with 1 Axes>"
      ]
     },
     "metadata": {
      "needs_background": "light"
     },
     "output_type": "display_data"
    }
   ],
   "source": [
    "sns.displot(df['3'])"
   ]
  },
  {
   "cell_type": "code",
   "execution_count": 24,
   "metadata": {},
   "outputs": [
    {
     "data": {
      "text/plain": [
       "<seaborn.axisgrid.FacetGrid at 0x23083ad4be0>"
      ]
     },
     "execution_count": 24,
     "metadata": {},
     "output_type": "execute_result"
    },
    {
     "data": {
      "image/png": "[encoded data removed]",
      "text/plain": [
       "<Figure size 360x360 with 1 Axes>"
      ]
     },
     "metadata": {
      "needs_background": "light"
     },
     "output_type": "display_data"
    }
   ],
   "source": [
    "sns.displot(df['2'])"
   ]
  },
  {
   "cell_type": "code",
   "execution_count": 25,
   "metadata": {},
   "outputs": [
    {
     "data": {
      "text/plain": [
       "<seaborn.axisgrid.FacetGrid at 0x23083bb6fd0>"
      ]
     },
     "execution_count": 25,
     "metadata": {},
     "output_type": "execute_result"
    },
    {
     "data": {
      "image/png": "[encoded data removed]",
      "text/plain": [
       "<Figure size 360x360 with 1 Axes>"
      ]
     },
     "metadata": {
      "needs_background": "light"
     },
     "output_type": "display_data"
    }
   ],
   "source": [
    "sns.displot(df['1'])"
   ]
  },
  {
   "cell_type": "code",
   "execution_count": 26,
   "metadata": {},
   "outputs": [
    {
     "data": {
      "text/plain": [
       "<seaborn.axisgrid.FacetGrid at 0x23083c57610>"
      ]
     },
     "execution_count": 26,
     "metadata": {},
     "output_type": "execute_result"
    },
    {
     "data": {
      "image/png": "[encoded data removed]",
      "text/plain": [
       "<Figure size 360x360 with 1 Axes>"
      ]
     },
     "metadata": {
      "needs_background": "light"
     },
     "output_type": "display_data"
    }
   ],
   "source": [
    "sns.displot(df['0'])"
   ]
  },
  {
   "cell_type": "code",
   "execution_count": 27,
   "metadata": {},
   "outputs": [
    {
     "data": {
      "text/plain": [
       "Index(['Unnamed: 0', '0', '1', '2', '3'], dtype='object')"
      ]
     },
     "execution_count": 27,
     "metadata": {},
     "output_type": "execute_result"
    }
   ],
   "source": [
    "df.columns"
   ]
  },
  {
   "cell_type": "code",
   "execution_count": 28,
   "metadata": {},
   "outputs": [
    {
     "data": {
      "text/plain": [
       "0    0\n",
       "1    1\n",
       "2    2\n",
       "3    3\n",
       "4    4\n",
       "5    5\n",
       "6    6\n",
       "7    7\n",
       "8    8\n",
       "9    9\n",
       "Name: Unnamed: 0, dtype: int64"
      ]
     },
     "execution_count": 28,
     "metadata": {},
     "output_type": "execute_result"
    }
   ],
   "source": [
    "df.iloc[:,0]"
   ]
  },
  {
   "cell_type": "code",
   "execution_count": 29,
   "metadata": {},
   "outputs": [
    {
     "data": {
      "text/html": [
       "<div>\n",
       "<style scoped>\n",
       "    .dataframe tbody tr th:only-of-type {\n",
       "        vertical-align: middle;\n",
       "    }\n",
       "\n",
       "    .dataframe tbody tr th {\n",
       "        vertical-align: top;\n",
       "    }\n",
       "\n",
       "    .dataframe thead th {\n",
       "        text-align: right;\n",
       "    }\n",
       "</style>\n",
       "<table border=\"1\" class=\"dataframe\">\n",
       "  <thead>\n",
       "    <tr style=\"text-align: right;\">\n",
       "      <th></th>\n",
       "      <th>Unnamed: 0</th>\n",
       "      <th>0</th>\n",
       "      <th>1</th>\n",
       "      <th>2</th>\n",
       "      <th>3</th>\n",
       "    </tr>\n",
       "  </thead>\n",
       "  <tbody>\n",
       "    <tr>\n",
       "      <th>0</th>\n",
       "      <td>0</td>\n",
       "      <td>9</td>\n",
       "      <td>9</td>\n",
       "      <td>7</td>\n",
       "      <td>9</td>\n",
       "    </tr>\n",
       "    <tr>\n",
       "      <th>1</th>\n",
       "      <td>1</td>\n",
       "      <td>7</td>\n",
       "      <td>2</td>\n",
       "      <td>3</td>\n",
       "      <td>8</td>\n",
       "    </tr>\n",
       "    <tr>\n",
       "      <th>2</th>\n",
       "      <td>2</td>\n",
       "      <td>8</td>\n",
       "      <td>3</td>\n",
       "      <td>6</td>\n",
       "      <td>7</td>\n",
       "    </tr>\n",
       "    <tr>\n",
       "      <th>3</th>\n",
       "      <td>3</td>\n",
       "      <td>1</td>\n",
       "      <td>5</td>\n",
       "      <td>0</td>\n",
       "      <td>6</td>\n",
       "    </tr>\n",
       "    <tr>\n",
       "      <th>4</th>\n",
       "      <td>4</td>\n",
       "      <td>6</td>\n",
       "      <td>8</td>\n",
       "      <td>3</td>\n",
       "      <td>5</td>\n",
       "    </tr>\n",
       "    <tr>\n",
       "      <th>5</th>\n",
       "      <td>5</td>\n",
       "      <td>0</td>\n",
       "      <td>4</td>\n",
       "      <td>0</td>\n",
       "      <td>4</td>\n",
       "    </tr>\n",
       "    <tr>\n",
       "      <th>6</th>\n",
       "      <td>6</td>\n",
       "      <td>4</td>\n",
       "      <td>0</td>\n",
       "      <td>5</td>\n",
       "      <td>3</td>\n",
       "    </tr>\n",
       "    <tr>\n",
       "      <th>7</th>\n",
       "      <td>7</td>\n",
       "      <td>3</td>\n",
       "      <td>1</td>\n",
       "      <td>4</td>\n",
       "      <td>2</td>\n",
       "    </tr>\n",
       "    <tr>\n",
       "      <th>8</th>\n",
       "      <td>8</td>\n",
       "      <td>5</td>\n",
       "      <td>6</td>\n",
       "      <td>1</td>\n",
       "      <td>1</td>\n",
       "    </tr>\n",
       "    <tr>\n",
       "      <th>9</th>\n",
       "      <td>9</td>\n",
       "      <td>2</td>\n",
       "      <td>7</td>\n",
       "      <td>2</td>\n",
       "      <td>0</td>\n",
       "    </tr>\n",
       "  </tbody>\n",
       "</table>\n",
       "</div>"
      ],
      "text/plain": [
       "   Unnamed: 0  0  1  2  3\n",
       "0           0  9  9  7  9\n",
       "1           1  7  2  3  8\n",
       "2           2  8  3  6  7\n",
       "3           3  1  5  0  6\n",
       "4           4  6  8  3  5\n",
       "5           5  0  4  0  4\n",
       "6           6  4  0  5  3\n",
       "7           7  3  1  4  2\n",
       "8           8  5  6  1  1\n",
       "9           9  2  7  2  0"
      ]
     },
     "execution_count": 29,
     "metadata": {},
     "output_type": "execute_result"
    }
   ],
   "source": [
    "lencode=LabelEncoder()\n",
    "df['0']=lencode.fit_transform(df['0'])\n",
    "df['1']=lencode.fit_transform(df['1'])\n",
    "df['2']=lencode.fit_transform(df['2'])\n",
    "df['3']=lencode.fit_transform(df['3'])\n",
    "df"
   ]
  },
  {
   "cell_type": "code",
   "execution_count": 30,
   "metadata": {},
   "outputs": [
    {
     "data": {
      "image/png": "[encoded data removed]",
      "text/plain": [
       "<Figure size 432x288 with 1 Axes>"
      ]
     },
     "metadata": {
      "needs_background": "light"
     },
     "output_type": "display_data"
    }
   ],
   "source": [
    "for i in df.columns:\n",
    "    sns.distplot(df[i])"
   ]
  },
  {
   "cell_type": "code",
   "execution_count": 31,
   "metadata": {},
   "outputs": [
    {
     "data": {
      "text/plain": [
       "<AxesSubplot:xlabel='0', ylabel='1'>"
      ]
     },
     "execution_count": 31,
     "metadata": {},
     "output_type": "execute_result"
    },
    {
     "data": {
      "image/png": "[encoded data removed]",
      "text/plain": [
       "<Figure size 432x288 with 1 Axes>"
      ]
     },
     "metadata": {
      "needs_background": "light"
     },
     "output_type": "display_data"
    }
   ],
   "source": [
    "sns.regplot(x=\"0\",y=\"1\",data=df)"
   ]
  },
  {
   "cell_type": "code",
   "execution_count": 32,
   "metadata": {},
   "outputs": [
    {
     "data": {
      "text/plain": [
       "<AxesSubplot:xlabel='0', ylabel='2'>"
      ]
     },
     "execution_count": 32,
     "metadata": {},
     "output_type": "execute_result"
    },
    {
     "data": {
      "image/png": "[encoded data removed]",
      "text/plain": [
       "<Figure size 432x288 with 1 Axes>"
      ]
     },
     "metadata": {
      "needs_background": "light"
     },
     "output_type": "display_data"
    }
   ],
   "source": [
    "sns.regplot(x=\"0\",y=\"2\",data=df)"
   ]
  },
  {
   "cell_type": "code",
   "execution_count": 33,
   "metadata": {},
   "outputs": [
    {
     "data": {
      "text/plain": [
       "<AxesSubplot:xlabel='0', ylabel='3'>"
      ]
     },
     "execution_count": 33,
     "metadata": {},
     "output_type": "execute_result"
    },
    {
     "data": {
      "image/png": "[encoded data removed]",
      "text/plain": [
       "<Figure size 432x288 with 1 Axes>"
      ]
     },
     "metadata": {
      "needs_background": "light"
     },
     "output_type": "display_data"
    }
   ],
   "source": [
    "sns.regplot(x=\"0\",y=\"3\",data=df)"
   ]
  },
  {
   "cell_type": "code",
   "execution_count": 34,
   "metadata": {},
   "outputs": [
    {
     "data": {
      "text/plain": [
       "<AxesSubplot:xlabel='1', ylabel='3'>"
      ]
     },
     "execution_count": 34,
     "metadata": {},
     "output_type": "execute_result"
    },
    {
     "data": {
      "image/png": "[encoded data removed]",
      "text/plain": [
       "<Figure size 432x288 with 1 Axes>"
      ]
     },
     "metadata": {
      "needs_background": "light"
     },
     "output_type": "display_data"
    }
   ],
   "source": [
    "sns.regplot(x=\"1\",y=\"3\",data=df)"
   ]
  },
  {
   "cell_type": "code",
   "execution_count": 35,
   "metadata": {},
   "outputs": [
    {
     "data": {
      "text/plain": [
       "<AxesSubplot:xlabel='1', ylabel='2'>"
      ]
     },
     "execution_count": 35,
     "metadata": {},
     "output_type": "execute_result"
    },
    {
     "data": {
      "image/png": "[encoded data removed]",
      "text/plain": [
       "<Figure size 432x288 with 1 Axes>"
      ]
     },
     "metadata": {
      "needs_background": "light"
     },
     "output_type": "display_data"
    }
   ],
   "source": [
    "sns.regplot(x=\"1\",y=\"2\",data=df)"
   ]
  },
  {
   "cell_type": "code",
   "execution_count": 36,
   "metadata": {},
   "outputs": [
    {
     "data": {
      "text/plain": [
       "<AxesSubplot:xlabel='0', ylabel='2'>"
      ]
     },
     "execution_count": 36,
     "metadata": {},
     "output_type": "execute_result"
    },
    {
     "data": {
      "image/png": "[encoded data removed]",
      "text/plain": [
       "<Figure size 432x288 with 1 Axes>"
      ]
     },
     "metadata": {
      "needs_background": "light"
     },
     "output_type": "display_data"
    }
   ],
   "source": [
    "sns.scatterplot(x=\"0\",y=\"2\",data=df)"
   ]
  },
  {
   "cell_type": "code",
   "execution_count": 37,
   "metadata": {},
   "outputs": [
    {
     "data": {
      "text/plain": [
       "<AxesSubplot:xlabel='1', ylabel='2'>"
      ]
     },
     "execution_count": 37,
     "metadata": {},
     "output_type": "execute_result"
    },
    {
     "data": {
      "image/png": "[encoded data removed]",
      "text/plain": [
       "<Figure size 432x288 with 1 Axes>"
      ]
     },
     "metadata": {
      "needs_background": "light"
     },
     "output_type": "display_data"
    }
   ],
   "source": [
    "sns.scatterplot(x=\"1\",y=\"2\",data=df)"
   ]
  },
  {
   "cell_type": "code",
   "execution_count": 38,
   "metadata": {},
   "outputs": [
    {
     "data": {
      "text/plain": [
       "<seaborn.axisgrid.FacetGrid at 0x230fe6cdd90>"
      ]
     },
     "execution_count": 38,
     "metadata": {},
     "output_type": "execute_result"
    },
    {
     "data": {
      "image/png": "[encoded data removed]",
      "text/plain": [
       "<Figure size 360x360 with 1 Axes>"
      ]
     },
     "metadata": {
      "needs_background": "light"
     },
     "output_type": "display_data"
    }
   ],
   "source": [
    "sns.lmplot(x='1',y='3',data=df)"
   ]
  },
  {
   "cell_type": "code",
   "execution_count": 39,
   "metadata": {},
   "outputs": [
    {
     "data": {
      "text/plain": [
       "<seaborn.axisgrid.PairGrid at 0x23084f385e0>"
      ]
     },
     "execution_count": 39,
     "metadata": {},
     "output_type": "execute_result"
    },
    {
     "data": {
      "image/png": "[encoded data removed]",
      "text/plain": [
       "<Figure size 900x900 with 30 Axes>"
      ]
     },
     "metadata": {
      "needs_background": "light"
     },
     "output_type": "display_data"
    }
   ],
   "source": [
    "sns.pairplot(df)"
   ]
  },
  {
   "cell_type": "code",
   "execution_count": 40,
   "metadata": {},
   "outputs": [
    {
     "data": {
      "text/html": [
       "<div>\n",
       "<style scoped>\n",
       "    .dataframe tbody tr th:only-of-type {\n",
       "        vertical-align: middle;\n",
       "    }\n",
       "\n",
       "    .dataframe tbody tr th {\n",
       "        vertical-align: top;\n",
       "    }\n",
       "\n",
       "    .dataframe thead th {\n",
       "        text-align: right;\n",
       "    }\n",
       "</style>\n",
       "<table border=\"1\" class=\"dataframe\">\n",
       "  <thead>\n",
       "    <tr style=\"text-align: right;\">\n",
       "      <th></th>\n",
       "      <th>Unnamed: 0</th>\n",
       "      <th>0</th>\n",
       "      <th>1</th>\n",
       "      <th>2</th>\n",
       "      <th>3</th>\n",
       "    </tr>\n",
       "  </thead>\n",
       "  <tbody>\n",
       "    <tr>\n",
       "      <th>count</th>\n",
       "      <td>10.00000</td>\n",
       "      <td>10.00000</td>\n",
       "      <td>10.00000</td>\n",
       "      <td>10.000000</td>\n",
       "      <td>10.00000</td>\n",
       "    </tr>\n",
       "    <tr>\n",
       "      <th>mean</th>\n",
       "      <td>4.50000</td>\n",
       "      <td>4.50000</td>\n",
       "      <td>4.50000</td>\n",
       "      <td>3.100000</td>\n",
       "      <td>4.50000</td>\n",
       "    </tr>\n",
       "    <tr>\n",
       "      <th>std</th>\n",
       "      <td>3.02765</td>\n",
       "      <td>3.02765</td>\n",
       "      <td>3.02765</td>\n",
       "      <td>2.424413</td>\n",
       "      <td>3.02765</td>\n",
       "    </tr>\n",
       "    <tr>\n",
       "      <th>min</th>\n",
       "      <td>0.00000</td>\n",
       "      <td>0.00000</td>\n",
       "      <td>0.00000</td>\n",
       "      <td>0.000000</td>\n",
       "      <td>0.00000</td>\n",
       "    </tr>\n",
       "    <tr>\n",
       "      <th>25%</th>\n",
       "      <td>2.25000</td>\n",
       "      <td>2.25000</td>\n",
       "      <td>2.25000</td>\n",
       "      <td>1.250000</td>\n",
       "      <td>2.25000</td>\n",
       "    </tr>\n",
       "    <tr>\n",
       "      <th>50%</th>\n",
       "      <td>4.50000</td>\n",
       "      <td>4.50000</td>\n",
       "      <td>4.50000</td>\n",
       "      <td>3.000000</td>\n",
       "      <td>4.50000</td>\n",
       "    </tr>\n",
       "    <tr>\n",
       "      <th>75%</th>\n",
       "      <td>6.75000</td>\n",
       "      <td>6.75000</td>\n",
       "      <td>6.75000</td>\n",
       "      <td>4.750000</td>\n",
       "      <td>6.75000</td>\n",
       "    </tr>\n",
       "    <tr>\n",
       "      <th>max</th>\n",
       "      <td>9.00000</td>\n",
       "      <td>9.00000</td>\n",
       "      <td>9.00000</td>\n",
       "      <td>7.000000</td>\n",
       "      <td>9.00000</td>\n",
       "    </tr>\n",
       "  </tbody>\n",
       "</table>\n",
       "</div>"
      ],
      "text/plain": [
       "       Unnamed: 0         0         1          2         3\n",
       "count    10.00000  10.00000  10.00000  10.000000  10.00000\n",
       "mean      4.50000   4.50000   4.50000   3.100000   4.50000\n",
       "std       3.02765   3.02765   3.02765   2.424413   3.02765\n",
       "min       0.00000   0.00000   0.00000   0.000000   0.00000\n",
       "25%       2.25000   2.25000   2.25000   1.250000   2.25000\n",
       "50%       4.50000   4.50000   4.50000   3.000000   4.50000\n",
       "75%       6.75000   6.75000   6.75000   4.750000   6.75000\n",
       "max       9.00000   9.00000   9.00000   7.000000   9.00000"
      ]
     },
     "execution_count": 40,
     "metadata": {},
     "output_type": "execute_result"
    }
   ],
   "source": [
    "df.describe()"
   ]
  },
  {
   "cell_type": "code",
   "execution_count": 41,
   "metadata": {},
   "outputs": [
    {
     "data": {
      "text/plain": [
       "Unnamed: 0    0.000000\n",
       "0             0.000000\n",
       "1             0.000000\n",
       "2             0.205846\n",
       "3             0.000000\n",
       "dtype: float64"
      ]
     },
     "execution_count": 41,
     "metadata": {},
     "output_type": "execute_result"
    }
   ],
   "source": [
    "df.skew()"
   ]
  },
  {
   "cell_type": "code",
   "execution_count": 42,
   "metadata": {},
   "outputs": [],
   "source": [
    "from scipy.stats import zscore"
   ]
  },
  {
   "cell_type": "code",
   "execution_count": 43,
   "metadata": {},
   "outputs": [
    {
     "name": "stdout",
     "output_type": "stream",
     "text": [
      "(array([], dtype=int64), array([], dtype=int64))\n"
     ]
    }
   ],
   "source": [
    "dfzscore=np.abs(zscore(df))\n",
    "print(np.where(dfzscore>3))"
   ]
  },
  {
   "cell_type": "code",
   "execution_count": 44,
   "metadata": {},
   "outputs": [],
   "source": [
    "dfnew=df[(dfzscore<3).all(axis=1)]"
   ]
  },
  {
   "cell_type": "code",
   "execution_count": 45,
   "metadata": {},
   "outputs": [
    {
     "name": "stdout",
     "output_type": "stream",
     "text": [
      "dfnew.shape= (10, 5)\n"
     ]
    }
   ],
   "source": [
    "print('dfnew.shape=',dfnew.shape)"
   ]
  },
  {
   "cell_type": "code",
   "execution_count": 46,
   "metadata": {},
   "outputs": [],
   "source": [
    "df=dfnew"
   ]
  },
  {
   "cell_type": "code",
   "execution_count": 47,
   "metadata": {},
   "outputs": [
    {
     "data": {
      "text/html": [
       "<div>\n",
       "<style scoped>\n",
       "    .dataframe tbody tr th:only-of-type {\n",
       "        vertical-align: middle;\n",
       "    }\n",
       "\n",
       "    .dataframe tbody tr th {\n",
       "        vertical-align: top;\n",
       "    }\n",
       "\n",
       "    .dataframe thead th {\n",
       "        text-align: right;\n",
       "    }\n",
       "</style>\n",
       "<table border=\"1\" class=\"dataframe\">\n",
       "  <thead>\n",
       "    <tr style=\"text-align: right;\">\n",
       "      <th></th>\n",
       "      <th>Unnamed: 0</th>\n",
       "      <th>0</th>\n",
       "      <th>1</th>\n",
       "      <th>2</th>\n",
       "      <th>3</th>\n",
       "    </tr>\n",
       "  </thead>\n",
       "  <tbody>\n",
       "    <tr>\n",
       "      <th>Unnamed: 0</th>\n",
       "      <td>1.000000</td>\n",
       "      <td>-0.600000</td>\n",
       "      <td>-0.115152</td>\n",
       "      <td>-0.431410</td>\n",
       "      <td>-1.000000</td>\n",
       "    </tr>\n",
       "    <tr>\n",
       "      <th>0</th>\n",
       "      <td>-0.600000</td>\n",
       "      <td>1.000000</td>\n",
       "      <td>0.200000</td>\n",
       "      <td>0.779565</td>\n",
       "      <td>0.600000</td>\n",
       "    </tr>\n",
       "    <tr>\n",
       "      <th>1</th>\n",
       "      <td>-0.115152</td>\n",
       "      <td>0.200000</td>\n",
       "      <td>1.000000</td>\n",
       "      <td>-0.068117</td>\n",
       "      <td>0.115152</td>\n",
       "    </tr>\n",
       "    <tr>\n",
       "      <th>2</th>\n",
       "      <td>-0.431410</td>\n",
       "      <td>0.779565</td>\n",
       "      <td>-0.068117</td>\n",
       "      <td>1.000000</td>\n",
       "      <td>0.431410</td>\n",
       "    </tr>\n",
       "    <tr>\n",
       "      <th>3</th>\n",
       "      <td>-1.000000</td>\n",
       "      <td>0.600000</td>\n",
       "      <td>0.115152</td>\n",
       "      <td>0.431410</td>\n",
       "      <td>1.000000</td>\n",
       "    </tr>\n",
       "  </tbody>\n",
       "</table>\n",
       "</div>"
      ],
      "text/plain": [
       "            Unnamed: 0         0         1         2         3\n",
       "Unnamed: 0    1.000000 -0.600000 -0.115152 -0.431410 -1.000000\n",
       "0            -0.600000  1.000000  0.200000  0.779565  0.600000\n",
       "1            -0.115152  0.200000  1.000000 -0.068117  0.115152\n",
       "2            -0.431410  0.779565 -0.068117  1.000000  0.431410\n",
       "3            -1.000000  0.600000  0.115152  0.431410  1.000000"
      ]
     },
     "execution_count": 47,
     "metadata": {},
     "output_type": "execute_result"
    }
   ],
   "source": [
    "df.corr()"
   ]
  },
  {
   "cell_type": "code",
   "execution_count": 48,
   "metadata": {},
   "outputs": [
    {
     "data": {
      "text/plain": [
       "<AxesSubplot:>"
      ]
     },
     "execution_count": 48,
     "metadata": {},
     "output_type": "execute_result"
    },
    {
     "data": {
      "image/png": "[encoded data removed]",
      "text/plain": [
       "<Figure size 432x288 with 2 Axes>"
      ]
     },
     "metadata": {
      "needs_background": "light"
     },
     "output_type": "display_data"
    }
   ],
   "source": [
    "sns.heatmap(df.corr(),cmap='Blues',annot=True)"
   ]
  },
  {
   "cell_type": "code",
   "execution_count": 49,
   "metadata": {},
   "outputs": [],
   "source": [
    "from statsmodels.stats.outliers_influence import variance_inflation_factor"
   ]
  },
  {
   "cell_type": "code",
   "execution_count": 50,
   "metadata": {},
   "outputs": [
    {
     "data": {
      "text/html": [
       "<div>\n",
       "<style scoped>\n",
       "    .dataframe tbody tr th:only-of-type {\n",
       "        vertical-align: middle;\n",
       "    }\n",
       "\n",
       "    .dataframe tbody tr th {\n",
       "        vertical-align: top;\n",
       "    }\n",
       "\n",
       "    .dataframe thead th {\n",
       "        text-align: right;\n",
       "    }\n",
       "</style>\n",
       "<table border=\"1\" class=\"dataframe\">\n",
       "  <thead>\n",
       "    <tr style=\"text-align: right;\">\n",
       "      <th></th>\n",
       "      <th>Unnamed: 0</th>\n",
       "      <th>0</th>\n",
       "      <th>1</th>\n",
       "      <th>2</th>\n",
       "    </tr>\n",
       "  </thead>\n",
       "  <tbody>\n",
       "    <tr>\n",
       "      <th>0</th>\n",
       "      <td>0</td>\n",
       "      <td>9</td>\n",
       "      <td>9</td>\n",
       "      <td>7</td>\n",
       "    </tr>\n",
       "    <tr>\n",
       "      <th>1</th>\n",
       "      <td>1</td>\n",
       "      <td>7</td>\n",
       "      <td>2</td>\n",
       "      <td>3</td>\n",
       "    </tr>\n",
       "    <tr>\n",
       "      <th>2</th>\n",
       "      <td>2</td>\n",
       "      <td>8</td>\n",
       "      <td>3</td>\n",
       "      <td>6</td>\n",
       "    </tr>\n",
       "    <tr>\n",
       "      <th>3</th>\n",
       "      <td>3</td>\n",
       "      <td>1</td>\n",
       "      <td>5</td>\n",
       "      <td>0</td>\n",
       "    </tr>\n",
       "    <tr>\n",
       "      <th>4</th>\n",
       "      <td>4</td>\n",
       "      <td>6</td>\n",
       "      <td>8</td>\n",
       "      <td>3</td>\n",
       "    </tr>\n",
       "    <tr>\n",
       "      <th>5</th>\n",
       "      <td>5</td>\n",
       "      <td>0</td>\n",
       "      <td>4</td>\n",
       "      <td>0</td>\n",
       "    </tr>\n",
       "    <tr>\n",
       "      <th>6</th>\n",
       "      <td>6</td>\n",
       "      <td>4</td>\n",
       "      <td>0</td>\n",
       "      <td>5</td>\n",
       "    </tr>\n",
       "    <tr>\n",
       "      <th>7</th>\n",
       "      <td>7</td>\n",
       "      <td>3</td>\n",
       "      <td>1</td>\n",
       "      <td>4</td>\n",
       "    </tr>\n",
       "    <tr>\n",
       "      <th>8</th>\n",
       "      <td>8</td>\n",
       "      <td>5</td>\n",
       "      <td>6</td>\n",
       "      <td>1</td>\n",
       "    </tr>\n",
       "    <tr>\n",
       "      <th>9</th>\n",
       "      <td>9</td>\n",
       "      <td>2</td>\n",
       "      <td>7</td>\n",
       "      <td>2</td>\n",
       "    </tr>\n",
       "  </tbody>\n",
       "</table>\n",
       "</div>"
      ],
      "text/plain": [
       "   Unnamed: 0  0  1  2\n",
       "0           0  9  9  7\n",
       "1           1  7  2  3\n",
       "2           2  8  3  6\n",
       "3           3  1  5  0\n",
       "4           4  6  8  3\n",
       "5           5  0  4  0\n",
       "6           6  4  0  5\n",
       "7           7  3  1  4\n",
       "8           8  5  6  1\n",
       "9           9  2  7  2"
      ]
     },
     "execution_count": 50,
     "metadata": {},
     "output_type": "execute_result"
    }
   ],
   "source": [
    "x=df.iloc[:,0:-1]\n",
    "x"
   ]
  },
  {
   "cell_type": "code",
   "execution_count": 51,
   "metadata": {},
   "outputs": [
    {
     "data": {
      "text/plain": [
       "0    9\n",
       "1    8\n",
       "2    7\n",
       "3    6\n",
       "4    5\n",
       "5    4\n",
       "6    3\n",
       "7    2\n",
       "8    1\n",
       "9    0\n",
       "Name: 3, dtype: int32"
      ]
     },
     "execution_count": 51,
     "metadata": {},
     "output_type": "execute_result"
    }
   ],
   "source": [
    "y=df.iloc[:,-1]\n",
    "y"
   ]
  },
  {
   "cell_type": "code",
   "execution_count": 52,
   "metadata": {},
   "outputs": [],
   "source": [
    "def vif_calc():\n",
    "    vif=pd.DataFrame()\n",
    "    vif['VIF Factor']=[variance_inflation_factor(x.values,i) for i in range(x.shape[1])]\n",
    "    vif['features']=x.columns\n",
    "    print(vif)"
   ]
  },
  {
   "cell_type": "code",
   "execution_count": 53,
   "metadata": {},
   "outputs": [
    {
     "name": "stdout",
     "output_type": "stream",
     "text": [
      "   VIF Factor    features\n",
      "0    2.020151  Unnamed: 0\n",
      "1   11.131575           0\n",
      "2    3.658956           1\n",
      "3    8.216416           2\n"
     ]
    }
   ],
   "source": [
    "vif_calc()"
   ]
  },
  {
   "cell_type": "code",
   "execution_count": 54,
   "metadata": {},
   "outputs": [
    {
     "data": {
      "text/plain": [
       "<AxesSubplot:>"
      ]
     },
     "execution_count": 54,
     "metadata": {},
     "output_type": "execute_result"
    },
    {
     "data": {
      "image/png": "[encoded data removed]",
      "text/plain": [
       "<Figure size 432x288 with 2 Axes>"
      ]
     },
     "metadata": {
      "needs_background": "light"
     },
     "output_type": "display_data"
    }
   ],
   "source": [
    "sns.heatmap(df.corr(),annot=True)"
   ]
  },
  {
   "cell_type": "code",
   "execution_count": 55,
   "metadata": {},
   "outputs": [
    {
     "data": {
      "text/plain": [
       "array([[-1.5666989 ,  1.5666989 ,  1.5666989 ,  1.69565217],\n",
       "       [-1.21854359,  0.87038828, -0.87038828, -0.04347826],\n",
       "       [-0.87038828,  1.21854359, -0.52223297,  1.26086957],\n",
       "       [-0.52223297, -1.21854359,  0.17407766, -1.34782609],\n",
       "       [-0.17407766,  0.52223297,  1.21854359, -0.04347826],\n",
       "       [ 0.17407766, -1.5666989 , -0.17407766, -1.34782609],\n",
       "       [ 0.52223297, -0.17407766, -1.5666989 ,  0.82608696],\n",
       "       [ 0.87038828, -0.52223297, -1.21854359,  0.39130435],\n",
       "       [ 1.21854359,  0.17407766,  0.52223297, -0.91304348],\n",
       "       [ 1.5666989 , -0.87038828,  0.87038828, -0.47826087]])"
      ]
     },
     "execution_count": 55,
     "metadata": {},
     "output_type": "execute_result"
    }
   ],
   "source": [
    "scale=StandardScaler()\n",
    "x=scale.fit_transform(x)\n",
    "x"
   ]
  },
  {
   "cell_type": "code",
   "execution_count": 56,
   "metadata": {},
   "outputs": [],
   "source": [
    "xtrain,xtest,ytrain,ytest=train_test_split(x,y,test_size=0.30,random_state=55)"
   ]
  },
  {
   "cell_type": "code",
   "execution_count": 57,
   "metadata": {},
   "outputs": [
    {
     "data": {
      "text/plain": [
       "array([-2.87228132e+00,  4.47668233e-17, -2.69524192e-16,  1.08926465e-15])"
      ]
     },
     "execution_count": 57,
     "metadata": {},
     "output_type": "execute_result"
    }
   ],
   "source": [
    "lr=LinearRegression()\n",
    "lr.fit(xtrain,ytrain)\n",
    "lr.coef_"
   ]
  },
  {
   "cell_type": "code",
   "execution_count": 58,
   "metadata": {},
   "outputs": [
    {
     "data": {
      "text/plain": [
       "4.5"
      ]
     },
     "execution_count": 58,
     "metadata": {},
     "output_type": "execute_result"
    }
   ],
   "source": [
    "lr.intercept_"
   ]
  },
  {
   "cell_type": "code",
   "execution_count": 59,
   "metadata": {},
   "outputs": [
    {
     "data": {
      "text/plain": [
       "1.0"
      ]
     },
     "execution_count": 59,
     "metadata": {},
     "output_type": "execute_result"
    }
   ],
   "source": [
    "lr.score(xtrain,ytrain)"
   ]
  },
  {
   "cell_type": "code",
   "execution_count": 60,
   "metadata": {},
   "outputs": [
    {
     "data": {
      "text/plain": [
       "array([5., 9., 7.])"
      ]
     },
     "execution_count": 60,
     "metadata": {},
     "output_type": "execute_result"
    }
   ],
   "source": [
    "pred=lr.predict(xtest)\n",
    "pred"
   ]
  },
  {
   "cell_type": "code",
   "execution_count": 61,
   "metadata": {},
   "outputs": [
    {
     "name": "stdout",
     "output_type": "stream",
     "text": [
      "Predicted values [5. 9. 7.]\n"
     ]
    }
   ],
   "source": [
    "print('Predicted values',pred)"
   ]
  },
  {
   "cell_type": "code",
   "execution_count": 62,
   "metadata": {},
   "outputs": [
    {
     "data": {
      "text/html": [
       "<div>\n",
       "<style scoped>\n",
       "    .dataframe tbody tr th:only-of-type {\n",
       "        vertical-align: middle;\n",
       "    }\n",
       "\n",
       "    .dataframe tbody tr th {\n",
       "        vertical-align: top;\n",
       "    }\n",
       "\n",
       "    .dataframe thead th {\n",
       "        text-align: right;\n",
       "    }\n",
       "</style>\n",
       "<table border=\"1\" class=\"dataframe\">\n",
       "  <thead>\n",
       "    <tr style=\"text-align: right;\">\n",
       "      <th></th>\n",
       "      <th>0</th>\n",
       "    </tr>\n",
       "  </thead>\n",
       "  <tbody>\n",
       "    <tr>\n",
       "      <th>0</th>\n",
       "      <td>5.0</td>\n",
       "    </tr>\n",
       "    <tr>\n",
       "      <th>1</th>\n",
       "      <td>9.0</td>\n",
       "    </tr>\n",
       "    <tr>\n",
       "      <th>2</th>\n",
       "      <td>7.0</td>\n",
       "    </tr>\n",
       "  </tbody>\n",
       "</table>\n",
       "</div>"
      ],
      "text/plain": [
       "     0\n",
       "0  5.0\n",
       "1  9.0\n",
       "2  7.0"
      ]
     },
     "execution_count": 62,
     "metadata": {},
     "output_type": "execute_result"
    }
   ],
   "source": [
    "preddf=pd.DataFrame(data=pred)\n",
    "preddf"
   ]
  },
  {
   "cell_type": "code",
   "execution_count": 63,
   "metadata": {},
   "outputs": [
    {
     "data": {
      "text/plain": [
       "1.0"
      ]
     },
     "execution_count": 63,
     "metadata": {},
     "output_type": "execute_result"
    }
   ],
   "source": [
    "lr.score(xtest,ytest)"
   ]
  },
  {
   "cell_type": "code",
   "execution_count": 64,
   "metadata": {},
   "outputs": [
    {
     "name": "stdout",
     "output_type": "stream",
     "text": [
      "Mean absolute error:: 2.9605947323337506e-16\n",
      "Mean squared error:: 2.629536350736706e-31\n",
      "Root mean square:: 5.127900497022837e-16\n"
     ]
    }
   ],
   "source": [
    "print('Mean absolute error::',mean_absolute_error(ytest,pred)) \n",
    "print('Mean squared error::',mean_squared_error(ytest,pred))\n",
    "print('Root mean square::',np.sqrt(mean_squared_error(ytest,pred)))"
   ]
  },
  {
   "cell_type": "code",
   "execution_count": 65,
   "metadata": {},
   "outputs": [
    {
     "name": "stdout",
     "output_type": "stream",
     "text": [
      "R2 score:: 1.0\n"
     ]
    }
   ],
   "source": [
    "print('R2 score::',r2_score(ytest,pred))"
   ]
  },
  {
   "cell_type": "code",
   "execution_count": 66,
   "metadata": {},
   "outputs": [
    {
     "data": {
      "text/plain": [
       "0.9999999982243671"
      ]
     },
     "execution_count": 66,
     "metadata": {},
     "output_type": "execute_result"
    }
   ],
   "source": [
    "from sklearn.linear_model import Lasso,Ridge\n",
    "ls=Lasso(alpha=0.0001)\n",
    "ls.fit(xtrain,ytrain)\n",
    "ls.score(xtrain,ytrain)"
   ]
  },
  {
   "cell_type": "code",
   "execution_count": 67,
   "metadata": {},
   "outputs": [
    {
     "data": {
      "text/plain": [
       "array([-2.87216029,  0.        , -0.        , -0.        ])"
      ]
     },
     "execution_count": 67,
     "metadata": {},
     "output_type": "execute_result"
    }
   ],
   "source": [
    "ls.coef_"
   ]
  },
  {
   "cell_type": "code",
   "execution_count": 68,
   "metadata": {},
   "outputs": [
    {
     "data": {
      "text/plain": [
       "0.9999999991621354"
      ]
     },
     "execution_count": 68,
     "metadata": {},
     "output_type": "execute_result"
    }
   ],
   "source": [
    "rd=Ridge(alpha=0.0001)\n",
    "rd.fit(xtrain,ytrain)\n",
    "rd.score(xtrain,ytrain)"
   ]
  },
  {
   "cell_type": "code",
   "execution_count": 69,
   "metadata": {},
   "outputs": [
    {
     "data": {
      "text/plain": [
       "array([-2.87214210e+00,  8.34218033e-05, -1.67129208e-04, -1.98149946e-04])"
      ]
     },
     "execution_count": 69,
     "metadata": {},
     "output_type": "execute_result"
    }
   ],
   "source": [
    "rd.coef_"
   ]
  },
  {
   "cell_type": "code",
   "execution_count": 70,
   "metadata": {},
   "outputs": [
    {
     "name": "stdout",
     "output_type": "stream",
     "text": [
      "0.9999999933461938\n"
     ]
    },
    {
     "data": {
      "text/plain": [
       "array([-2.87204073e+00,  0.00000000e+00, -2.14131742e-05, -0.00000000e+00])"
      ]
     },
     "execution_count": 70,
     "metadata": {},
     "output_type": "execute_result"
    }
   ],
   "source": [
    "from sklearn.linear_model import ElasticNet\n",
    "enr=ElasticNet(alpha=0.0001)\n",
    "enr.fit(xtrain,ytrain)\n",
    "enrpred=enr.predict(xtest)\n",
    "print(enr.score(xtrain,ytrain))\n",
    "enr.coef_"
   ]
  },
  {
   "cell_type": "code",
   "execution_count": 71,
   "metadata": {},
   "outputs": [],
   "source": [
    "from sklearn.svm import SVR"
   ]
  },
  {
   "cell_type": "code",
   "execution_count": 72,
   "metadata": {},
   "outputs": [],
   "source": [
    "svr = SVR(kernel = 'linear')\n",
    "svr.fit(xtrain,ytrain)\n",
    "svr.score(xtrain,ytrain)\n",
    "pred_y=svr.predict(xtest)\n",
    "svr = SVR(kernel = 'poly')\n",
    "svr.fit(xtrain,ytrain)\n",
    "svr.score(xtrain,ytrain)\n",
    "pred_y=svr.predict(xtest)\n",
    "svr = SVR(kernel = 'rbf')\n",
    "svr.fit(xtrain,ytrain)\n",
    "svr.score(xtrain,ytrain)\n",
    "pred_y=svr.predict(xtest)"
   ]
  },
  {
   "cell_type": "code",
   "execution_count": 73,
   "metadata": {},
   "outputs": [
    {
     "name": "stdout",
     "output_type": "stream",
     "text": [
      "0.9988067031102871\n",
      "0.6535944910718687\n",
      "0.5457718679198387\n"
     ]
    }
   ],
   "source": [
    "from sklearn.svm import SVR\n",
    "kernellist=['linear','poly','rbf']\n",
    "for i in kernellist:\n",
    "    sv=SVR(kernel=i)\n",
    "    sv.fit(xtrain,ytrain)\n",
    "    print(sv.score(xtrain,ytrain))"
   ]
  },
  {
   "cell_type": "code",
   "execution_count": 74,
   "metadata": {},
   "outputs": [
    {
     "name": "stdout",
     "output_type": "stream",
     "text": [
      "multiclass\n",
      "multiclass\n",
      "multiclass\n"
     ]
    }
   ],
   "source": [
    "from sklearn import preprocessing\n",
    "from sklearn import utils\n",
    "\n",
    "lab_enc = preprocessing.LabelEncoder()\n",
    "encoded = lab_enc.fit_transform(ytrain)\n",
    "\n",
    "print(utils.multiclass.type_of_target(ytrain))\n",
    "\n",
    "print(utils.multiclass.type_of_target(ytrain.astype('int')))\n",
    "\n",
    "print(utils.multiclass.type_of_target(encoded))"
   ]
  },
  {
   "cell_type": "code",
   "execution_count": 75,
   "metadata": {},
   "outputs": [
    {
     "data": {
      "text/plain": [
       "0.9999998473936784"
      ]
     },
     "execution_count": 75,
     "metadata": {},
     "output_type": "execute_result"
    }
   ],
   "source": [
    "from sklearn.model_selection import GridSearchCV\n",
    "from sklearn.model_selection import cross_val_score\n",
    "cv_score=cross_val_score(rd,x,y,cv=5)\n",
    "cv_mean=cv_score.mean()\n",
    "cv_mean"
   ]
  },
  {
   "cell_type": "code",
   "execution_count": 76,
   "metadata": {},
   "outputs": [
    {
     "data": {
      "text/plain": [
       "0.999999868325188"
      ]
     },
     "execution_count": 76,
     "metadata": {},
     "output_type": "execute_result"
    }
   ],
   "source": [
    "cv_score=cross_val_score(ls,x,y,cv=5)\n",
    "cv_mean=cv_score.mean()\n",
    "cv_mean"
   ]
  },
  {
   "cell_type": "code",
   "execution_count": 77,
   "metadata": {},
   "outputs": [
    {
     "name": "stdout",
     "output_type": "stream",
     "text": [
      "{'criterion': 'mse', 'max_features': 'auto'}\n"
     ]
    }
   ],
   "source": [
    "from sklearn.model_selection import GridSearchCV\n",
    "from sklearn.ensemble import RandomForestRegressor\n",
    "\n",
    "parameters = {'criterion':['mse', 'mae'],'max_features':[\"auto\", \"sqrt\", \"log2\"]}\n",
    "rf =RandomForestRegressor()\n",
    "clf = GridSearchCV(rf,parameters)\n",
    "clf.fit(xtrain,ytrain)\n",
    "\n",
    "print(clf.best_params_)"
   ]
  },
  {
   "cell_type": "code",
   "execution_count": 78,
   "metadata": {},
   "outputs": [
    {
     "name": "stdout",
     "output_type": "stream",
     "text": [
      "Mean absolute error:: 2.9605947323337506e-16\n",
      "Mean squared error:: 2.629536350736706e-31\n",
      "Root mean square:: 5.127900497022837e-16\n"
     ]
    }
   ],
   "source": [
    "print('Mean absolute error::',mean_absolute_error(ytest,pred)) \n",
    "print('Mean squared error::',mean_squared_error(ytest,pred))\n",
    "print('Root mean square::',np.sqrt(mean_squared_error(ytest,pred)))"
   ]
  },
  {
   "cell_type": "code",
   "execution_count": 85,
   "metadata": {},
   "outputs": [],
   "source": [
    "import matplotlib.pyplot as plt\n",
    "import numpy as np"
   ]
  },
  {
   "cell_type": "code",
   "execution_count": 79,
   "metadata": {},
   "outputs": [
    {
     "name": "stdout",
     "output_type": "stream",
     "text": [
      "Requirement already satisfied: mapie in c:\\users\\bisue\\anaconda2\\lib\\site-packages (0.4.1)\n",
      "Requirement already satisfied: numpy>=1.21 in c:\\users\\bisue\\anaconda2\\lib\\site-packages (from mapie) (1.23.1)\n",
      "Requirement already satisfied: packaging in c:\\users\\bisue\\anaconda2\\lib\\site-packages (from mapie) (20.4)\n",
      "Requirement already satisfied: scikit-learn in c:\\users\\bisue\\anaconda2\\lib\\site-packages (from mapie) (0.24.2)\n",
      "Requirement already satisfied: six in c:\\users\\bisue\\anaconda2\\lib\\site-packages (from packaging->mapie) (1.15.0)\n",
      "Requirement already satisfied: pyparsing>=2.0.2 in c:\\users\\bisue\\anaconda2\\lib\\site-packages (from packaging->mapie) (2.4.7)\n",
      "Requirement already satisfied: threadpoolctl>=2.0.0 in c:\\users\\bisue\\anaconda2\\lib\\site-packages (from scikit-learn->mapie) (2.1.0)\n",
      "Requirement already satisfied: joblib>=0.11 in c:\\users\\bisue\\anaconda2\\lib\\site-packages (from scikit-learn->mapie) (0.17.0)\n",
      "Requirement already satisfied: scipy>=0.19.1 in c:\\users\\bisue\\anaconda2\\lib\\site-packages (from scikit-learn->mapie) (1.5.2)\n"
     ]
    }
   ],
   "source": [
    "!pip install mapie"
   ]
  },
  {
   "cell_type": "code",
   "execution_count": 80,
   "metadata": {},
   "outputs": [],
   "source": [
    "import numpy as np\n",
    "from sklearn.linear_model import LinearRegression\n",
    "from sklearn.datasets import make_regression\n",
    "\n",
    "regressor = LinearRegression()\n",
    "X, y = make_regression(n_samples=10, n_features=1, noise=20, random_state=59)\n"
   ]
  },
  {
   "cell_type": "code",
   "execution_count": 89,
   "metadata": {},
   "outputs": [
    {
     "name": "stdout",
     "output_type": "stream",
     "text": [
      "Requirement already satisfied: tensorflow in c:\\users\\bisue\\anaconda2\\lib\\site-packages (2.9.1)\n",
      "Requirement already satisfied: keras<2.10.0,>=2.9.0rc0 in c:\\users\\bisue\\anaconda2\\lib\\site-packages (from tensorflow) (2.9.0)\n",
      "Requirement already satisfied: setuptools in c:\\users\\bisue\\anaconda2\\lib\\site-packages (from tensorflow) (50.3.1.post20201107)\n",
      "Requirement already satisfied: tensorflow-io-gcs-filesystem>=0.23.1 in c:\\users\\bisue\\anaconda2\\lib\\site-packages (from tensorflow) (0.26.0)\n",
      "Requirement already satisfied: six>=1.12.0 in c:\\users\\bisue\\anaconda2\\lib\\site-packages (from tensorflow) (1.15.0)\n",
      "Requirement already satisfied: grpcio<2.0,>=1.24.3 in c:\\users\\bisue\\anaconda2\\lib\\site-packages (from tensorflow) (1.47.0)\n",
      "Requirement already satisfied: flatbuffers<2,>=1.12 in c:\\users\\bisue\\anaconda2\\lib\\site-packages (from tensorflow) (1.12)\n",
      "Requirement already satisfied: packaging in c:\\users\\bisue\\anaconda2\\lib\\site-packages (from tensorflow) (20.4)\n",
      "Requirement already satisfied: typing-extensions>=3.6.6 in c:\\users\\bisue\\anaconda2\\lib\\site-packages (from tensorflow) (3.7.4.3)\n",
      "Requirement already satisfied: protobuf<3.20,>=3.9.2 in c:\\users\\bisue\\anaconda2\\lib\\site-packages (from tensorflow) (3.19.4)\n",
      "Requirement already satisfied: wrapt>=1.11.0 in c:\\users\\bisue\\anaconda2\\lib\\site-packages (from tensorflow) (1.11.2)\n",
      "Requirement already satisfied: numpy>=1.20 in c:\\users\\bisue\\anaconda2\\lib\\site-packages (from tensorflow) (1.23.1)\n",
      "Requirement already satisfied: google-pasta>=0.1.1 in c:\\users\\bisue\\anaconda2\\lib\\site-packages (from tensorflow) (0.2.0)\n",
      "Requirement already satisfied: absl-py>=1.0.0 in c:\\users\\bisue\\anaconda2\\lib\\site-packages (from tensorflow) (1.2.0)\n",
      "Requirement already satisfied: termcolor>=1.1.0 in c:\\users\\bisue\\anaconda2\\lib\\site-packages (from tensorflow) (1.1.0)\n",
      "Requirement already satisfied: gast<=0.4.0,>=0.2.1 in c:\\users\\bisue\\anaconda2\\lib\\site-packages (from tensorflow) (0.4.0)\n",
      "Requirement already satisfied: keras-preprocessing>=1.1.1 in c:\\users\\bisue\\anaconda2\\lib\\site-packages (from tensorflow) (1.1.2)\n",
      "Requirement already satisfied: tensorflow-estimator<2.10.0,>=2.9.0rc0 in c:\\users\\bisue\\anaconda2\\lib\\site-packages (from tensorflow) (2.9.0)\n",
      "Requirement already satisfied: libclang>=13.0.0 in c:\\users\\bisue\\anaconda2\\lib\\site-packages (from tensorflow) (14.0.1)\n",
      "Requirement already satisfied: h5py>=2.9.0 in c:\\users\\bisue\\anaconda2\\lib\\site-packages (from tensorflow) (2.10.0)\n",
      "Requirement already satisfied: astunparse>=1.6.0 in c:\\users\\bisue\\anaconda2\\lib\\site-packages (from tensorflow) (1.6.3)\n",
      "Requirement already satisfied: opt-einsum>=2.3.2 in c:\\users\\bisue\\anaconda2\\lib\\site-packages (from tensorflow) (3.3.0)\n",
      "Requirement already satisfied: tensorboard<2.10,>=2.9 in c:\\users\\bisue\\anaconda2\\lib\\site-packages (from tensorflow) (2.9.1)\n",
      "Requirement already satisfied: pyparsing>=2.0.2 in c:\\users\\bisue\\anaconda2\\lib\\site-packages (from packaging->tensorflow) (2.4.7)\n",
      "Requirement already satisfied: wheel<1.0,>=0.23.0 in c:\\users\\bisue\\anaconda2\\lib\\site-packages (from astunparse>=1.6.0->tensorflow) (0.35.1)\n",
      "Requirement already satisfied: google-auth<3,>=1.6.3 in c:\\users\\bisue\\anaconda2\\lib\\site-packages (from tensorboard<2.10,>=2.9->tensorflow) (2.9.1)\n",
      "Requirement already satisfied: tensorboard-data-server<0.7.0,>=0.6.0 in c:\\users\\bisue\\anaconda2\\lib\\site-packages (from tensorboard<2.10,>=2.9->tensorflow) (0.6.1)\n",
      "Requirement already satisfied: werkzeug>=1.0.1 in c:\\users\\bisue\\anaconda2\\lib\\site-packages (from tensorboard<2.10,>=2.9->tensorflow) (1.0.1)\n",
      "Requirement already satisfied: markdown>=2.6.8 in c:\\users\\bisue\\anaconda2\\lib\\site-packages (from tensorboard<2.10,>=2.9->tensorflow) (3.4.1)\n",
      "Requirement already satisfied: google-auth-oauthlib<0.5,>=0.4.1 in c:\\users\\bisue\\anaconda2\\lib\\site-packages (from tensorboard<2.10,>=2.9->tensorflow) (0.4.6)\n",
      "Requirement already satisfied: requests<3,>=2.21.0 in c:\\users\\bisue\\anaconda2\\lib\\site-packages (from tensorboard<2.10,>=2.9->tensorflow) (2.24.0)\n",
      "Requirement already satisfied: tensorboard-plugin-wit>=1.6.0 in c:\\users\\bisue\\anaconda2\\lib\\site-packages (from tensorboard<2.10,>=2.9->tensorflow) (1.8.1)\n",
      "Requirement already satisfied: rsa<5,>=3.1.4; python_version >= \"3.6\" in c:\\users\\bisue\\anaconda2\\lib\\site-packages (from google-auth<3,>=1.6.3->tensorboard<2.10,>=2.9->tensorflow) (4.9)\n",
      "Requirement already satisfied: cachetools<6.0,>=2.0.0 in c:\\users\\bisue\\anaconda2\\lib\\site-packages (from google-auth<3,>=1.6.3->tensorboard<2.10,>=2.9->tensorflow) (5.2.0)\n",
      "Requirement already satisfied: pyasn1-modules>=0.2.1 in c:\\users\\bisue\\anaconda2\\lib\\site-packages (from google-auth<3,>=1.6.3->tensorboard<2.10,>=2.9->tensorflow) (0.2.8)\n",
      "Requirement already satisfied: importlib-metadata>=4.4; python_version < \"3.10\" in c:\\users\\bisue\\anaconda2\\lib\\site-packages (from markdown>=2.6.8->tensorboard<2.10,>=2.9->tensorflow) (4.12.0)\n",
      "Requirement already satisfied: requests-oauthlib>=0.7.0 in c:\\users\\bisue\\anaconda2\\lib\\site-packages (from google-auth-oauthlib<0.5,>=0.4.1->tensorboard<2.10,>=2.9->tensorflow) (1.3.1)\n",
      "Requirement already satisfied: urllib3!=1.25.0,!=1.25.1,<1.26,>=1.21.1 in c:\\users\\bisue\\anaconda2\\lib\\site-packages (from requests<3,>=2.21.0->tensorboard<2.10,>=2.9->tensorflow) (1.25.11)\n",
      "Requirement already satisfied: chardet<4,>=3.0.2 in c:\\users\\bisue\\anaconda2\\lib\\site-packages (from requests<3,>=2.21.0->tensorboard<2.10,>=2.9->tensorflow) (3.0.4)\n",
      "Requirement already satisfied: certifi>=2017.4.17 in c:\\users\\bisue\\anaconda2\\lib\\site-packages (from requests<3,>=2.21.0->tensorboard<2.10,>=2.9->tensorflow) (2020.6.20)\n",
      "Requirement already satisfied: idna<3,>=2.5 in c:\\users\\bisue\\anaconda2\\lib\\site-packages (from requests<3,>=2.21.0->tensorboard<2.10,>=2.9->tensorflow) (2.10)\n",
      "Requirement already satisfied: pyasn1>=0.1.3 in c:\\users\\bisue\\anaconda2\\lib\\site-packages (from rsa<5,>=3.1.4; python_version >= \"3.6\"->google-auth<3,>=1.6.3->tensorboard<2.10,>=2.9->tensorflow) (0.4.8)\n",
      "Requirement already satisfied: zipp>=0.5 in c:\\users\\bisue\\anaconda2\\lib\\site-packages (from importlib-metadata>=4.4; python_version < \"3.10\"->markdown>=2.6.8->tensorboard<2.10,>=2.9->tensorflow) (3.4.0)\n",
      "Requirement already satisfied: oauthlib>=3.0.0 in c:\\users\\bisue\\anaconda2\\lib\\site-packages (from requests-oauthlib>=0.7.0->google-auth-oauthlib<0.5,>=0.4.1->tensorboard<2.10,>=2.9->tensorflow) (3.2.0)\n"
     ]
    }
   ],
   "source": [
    "!pip install tensorflow"
   ]
  },
  {
   "cell_type": "code",
   "execution_count": 90,
   "metadata": {},
   "outputs": [],
   "source": [
    "import tensorflow as tf"
   ]
  },
  {
   "cell_type": "code",
   "execution_count": 91,
   "metadata": {},
   "outputs": [],
   "source": [
    "from tensorflow import keras\n",
    "from tensorflow.keras import layers"
   ]
  },
  {
   "cell_type": "code",
   "execution_count": 92,
   "metadata": {},
   "outputs": [
    {
     "name": "stdout",
     "output_type": "stream",
     "text": [
      "Model: \"sequential\"\n",
      "_________________________________________________________________\n",
      " Layer (type)                Output Shape              Param #   \n",
      "=================================================================\n",
      " lstm (LSTM)                 (None, 64)                23808     \n",
      "                                                                 \n",
      " batch_normalization (BatchN  (None, 64)               256       \n",
      " ormalization)                                                   \n",
      "                                                                 \n",
      " dense (Dense)               (None, 10)                650       \n",
      "                                                                 \n",
      "=================================================================\n",
      "Total params: 24,714\n",
      "Trainable params: 24,586\n",
      "Non-trainable params: 128\n",
      "_________________________________________________________________\n",
      "None\n"
     ]
    }
   ],
   "source": [
    "model = keras.Sequential()\n",
    "model.add(layers.LSTM(64, input_shape=(None, 28)))\n",
    "model.add(layers.BatchNormalization())\n",
    "model.add(layers.Dense(10))\n",
    "print(model.summary())"
   ]
  },
  {
   "cell_type": "code",
   "execution_count": 93,
   "metadata": {},
   "outputs": [
    {
     "name": "stdout",
     "output_type": "stream",
     "text": [
      "Downloading data from https://storage.googleapis.com/tensorflow/tf-keras-datasets/mnist.npz\n",
      "11490434/11490434 [==============================] - 38s 3us/step\n"
     ]
    }
   ],
   "source": [
    "mnist = keras.datasets.mnist\n",
    "(xtrain, ytrain), (xtest, ytest) = mnist.load_data()\n",
    "xtrain, xtest = xtrain/255.0, xtest/255.0\n",
    "x_validate, y_validate = xtest[:-10], ytest[:-10]\n",
    "xtest, ytest = xtest[-10:], ytest[-10:]"
   ]
  },
  {
   "cell_type": "code",
   "execution_count": 94,
   "metadata": {},
   "outputs": [],
   "source": [
    "model.compile(\n",
    "    loss=keras.losses.SparseCategoricalCrossentropy(from_logits=True),\n",
    "    optimizer=\"sgd\",\n",
    "    metrics=[\"accuracy\"],\n",
    ")"
   ]
  },
  {
   "cell_type": "code",
   "execution_count": 97,
   "metadata": {},
   "outputs": [
    {
     "name": "stdout",
     "output_type": "stream",
     "text": [
      "Epoch 1/10\n",
      "938/938 [==============================] - 23s 21ms/step - loss: 0.9423 - accuracy: 0.6991 - val_loss: 0.5228 - val_accuracy: 0.8393\n",
      "Epoch 2/10\n",
      "938/938 [==============================] - 19s 20ms/step - loss: 0.3934 - accuracy: 0.8810 - val_loss: 0.2679 - val_accuracy: 0.9169\n",
      "Epoch 3/10\n",
      "938/938 [==============================] - 20s 22ms/step - loss: 0.2547 - accuracy: 0.9238 - val_loss: 0.2753 - val_accuracy: 0.9117\n",
      "Epoch 4/10\n",
      "938/938 [==============================] - 21s 22ms/step - loss: 0.2002 - accuracy: 0.9395 - val_loss: 0.1565 - val_accuracy: 0.9524\n",
      "Epoch 5/10\n",
      "938/938 [==============================] - 21s 22ms/step - loss: 0.1682 - accuracy: 0.9499 - val_loss: 0.2623 - val_accuracy: 0.9147\n",
      "Epoch 6/10\n",
      "938/938 [==============================] - 21s 23ms/step - loss: 0.1482 - accuracy: 0.9548 - val_loss: 0.1664 - val_accuracy: 0.9454\n",
      "Epoch 7/10\n",
      "938/938 [==============================] - 21s 22ms/step - loss: 0.1326 - accuracy: 0.9596 - val_loss: 0.1596 - val_accuracy: 0.9444\n",
      "Epoch 8/10\n",
      "938/938 [==============================] - 21s 22ms/step - loss: 0.1221 - accuracy: 0.9628 - val_loss: 0.1223 - val_accuracy: 0.9625\n",
      "Epoch 9/10\n",
      "938/938 [==============================] - 21s 22ms/step - loss: 0.1118 - accuracy: 0.9659 - val_loss: 0.0951 - val_accuracy: 0.9699\n",
      "Epoch 10/10\n",
      "938/938 [==============================] - 21s 22ms/step - loss: 0.1045 - accuracy: 0.9683 - val_loss: 0.1040 - val_accuracy: 0.9670\n"
     ]
    },
    {
     "data": {
      "text/plain": [
       "<keras.callbacks.History at 0x2308ee23040>"
      ]
     },
     "execution_count": 97,
     "metadata": {},
     "output_type": "execute_result"
    }
   ],
   "source": [
    "model.fit(\n",
    "    xtrain, ytrain, validation_data=(x_validate, y_validate), batch_size=64, epochs=10\n",
    ")"
   ]
  },
  {
   "cell_type": "code",
   "execution_count": 98,
   "metadata": {},
   "outputs": [
    {
     "name": "stdout",
     "output_type": "stream",
     "text": [
      "1/1 [==============================] - 1s 796ms/step\n",
      "[7] 7\n",
      "1/1 [==============================] - 0s 26ms/step\n",
      "[8] 8\n",
      "1/1 [==============================] - 0s 25ms/step\n",
      "[9] 9\n",
      "1/1 [==============================] - 0s 30ms/step\n",
      "[0] 0\n",
      "1/1 [==============================] - 0s 33ms/step\n",
      "[1] 1\n",
      "1/1 [==============================] - 0s 37ms/step\n",
      "[2] 2\n",
      "1/1 [==============================] - 0s 33ms/step\n",
      "[3] 3\n",
      "1/1 [==============================] - 0s 27ms/step\n",
      "[4] 4\n",
      "1/1 [==============================] - 0s 30ms/step\n",
      "[5] 5\n",
      "1/1 [==============================] - 0s 28ms/step\n",
      "[6] 6\n"
     ]
    }
   ],
   "source": [
    "for i in range(10):\n",
    "    result = tf.argmax(model.predict(tf.expand_dims(xtest[i], 0)), axis=1)\n",
    "    print(result.numpy(), ytest[i])"
   ]
  }
 ],
 "metadata": {
  "kernelspec": {
   "display_name": "Python 3",
   "language": "python",
   "name": "python3"
  },
  "language_info": {
   "codemirror_mode": {
    "name": "ipython",
    "version": 3
   },
   "file_extension": ".py",
   "mimetype": "text/x-python",
   "name": "python",
   "nbconvert_exporter": "python",
   "pygments_lexer": "ipython3",
   "version": "3.8.5"
  }
 },
 "nbformat": 4,
 "nbformat_minor": 4
}
